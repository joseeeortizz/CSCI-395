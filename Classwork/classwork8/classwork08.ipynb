{
 "cells": [
  {
   "metadata": {},
   "cell_type": "markdown",
   "source": "# Classwork 8: Data Visualization",
   "id": "ad9dea62581951f7"
  },
  {
   "metadata": {},
   "cell_type": "code",
   "outputs": [],
   "execution_count": null,
   "source": [
    "\"\"\"\n",
    "Name: Jose Miguel Ortiz\n",
    "Email: jose.ortiz60@lagcc.cuny.edu\n",
    "Pod: 1st right\n",
    "Date: 03/04/2025\n",
    "\n",
    "\"\"\"\n"
   ],
   "id": "edc304eea6876dc7"
  },
  {
   "metadata": {},
   "cell_type": "markdown",
   "source": [
    "- Create a choropleth map!\n",
    "- Visualize home prices relative to income\n",
    "- Instructions on Github"
   ],
   "id": "f4839cc5e4873e2e"
  },
  {
   "metadata": {},
   "cell_type": "code",
   "outputs": [],
   "execution_count": null,
   "source": [
    "import pandas as pd\n",
    "import folium\n",
    "import requests\n",
    "\n",
    "%matplotlib inline\n",
    "\n",
    "if __name__ == '__main__':\n",
    "\n",
    "    states_geo\n",
    "\n",
    "#\n",
    "\"https://github.com/joseeeortizz/CSCI-395/blob/9150ed25a28bee454e91aa467b28982a97087e30/Classwork/classwork8/state-median-home-price.csv\"\n",
    "state-median-home-price.csv\n",
    "#  states median home prices\n",
    "state,median_price\n",
    "\n",
    "\n",
    "#\n",
    "\"Classwork/classwork8/median-household-income.csv\"\n",
    "median-household-income.csv\n",
    "# median household income\n",
    "state,median_income\n",
    "\n",
    "\n",
    "# states_geo\n",
    "\"https://github.com/joseeeortizz/CSCI-395/blob/9150ed25a28bee454e91aa467b28982a97087e30/Classwork/classwork8/us-state-codes.csv\"\n",
    "us-state-codes.csv\n",
    "# US states codes\n",
    "state,code\n",
    "\n",
    "#states_df\n",
    "\n"
   ],
   "id": "ad02fe940ec711ce"
  },
  {
   "metadata": {},
   "cell_type": "code",
   "outputs": [],
   "execution_count": null,
   "source": [
    "\n",
    "import pandas as pd\n",
    "import folium\n",
    "\n",
    "if __name__ == '__main__':\n",
    "\n",
    "\n",
    "    for col in state_median_home_price.columns:\n",
    "        choropleth = folium.Choropleth(\n",
    "            geo_data=school_geo,\n",
    "            name=\"choropleth\",\n",
    "            data=dfSingleYear,\n",
    "            columns=[\"District\", col],\n",
    "            key_on=\"properties.school_dist\",\n",
    "            fill_color=\"Reds\",\n",
    "            fill_opacity=0.75,\n",
    "            line_opacity=0.75,\n",
    "            threshold_scale=[0, 20, 40, 60, 80, 100],\n",
    "            legend_name=\"Legend Title\",\n",
    "            highlight=True\n",
    "        ).add_to(m)\n",
    "\n",
    "    folium.LayerControl().add_to(m)"
   ],
   "id": "c37dd8283461205b"
  }
 ],
 "metadata": {
  "kernelspec": {
   "display_name": "Python 3",
   "language": "python",
   "name": "python3"
  },
  "language_info": {
   "codemirror_mode": {
    "name": "ipython",
    "version": 2
   },
   "file_extension": ".py",
   "mimetype": "text/x-python",
   "name": "python",
   "nbconvert_exporter": "python",
   "pygments_lexer": "ipython2",
   "version": "2.7.6"
  }
 },
 "nbformat": 4,
 "nbformat_minor": 5
}
