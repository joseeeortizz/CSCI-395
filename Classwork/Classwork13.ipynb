{
 "cells": [
  {
   "metadata": {},
   "cell_type": "markdown",
   "source": [
    "# Classwork 13\n",
    "\n",
    "\n",
    "## Part 1\n",
    "During class we introduced a principal components analysis (PCA) of the MNIST dataset. Inspired by Python Data Science Handbook Section 5.9, you will be taking a deeper dive into how PCA works for this specific example, and make some visualizations along the way.\n",
    "\n",
    "Some guidelines:\n",
    "\n",
    "- You can download the MNIST datset directly sklearn's [`datasets.load_digits` function](https://scikit-learn.org/stable/modules/generated/sklearn.datasets.load_digits.html).\n",
    "- Use scikit-learn's [`PCA` class](https://scikit-learn.org/stable/modules/generated/sklearn.decomposition.PCA.html) to plot `explained_variance_ratio_`.\n",
    "- You can use seaborn's [`lineplot` function](https://seaborn.pydata.org/generated/seaborn.lineplot.html).\n",
    "- seaborn's [`scatterplot` function](https://seaborn.pydata.org/generated/seaborn.scatterplot.html) to make scatter plots. The `hue` and `style` parameters can conveniently assign different color and markers to each category.\n",
    "- What is the intrinsic dimension of this dataset?\n",
    "\n",
    "## Part 2\n",
    "Instructions in slides for lecture 17.\n",
    "\n",
    "## Submission\n",
    "Submit a jupyter notebook, and feel free to add markdown/text cells to explain your results."
   ],
   "id": "ba51cf7b2ab1c9da"
  },
  {
   "metadata": {},
   "cell_type": "code",
   "outputs": [],
   "execution_count": null,
   "source": [
    "'''\n",
    "\n",
    "'''"
   ],
   "id": "2b0183c029df48dc"
  }
 ],
 "metadata": {
  "kernelspec": {
   "display_name": "Python 3",
   "language": "python",
   "name": "python3"
  },
  "language_info": {
   "codemirror_mode": {
    "name": "ipython",
    "version": 2
   },
   "file_extension": ".py",
   "mimetype": "text/x-python",
   "name": "python",
   "nbconvert_exporter": "python",
   "pygments_lexer": "ipython2",
   "version": "2.7.6"
  }
 },
 "nbformat": 4,
 "nbformat_minor": 5
}
