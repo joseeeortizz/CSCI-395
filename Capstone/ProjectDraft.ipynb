{
 "cells": [
  {
   "metadata": {},
   "cell_type": "markdown",
   "source": [
    "\n",
    "# <center> CSCI 395 - Capstone Project<center>\n",
    "\n",
    "### <center> José Miguel Ortiz\n",
    "### <center> Hunter College <center>\n",
    "### <center> CSCI 395: Introduction to Data Science <center>\n",
    "### <center> Prof. Adrián Soto Cambres\n",
    "### <center> Date: 04/21/2025\n"
   ],
   "id": "239991b52296924b"
  },
  {
   "metadata": {
    "ExecuteTime": {
     "end_time": "2025-04-22T21:51:46.894914Z",
     "start_time": "2025-04-22T21:51:46.891091Z"
    }
   },
   "cell_type": "code",
   "source": [
    "'''\n",
    "Name: Jose Miguel Ortiz\n",
    "Email: jose.ortiz60@lagcc.cuny.edu\n",
    "Date: 04/21/2025\n",
    "'''"
   ],
   "id": "327f29b3be0fee45",
   "outputs": [
    {
     "data": {
      "text/plain": [
       "'\\nName: Jose Miguel Ortiz\\nEmail: jose.ortiz60@lagcc.cuny.edu\\nDate: 04/21/2025\\n'"
      ]
     },
     "execution_count": 10,
     "metadata": {},
     "output_type": "execute_result"
    }
   ],
   "execution_count": 10
  },
  {
   "metadata": {
    "ExecuteTime": {
     "end_time": "2025-04-22T21:51:46.927819Z",
     "start_time": "2025-04-22T21:51:46.925318Z"
    }
   },
   "cell_type": "code",
   "source": [
    "# Import necessary libraries\n",
    "import pandas as pd\n",
    "import numpy as np\n",
    "import matplotlib.pyplot as plt\n",
    "import seaborn as sns\n",
    "import folium\n",
    "from folium.plugins import MarkerCluster\n",
    "\n",
    "# Set visualization styles\n",
    "plt.style.use('seaborn-v0_8-whitegrid')\n",
    "sns.set(font_scale=1.2)\n",
    "pd.set_option('display.max_columns', None)\n"
   ],
   "id": "e02daa7ed41ca175",
   "outputs": [],
   "execution_count": 11
  },
  {
   "metadata": {},
   "cell_type": "markdown",
   "source": [
    "# <center> NYC Subway Entrance Navigator: An Interactive Transit Information Tool <center>\n",
    "\n",
    "## Overview\n",
    "This project analyzes the accessibility of New York City's subway system by examining the distribution and characteristics of subway entrances and exits across the five boroughs. The analysis focuses on identifying areas with limited accessibility options, particularly for individuals with mobility challenges who require elevator access.\n",
    "\n",
    "## Background\n",
    "New York City's subway system is one of the largest and oldest public transportation networks in the world. While it provides essential transportation for millions of residents and visitors daily, the system's age and design present accessibility challenges. Understanding the current state of subway entrance accessibility is crucial for urban planning, equity considerations, and improving the system for all users.\n",
    "\n",
    "## Data Source\n",
    "This analysis uses the MTA Subway Entrances and Exits dataset (2024), which provides detailed information about each subway entrance and exit in the NYC system, including location, entrance type, and accessibility features.\n"
   ],
   "id": "aab9784de5154595"
  },
  {
   "metadata": {},
   "cell_type": "markdown",
   "source": "## Data Loading and Exploration\n",
   "id": "c48f6b0a7c24c7bf"
  },
  {
   "metadata": {
    "ExecuteTime": {
     "end_time": "2025-04-22T21:51:46.947904Z",
     "start_time": "2025-04-22T21:51:46.939766Z"
    }
   },
   "cell_type": "code",
   "source": [
    "# Load the dataset\n",
    "file_path = '../Project/MTA_Subway_Entrances_and_Exits__2024_20250418.csv'\n",
    "subway_entrances = pd.read_csv(file_path)\n",
    "\n",
    "# Display basic information about the dataset\n",
    "print(f\"Dataset shape: {subway_entrances.shape}\")\n",
    "subway_entrances.info()\n"
   ],
   "id": "e3eca96562997010",
   "outputs": [
    {
     "name": "stdout",
     "output_type": "stream",
     "text": [
      "Dataset shape: (2120, 15)\n",
      "<class 'pandas.core.frame.DataFrame'>\n",
      "RangeIndex: 2120 entries, 0 to 2119\n",
      "Data columns (total 15 columns):\n",
      " #   Column                    Non-Null Count  Dtype  \n",
      "---  ------                    --------------  -----  \n",
      " 0   Division                  2120 non-null   object \n",
      " 1   Line                      2120 non-null   object \n",
      " 2   Borough                   2120 non-null   object \n",
      " 3   Stop Name                 2120 non-null   object \n",
      " 4   Complex ID                2120 non-null   int64  \n",
      " 5   Constituent Station Name  2120 non-null   object \n",
      " 6   Station ID                2120 non-null   int64  \n",
      " 7   GTFS Stop ID              2120 non-null   object \n",
      " 8   Daytime Routes            2120 non-null   object \n",
      " 9   Entrance Type             2120 non-null   object \n",
      " 10  Entry Allowed             2120 non-null   object \n",
      " 11  Exit Allowed              2120 non-null   object \n",
      " 12  Entrance Latitude         2120 non-null   float64\n",
      " 13  Entrance Longitude        2120 non-null   float64\n",
      " 14  entrance_georeference     2120 non-null   object \n",
      "dtypes: float64(2), int64(2), object(11)\n",
      "memory usage: 248.6+ KB\n"
     ]
    }
   ],
   "execution_count": 12
  },
  {
   "metadata": {
    "ExecuteTime": {
     "end_time": "2025-04-22T21:51:46.967626Z",
     "start_time": "2025-04-22T21:51:46.962617Z"
    }
   },
   "cell_type": "code",
   "source": [
    "# Display the first few rows of the dataset\n",
    "subway_entrances.head()\n"
   ],
   "id": "f31e9a5b2f11e84d",
   "outputs": [
    {
     "data": {
      "text/plain": [
       "  Division    Line Borough                 Stop Name  Complex ID  \\\n",
       "0      BMT  4th Av       B  Atlantic Av-Barclays Ctr         617   \n",
       "1      BMT  4th Av       B  Atlantic Av-Barclays Ctr         617   \n",
       "2      BMT  4th Av       B  Atlantic Av-Barclays Ctr         617   \n",
       "3      BMT  4th Av       B                  Union St          28   \n",
       "4      BMT  4th Av       B                  Union St          28   \n",
       "\n",
       "   Constituent Station Name  Station ID GTFS Stop ID     Daytime Routes  \\\n",
       "0  Atlantic Av-Barclays Ctr          27          R31  2 3 4 5 B D N Q R   \n",
       "1  Atlantic Av-Barclays Ctr          27          R31  2 3 4 5 B D N Q R   \n",
       "2  Atlantic Av-Barclays Ctr          27          R31  2 3 4 5 B D N Q R   \n",
       "3                  Union St          28          R32                  R   \n",
       "4                  Union St          28          R32                  R   \n",
       "\n",
       "  Entrance Type Entry Allowed Exit Allowed  Entrance Latitude  \\\n",
       "0         Stair           YES          YES          40.683905   \n",
       "1      Elevator           YES          YES          40.683805   \n",
       "2         Stair           YES          YES          40.683928   \n",
       "3         Stair           YES          YES          40.677154   \n",
       "4         Stair           YES          YES          40.677296   \n",
       "\n",
       "   Entrance Longitude           entrance_georeference  \n",
       "0          -73.978879    POINT (-73.978879 40.683905)  \n",
       "1          -73.978487    POINT (-73.978487 40.683805)  \n",
       "2          -73.978412    POINT (-73.978412 40.683928)  \n",
       "3          -73.983430  POINT (-73.9834296 40.6771544)  \n",
       "4          -73.983336  POINT (-73.9833364 40.6772958)  "
      ],
      "text/html": [
       "<div>\n",
       "<style scoped>\n",
       "    .dataframe tbody tr th:only-of-type {\n",
       "        vertical-align: middle;\n",
       "    }\n",
       "\n",
       "    .dataframe tbody tr th {\n",
       "        vertical-align: top;\n",
       "    }\n",
       "\n",
       "    .dataframe thead th {\n",
       "        text-align: right;\n",
       "    }\n",
       "</style>\n",
       "<table border=\"1\" class=\"dataframe\">\n",
       "  <thead>\n",
       "    <tr style=\"text-align: right;\">\n",
       "      <th></th>\n",
       "      <th>Division</th>\n",
       "      <th>Line</th>\n",
       "      <th>Borough</th>\n",
       "      <th>Stop Name</th>\n",
       "      <th>Complex ID</th>\n",
       "      <th>Constituent Station Name</th>\n",
       "      <th>Station ID</th>\n",
       "      <th>GTFS Stop ID</th>\n",
       "      <th>Daytime Routes</th>\n",
       "      <th>Entrance Type</th>\n",
       "      <th>Entry Allowed</th>\n",
       "      <th>Exit Allowed</th>\n",
       "      <th>Entrance Latitude</th>\n",
       "      <th>Entrance Longitude</th>\n",
       "      <th>entrance_georeference</th>\n",
       "    </tr>\n",
       "  </thead>\n",
       "  <tbody>\n",
       "    <tr>\n",
       "      <th>0</th>\n",
       "      <td>BMT</td>\n",
       "      <td>4th Av</td>\n",
       "      <td>B</td>\n",
       "      <td>Atlantic Av-Barclays Ctr</td>\n",
       "      <td>617</td>\n",
       "      <td>Atlantic Av-Barclays Ctr</td>\n",
       "      <td>27</td>\n",
       "      <td>R31</td>\n",
       "      <td>2 3 4 5 B D N Q R</td>\n",
       "      <td>Stair</td>\n",
       "      <td>YES</td>\n",
       "      <td>YES</td>\n",
       "      <td>40.683905</td>\n",
       "      <td>-73.978879</td>\n",
       "      <td>POINT (-73.978879 40.683905)</td>\n",
       "    </tr>\n",
       "    <tr>\n",
       "      <th>1</th>\n",
       "      <td>BMT</td>\n",
       "      <td>4th Av</td>\n",
       "      <td>B</td>\n",
       "      <td>Atlantic Av-Barclays Ctr</td>\n",
       "      <td>617</td>\n",
       "      <td>Atlantic Av-Barclays Ctr</td>\n",
       "      <td>27</td>\n",
       "      <td>R31</td>\n",
       "      <td>2 3 4 5 B D N Q R</td>\n",
       "      <td>Elevator</td>\n",
       "      <td>YES</td>\n",
       "      <td>YES</td>\n",
       "      <td>40.683805</td>\n",
       "      <td>-73.978487</td>\n",
       "      <td>POINT (-73.978487 40.683805)</td>\n",
       "    </tr>\n",
       "    <tr>\n",
       "      <th>2</th>\n",
       "      <td>BMT</td>\n",
       "      <td>4th Av</td>\n",
       "      <td>B</td>\n",
       "      <td>Atlantic Av-Barclays Ctr</td>\n",
       "      <td>617</td>\n",
       "      <td>Atlantic Av-Barclays Ctr</td>\n",
       "      <td>27</td>\n",
       "      <td>R31</td>\n",
       "      <td>2 3 4 5 B D N Q R</td>\n",
       "      <td>Stair</td>\n",
       "      <td>YES</td>\n",
       "      <td>YES</td>\n",
       "      <td>40.683928</td>\n",
       "      <td>-73.978412</td>\n",
       "      <td>POINT (-73.978412 40.683928)</td>\n",
       "    </tr>\n",
       "    <tr>\n",
       "      <th>3</th>\n",
       "      <td>BMT</td>\n",
       "      <td>4th Av</td>\n",
       "      <td>B</td>\n",
       "      <td>Union St</td>\n",
       "      <td>28</td>\n",
       "      <td>Union St</td>\n",
       "      <td>28</td>\n",
       "      <td>R32</td>\n",
       "      <td>R</td>\n",
       "      <td>Stair</td>\n",
       "      <td>YES</td>\n",
       "      <td>YES</td>\n",
       "      <td>40.677154</td>\n",
       "      <td>-73.983430</td>\n",
       "      <td>POINT (-73.9834296 40.6771544)</td>\n",
       "    </tr>\n",
       "    <tr>\n",
       "      <th>4</th>\n",
       "      <td>BMT</td>\n",
       "      <td>4th Av</td>\n",
       "      <td>B</td>\n",
       "      <td>Union St</td>\n",
       "      <td>28</td>\n",
       "      <td>Union St</td>\n",
       "      <td>28</td>\n",
       "      <td>R32</td>\n",
       "      <td>R</td>\n",
       "      <td>Stair</td>\n",
       "      <td>YES</td>\n",
       "      <td>YES</td>\n",
       "      <td>40.677296</td>\n",
       "      <td>-73.983336</td>\n",
       "      <td>POINT (-73.9833364 40.6772958)</td>\n",
       "    </tr>\n",
       "  </tbody>\n",
       "</table>\n",
       "</div>"
      ]
     },
     "execution_count": 13,
     "metadata": {},
     "output_type": "execute_result"
    }
   ],
   "execution_count": 13
  },
  {
   "metadata": {
    "ExecuteTime": {
     "end_time": "2025-04-22T21:52:06.829975Z",
     "start_time": "2025-04-22T21:52:06.825467Z"
    }
   },
   "cell_type": "code",
   "source": [
    "# Check for missing values\n",
    "missing_values = subway_entrances.isnull().sum()\n",
    "print(\"Missing values in each column\")\n",
    "print(missing_values[missing_values > 0])\n"
   ],
   "id": "2cb97de1ca041699",
   "outputs": [
    {
     "name": "stdout",
     "output_type": "stream",
     "text": [
      "Missing values in each column\n",
      "Borough_Name    317\n",
      "dtype: int64\n"
     ]
    }
   ],
   "execution_count": 19
  },
  {
   "metadata": {},
   "cell_type": "markdown",
   "source": "## Data Cleaning and Preparation\n",
   "id": "7524f26bbc4225ce"
  },
  {
   "metadata": {
    "ExecuteTime": {
     "end_time": "2025-04-22T21:51:47.028055Z",
     "start_time": "2025-04-22T21:51:47.024344Z"
    }
   },
   "cell_type": "code",
   "source": [
    "# Clean and prepare the data\n",
    "# Convert borough codes to full names for better readability\n",
    "borough_mapping = {\n",
    "    'M': 'Manhattan',\n",
    "    'B': 'Brooklyn',\n",
    "    'Q': 'Queens',\n",
    "    'X': 'Bronx',\n",
    "    'S': 'Staten Island'\n",
    "}\n",
    "\n",
    "# Apply the mapping\n",
    "subway_entrances['Borough_Name'] = subway_entrances['Borough'].map(borough_mapping)\n",
    "\n",
    "# Create a binary column for elevator access\n",
    "subway_entrances['Has_Elevator'] = subway_entrances['Entrance Type'].str.contains('Elevator', case=False).astype(int)\n"
   ],
   "id": "d9e620f700641dd0",
   "outputs": [],
   "execution_count": 15
  },
  {
   "metadata": {},
   "cell_type": "markdown",
   "source": "## Exploratory Data Analysis\n",
   "id": "4e08aa0dd0f0c371"
  },
  {
   "metadata": {},
   "cell_type": "markdown",
   "source": "## Spatial Analysis\n",
   "id": "f14a8830b96fd3fc"
  },
  {
   "metadata": {},
   "cell_type": "markdown",
   "source": "## Analysis of Subway Lines and Accessibility\n",
   "id": "544e291d4836a19"
  },
  {
   "metadata": {
    "ExecuteTime": {
     "end_time": "2025-04-22T21:51:47.057681Z",
     "start_time": "2025-04-22T21:51:47.047814Z"
    }
   },
   "cell_type": "code",
   "source": [
    "# Analyze subway lines and their accessibility\n",
    "routes_df = subway_entrances[['Daytime Routes', 'Has_Elevator', 'Stop Name']].copy()\n",
    "\n",
    "routes_df['Daytime Routes'] = routes_df['Daytime Routes'].str.split()\n",
    "routes_exploded = routes_df.explode('Daytime Routes')\n",
    "\n",
    "route_accessibility = routes_exploded.groupby('Daytime Routes').agg(\n",
    "    total_entrances=('Stop Name', 'count'),\n",
    "    elevator_entrances=('Has_Elevator', 'sum')\n",
    ").reset_index()\n",
    "\n",
    "route_accessibility['accessibility_percentage'] = (route_accessibility['elevator_entrances'] /\n",
    "                                                 route_accessibility['total_entrances'] * 100).round(2)\n",
    "\n",
    "route_accessibility = route_accessibility.sort_values('accessibility_percentage', ascending=False)\n",
    "\n",
    "route_accessibility.head(10)\n"
   ],
   "id": "bb5bee40b935da38",
   "outputs": [
    {
     "data": {
      "text/plain": [
       "   Daytime Routes  total_entrances  elevator_entrances  \\\n",
       "15              L              131                   9   \n",
       "14              J              146                   9   \n",
       "4               5              248                  15   \n",
       "10              D              236                  14   \n",
       "23              Z              119                   7   \n",
       "18              Q              171                  10   \n",
       "7               A              309                  18   \n",
       "1               2              310                  18   \n",
       "13              G              104                   6   \n",
       "17              N              175                  10   \n",
       "\n",
       "    accessibility_percentage  \n",
       "15                      6.87  \n",
       "14                      6.16  \n",
       "4                       6.05  \n",
       "10                      5.93  \n",
       "23                      5.88  \n",
       "18                      5.85  \n",
       "7                       5.83  \n",
       "1                       5.81  \n",
       "13                      5.77  \n",
       "17                      5.71  "
      ],
      "text/html": [
       "<div>\n",
       "<style scoped>\n",
       "    .dataframe tbody tr th:only-of-type {\n",
       "        vertical-align: middle;\n",
       "    }\n",
       "\n",
       "    .dataframe tbody tr th {\n",
       "        vertical-align: top;\n",
       "    }\n",
       "\n",
       "    .dataframe thead th {\n",
       "        text-align: right;\n",
       "    }\n",
       "</style>\n",
       "<table border=\"1\" class=\"dataframe\">\n",
       "  <thead>\n",
       "    <tr style=\"text-align: right;\">\n",
       "      <th></th>\n",
       "      <th>Daytime Routes</th>\n",
       "      <th>total_entrances</th>\n",
       "      <th>elevator_entrances</th>\n",
       "      <th>accessibility_percentage</th>\n",
       "    </tr>\n",
       "  </thead>\n",
       "  <tbody>\n",
       "    <tr>\n",
       "      <th>15</th>\n",
       "      <td>L</td>\n",
       "      <td>131</td>\n",
       "      <td>9</td>\n",
       "      <td>6.87</td>\n",
       "    </tr>\n",
       "    <tr>\n",
       "      <th>14</th>\n",
       "      <td>J</td>\n",
       "      <td>146</td>\n",
       "      <td>9</td>\n",
       "      <td>6.16</td>\n",
       "    </tr>\n",
       "    <tr>\n",
       "      <th>4</th>\n",
       "      <td>5</td>\n",
       "      <td>248</td>\n",
       "      <td>15</td>\n",
       "      <td>6.05</td>\n",
       "    </tr>\n",
       "    <tr>\n",
       "      <th>10</th>\n",
       "      <td>D</td>\n",
       "      <td>236</td>\n",
       "      <td>14</td>\n",
       "      <td>5.93</td>\n",
       "    </tr>\n",
       "    <tr>\n",
       "      <th>23</th>\n",
       "      <td>Z</td>\n",
       "      <td>119</td>\n",
       "      <td>7</td>\n",
       "      <td>5.88</td>\n",
       "    </tr>\n",
       "    <tr>\n",
       "      <th>18</th>\n",
       "      <td>Q</td>\n",
       "      <td>171</td>\n",
       "      <td>10</td>\n",
       "      <td>5.85</td>\n",
       "    </tr>\n",
       "    <tr>\n",
       "      <th>7</th>\n",
       "      <td>A</td>\n",
       "      <td>309</td>\n",
       "      <td>18</td>\n",
       "      <td>5.83</td>\n",
       "    </tr>\n",
       "    <tr>\n",
       "      <th>1</th>\n",
       "      <td>2</td>\n",
       "      <td>310</td>\n",
       "      <td>18</td>\n",
       "      <td>5.81</td>\n",
       "    </tr>\n",
       "    <tr>\n",
       "      <th>13</th>\n",
       "      <td>G</td>\n",
       "      <td>104</td>\n",
       "      <td>6</td>\n",
       "      <td>5.77</td>\n",
       "    </tr>\n",
       "    <tr>\n",
       "      <th>17</th>\n",
       "      <td>N</td>\n",
       "      <td>175</td>\n",
       "      <td>10</td>\n",
       "      <td>5.71</td>\n",
       "    </tr>\n",
       "  </tbody>\n",
       "</table>\n",
       "</div>"
      ]
     },
     "execution_count": 16,
     "metadata": {},
     "output_type": "execute_result"
    }
   ],
   "execution_count": 16
  },
  {
   "metadata": {
    "ExecuteTime": {
     "end_time": "2025-04-22T21:51:47.241615Z",
     "start_time": "2025-04-22T21:51:47.086281Z"
    }
   },
   "cell_type": "code",
   "source": [
    "# Visualize the accessibility percentage by subway line\n",
    "plt.figure(figsize=(14, 8))\n",
    "sns.barplot(x='Daytime Routes', y='accessibility_percentage', data=route_accessibility)\n",
    "plt.title('Percentage of Accessible Entrances by Subway Line', fontsize=16)\n",
    "plt.xlabel('Subway Line', fontsize=14)\n",
    "plt.ylabel('Percentage of Entrances with Elevators', fontsize=14)\n",
    "plt.xticks(rotation=90)\n",
    "plt.axhline(y=route_accessibility['accessibility_percentage'].mean(), color='r', linestyle='--',\n",
    "            label=f'Average ({route_accessibility[\"accessibility_percentage\"].mean():.2f}%)')\n",
    "plt.legend()\n",
    "plt.tight_layout()\n",
    "plt.show()\n"
   ],
   "id": "2653186e858089b8",
   "outputs": [
    {
     "data": {
      "text/plain": [
       "<Figure size 1400x800 with 1 Axes>"
      ],
      "image/png": "[encoded data removed]"
     },
     "metadata": {},
     "output_type": "display_data"
    }
   ],
   "execution_count": 17
  },
  {
   "metadata": {},
   "cell_type": "markdown",
   "source": "## Identifying Accessibility Gaps\n",
   "id": "32304a5ca690c425"
  },
  {
   "metadata": {
    "ExecuteTime": {
     "end_time": "2025-04-22T21:51:47.273780Z",
     "start_time": "2025-04-22T21:51:47.265761Z"
    }
   },
   "cell_type": "code",
   "source": [
    "# Group by station to identify stations with no elevator access\n",
    "station_accessibility = subway_entrances.groupby('Stop Name').agg(\n",
    "    total_entrances=('Entrance Type', 'count'),\n",
    "    elevator_entrances=('Has_Elevator', 'sum'),\n",
    "    borough=('Borough_Name', 'first'),\n",
    "    routes=('Daytime Routes', 'first')\n",
    ").reset_index()\n",
    "\n",
    "# Identify stations with no elevator access\n",
    "inaccessible_stations = station_accessibility[station_accessibility['elevator_entrances'] == 0]\n",
    "\n",
    "#   Sort by total entrances to find the busiest inaccessible stations\n",
    "inaccessible_stations = inaccessible_stations.sort_values('total_entrances', ascending=False)\n",
    "\n",
    "#   Displays the top 10 busiest stations without elevator access\n",
    "print(f\"Total stations without elevator access: {len(inaccessible_stations)}\")\n",
    "inaccessible_stations.head(10)\n"
   ],
   "id": "c4803d26b284f532",
   "outputs": [
    {
     "name": "stdout",
     "output_type": "stream",
     "text": [
      "Total stations without elevator access: 291\n"
     ]
    },
    {
     "data": {
      "text/plain": [
       "                  Stop Name  total_entrances  elevator_entrances    borough  \\\n",
       "225               Fulton St               32                   0  Manhattan   \n",
       "230     Grand Central-42 St               22                   0  Manhattan   \n",
       "269  Lexington Av/51-53 Sts               21                   0  Manhattan   \n",
       "77                    50 St               19                   0  Manhattan   \n",
       "360                 Wall St               18                   0  Manhattan   \n",
       "52                    28 St               18                   0  Manhattan   \n",
       "256        Jay St-MetroTech               17                   0   Brooklyn   \n",
       "324               Rector St               15                   0  Manhattan   \n",
       "195               DeKalb Av               14                   0   Brooklyn   \n",
       "16                   145 St               13                   0  Manhattan   \n",
       "\n",
       "              routes  \n",
       "225  2 3 4 5 A C J Z  \n",
       "230        4 5 6 7 S  \n",
       "269            6 E M  \n",
       "77               C E  \n",
       "360              2 3  \n",
       "52                 1  \n",
       "256          A C F R  \n",
       "324              R W  \n",
       "195            B Q R  \n",
       "16           A C B D  "
      ],
      "text/html": [
       "<div>\n",
       "<style scoped>\n",
       "    .dataframe tbody tr th:only-of-type {\n",
       "        vertical-align: middle;\n",
       "    }\n",
       "\n",
       "    .dataframe tbody tr th {\n",
       "        vertical-align: top;\n",
       "    }\n",
       "\n",
       "    .dataframe thead th {\n",
       "        text-align: right;\n",
       "    }\n",
       "</style>\n",
       "<table border=\"1\" class=\"dataframe\">\n",
       "  <thead>\n",
       "    <tr style=\"text-align: right;\">\n",
       "      <th></th>\n",
       "      <th>Stop Name</th>\n",
       "      <th>total_entrances</th>\n",
       "      <th>elevator_entrances</th>\n",
       "      <th>borough</th>\n",
       "      <th>routes</th>\n",
       "    </tr>\n",
       "  </thead>\n",
       "  <tbody>\n",
       "    <tr>\n",
       "      <th>225</th>\n",
       "      <td>Fulton St</td>\n",
       "      <td>32</td>\n",
       "      <td>0</td>\n",
       "      <td>Manhattan</td>\n",
       "      <td>2 3 4 5 A C J Z</td>\n",
       "    </tr>\n",
       "    <tr>\n",
       "      <th>230</th>\n",
       "      <td>Grand Central-42 St</td>\n",
       "      <td>22</td>\n",
       "      <td>0</td>\n",
       "      <td>Manhattan</td>\n",
       "      <td>4 5 6 7 S</td>\n",
       "    </tr>\n",
       "    <tr>\n",
       "      <th>269</th>\n",
       "      <td>Lexington Av/51-53 Sts</td>\n",
       "      <td>21</td>\n",
       "      <td>0</td>\n",
       "      <td>Manhattan</td>\n",
       "      <td>6 E M</td>\n",
       "    </tr>\n",
       "    <tr>\n",
       "      <th>77</th>\n",
       "      <td>50 St</td>\n",
       "      <td>19</td>\n",
       "      <td>0</td>\n",
       "      <td>Manhattan</td>\n",
       "      <td>C E</td>\n",
       "    </tr>\n",
       "    <tr>\n",
       "      <th>360</th>\n",
       "      <td>Wall St</td>\n",
       "      <td>18</td>\n",
       "      <td>0</td>\n",
       "      <td>Manhattan</td>\n",
       "      <td>2 3</td>\n",
       "    </tr>\n",
       "    <tr>\n",
       "      <th>52</th>\n",
       "      <td>28 St</td>\n",
       "      <td>18</td>\n",
       "      <td>0</td>\n",
       "      <td>Manhattan</td>\n",
       "      <td>1</td>\n",
       "    </tr>\n",
       "    <tr>\n",
       "      <th>256</th>\n",
       "      <td>Jay St-MetroTech</td>\n",
       "      <td>17</td>\n",
       "      <td>0</td>\n",
       "      <td>Brooklyn</td>\n",
       "      <td>A C F R</td>\n",
       "    </tr>\n",
       "    <tr>\n",
       "      <th>324</th>\n",
       "      <td>Rector St</td>\n",
       "      <td>15</td>\n",
       "      <td>0</td>\n",
       "      <td>Manhattan</td>\n",
       "      <td>R W</td>\n",
       "    </tr>\n",
       "    <tr>\n",
       "      <th>195</th>\n",
       "      <td>DeKalb Av</td>\n",
       "      <td>14</td>\n",
       "      <td>0</td>\n",
       "      <td>Brooklyn</td>\n",
       "      <td>B Q R</td>\n",
       "    </tr>\n",
       "    <tr>\n",
       "      <th>16</th>\n",
       "      <td>145 St</td>\n",
       "      <td>13</td>\n",
       "      <td>0</td>\n",
       "      <td>Manhattan</td>\n",
       "      <td>A C B D</td>\n",
       "    </tr>\n",
       "  </tbody>\n",
       "</table>\n",
       "</div>"
      ]
     },
     "execution_count": 18,
     "metadata": {},
     "output_type": "execute_result"
    }
   ],
   "execution_count": 18
  }
 ],
 "metadata": {
  "kernelspec": {
   "display_name": "Python 3",
   "language": "python",
   "name": "python3"
  },
  "language_info": {
   "codemirror_mode": {
    "name": "ipython",
    "version": 2
   },
   "file_extension": ".py",
   "mimetype": "text/x-python",
   "name": "python",
   "nbconvert_exporter": "python",
   "pygments_lexer": "ipython2",
   "version": "2.7.6"
  }
 },
 "nbformat": 4,
 "nbformat_minor": 5
}
