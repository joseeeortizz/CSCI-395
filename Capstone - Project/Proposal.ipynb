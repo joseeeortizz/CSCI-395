{
 "cells": [
  {
   "metadata": {},
   "cell_type": "code",
   "outputs": [],
   "execution_count": null,
   "source": [
    "'''\n",
    "Name: Jose Miguel Ortiz\n",
    "Email: jose.ortiz60@lagcc.cuny.edu\n",
    "'''"
   ],
   "id": "5ec86d65a527775f"
  },
  {
   "metadata": {},
   "cell_type": "markdown",
   "source": [
    "Milestone #1: Project proposal\n",
    "\n",
    "Format\n",
    "\n",
    "Your main proposal document must be a jupyter notebook. Use markdown cells to write text and to include any images or hyperlinks you'd like to share.\n",
    "You can additionally include any other files that you might need, such as a custom python package, a sqlite file, or a sample data file.\n",
    "Content\n",
    "\n",
    "Your project proposal should be broken down in the following sections\n",
    "1. Title\n",
    "2. Overview\n",
    "3. Background\n",
    "4. Data sources\n",
    "5. Analysis\n",
    "6. Product\n",
    "Title\n",
    "\n",
    "The title should capture the topic/theme of your project. Feel free to make it catchy!\n",
    "Overview\n",
    "\n",
    "Think of the overview section as the equivalent of an abstract in a research paper or an elevator pitch for the project. This section should succinctly convey why your project is important, what problem/question is solving/answering, and how it fits into the bigger picture or context in to which it pertains. A short paragraph or two should be enough.\n",
    "Background\n",
    "\n",
    "In this section is where you should prove that you've already done research in the project you are proposing. Introduce any context and terminology that is relevant to the project, expand on the problem you're solving for, and introduce any literature or resources on the matter that you've found in your research.\n",
    "Data sources\n",
    "\n",
    "Your project should be anchored on a set of data used in your work. You must use publicly available data. It can be either from curated, publicly available datsets, or from results of your own data scraping.\n",
    "Exploratory analysis\n",
    "\n",
    "After obtaining your data, please make sure you perform exploratory analysis so you can feel confident you have the right data to answer the questions you wish to explore.\n",
    "Make sure to provide a summary of the data in the proposal through charts and tables, as well as text explaining your conclusions.\n",
    "Product\n",
    "\n",
    "In this section you will outline the vision for your solution and you will demonstrate that you're equipped to deliver it. Whether you'd like to build an interactive dashboard, a journalistic data report, or a deep neural network, in this section you will break down the most relevant steps of your product as well as test out that the libraries and packages you'll be using are working as you expect them too. Think of it as the \"Hello, world!\" of your product."
   ],
   "id": "ea133353ac760ff2"
  },
  {
   "metadata": {},
   "cell_type": "code",
   "outputs": [],
   "execution_count": null,
   "source": [
    "'''\n",
    "# Capstone Project - Proposal\n",
    "\n",
    "\n",
    "\n",
    "'''"
   ],
   "id": "db45b1f640acd081"
  }
 ],
 "metadata": {},
 "nbformat": 5,
 "nbformat_minor": 9
}
