{
 "cells": [
  {
   "metadata": {},
   "cell_type": "markdown",
   "source": [
    "# <center> CSCI 395 - NYC Subway Project<center>\n",
    "\n",
    "### <center> José Miguel Ortiz\n",
    "### <center> Hunter College <center>\n",
    "### <center> CSCI 395: Introduction to Data Science <center>\n",
    "### <center> Prof. Adrián Soto Cambres\n",
    "### <center> Date: 04/08/2025"
   ]
  },
  {
   "metadata": {},
   "cell_type": "code",
   "outputs": [],
   "execution_count": null,
   "source": [
    "'''\n",
    "Name: Jose Miguel Ortiz\n",
    "Email: jose.ortiz60@lagcc.cuny.edu\n",
    "Date: 04/08/2025\n",
    "'''"
   ]
  },
  {
   "metadata": {},
   "cell_type": "markdown",
   "source": "Test 2"
  },
  {
   "metadata": {},
   "cell_type": "markdown",
   "source": "# NYC Subway Navigator: An Interactive Transit Analysis Tool"
  },
  {
   "metadata": {},
   "cell_type": "markdown",
   "source": "## Exploratory Analysis & Visualization"
  },
  {
   "metadata": {
    "ExecuteTime": {
     "end_time": "2025-04-07T20:33:36.324388Z",
     "start_time": "2025-04-07T20:33:36.085151Z"
    }
   },
   "cell_type": "code",
   "outputs": [
    {
     "ename": "ValueError",
     "evalue": "numpy.dtype size changed, may indicate binary incompatibility. Expected 96 from C header, got 88 from PyObject",
     "output_type": "error",
     "traceback": [
      "\u001B[31m---------------------------------------------------------------------------\u001B[39m",
      "\u001B[31mValueError\u001B[39m                                Traceback (most recent call last)",
      "\u001B[36mCell\u001B[39m\u001B[36m \u001B[39m\u001B[32mIn[7]\u001B[39m\u001B[32m, line 4\u001B[39m\n\u001B[32m      2\u001B[39m \u001B[38;5;28;01mimport\u001B[39;00m\u001B[38;5;250m \u001B[39m\u001B[34;01mpandas\u001B[39;00m\u001B[38;5;250m \u001B[39m\u001B[38;5;28;01mas\u001B[39;00m\u001B[38;5;250m \u001B[39m\u001B[34;01mpd\u001B[39;00m\n\u001B[32m      3\u001B[39m \u001B[38;5;28;01mimport\u001B[39;00m\u001B[38;5;250m \u001B[39m\u001B[34;01mseaborn\u001B[39;00m\u001B[38;5;250m \u001B[39m\u001B[38;5;28;01mas\u001B[39;00m\u001B[38;5;250m \u001B[39m\u001B[34;01msns\u001B[39;00m\n\u001B[32m----> \u001B[39m\u001B[32m4\u001B[39m \u001B[38;5;28;01mfrom\u001B[39;00m\u001B[38;5;250m \u001B[39m\u001B[34;01mmpl_toolkits\u001B[39;00m\u001B[34;01m.\u001B[39;00m\u001B[34;01mbasemap\u001B[39;00m\u001B[38;5;250m \u001B[39m\u001B[38;5;28;01mimport\u001B[39;00m Basemap\n\u001B[32m      6\u001B[39m \u001B[38;5;66;03m# libraries for data visualization\u001B[39;00m\n\u001B[32m      7\u001B[39m \u001B[38;5;28;01mfrom\u001B[39;00m\u001B[38;5;250m \u001B[39m\u001B[34;01mmatplotlib\u001B[39;00m\u001B[38;5;250m \u001B[39m\u001B[38;5;28;01mimport\u001B[39;00m pyplot \u001B[38;5;28;01mas\u001B[39;00m plt\n",
      "\u001B[36mFile \u001B[39m\u001B[32m/Library/Frameworks/Python.framework/Versions/3.12/lib/python3.12/site-packages/mpl_toolkits/basemap/__init__.py:47\u001B[39m\n\u001B[32m     44\u001B[39m \u001B[38;5;28;01mfrom\u001B[39;00m\u001B[38;5;250m \u001B[39m\u001B[34;01mmpl_toolkits\u001B[39;00m\u001B[34;01m.\u001B[39;00m\u001B[34;01maxes_grid1\u001B[39;00m\u001B[38;5;250m \u001B[39m\u001B[38;5;28;01mimport\u001B[39;00m make_axes_locatable\n\u001B[32m     46\u001B[39m \u001B[38;5;28;01mimport\u001B[39;00m\u001B[38;5;250m \u001B[39m\u001B[34;01mpyproj\u001B[39;00m\n\u001B[32m---> \u001B[39m\u001B[32m47\u001B[39m \u001B[38;5;28;01mimport\u001B[39;00m\u001B[38;5;250m \u001B[39m\u001B[34;01m_geoslib\u001B[39;00m\n\u001B[32m     48\u001B[39m \u001B[38;5;28;01mfrom\u001B[39;00m\u001B[38;5;250m \u001B[39m\u001B[34;01m.\u001B[39;00m proj \u001B[38;5;28;01mimport\u001B[39;00m\u001B[38;5;250m \u001B[39m\u001B[34;01mProj\u001B[39;00m\n\u001B[32m     51\u001B[39m __version__ = \u001B[33m\"\u001B[39m\u001B[33m1.4.1\u001B[39m\u001B[33m\"\u001B[39m\n",
      "\u001B[36mFile \u001B[39m\u001B[32msrc/_geoslib.pyx:1\u001B[39m, in \u001B[36minit _geoslib\u001B[39m\u001B[34m()\u001B[39m\n",
      "\u001B[31mValueError\u001B[39m: numpy.dtype size changed, may indicate binary incompatibility. Expected 96 from C header, got 88 from PyObject"
     ]
    }
   ],
   "execution_count": 7,
   "source": [
    "# libraries for data manipulation\n",
    "import pandas as pd\n",
    "import seaborn as sns\n",
    "from mpl_toolkits.basemap import Basemap\n",
    "\n",
    "# libraries for data visualization\n",
    "from matplotlib import pyplot as plt\n",
    "\n",
    "# jupyter extension to render charts inline\n",
    "%matplotlib inline\n",
    "\n",
    "# Load sample data\n",
    "df = pd.read_csv('nyc_subway_stations.csv')\n",
    "\n",
    "# Clean data\n",
    "df = df[['Station Name', 'Entrance Latitude', 'Entrance Longitude',\n",
    "         'ADA', 'Route1', 'Entrance Type']].dropna()"
   ]
  },
  {
   "metadata": {},
   "cell_type": "markdown",
   "source": "### 1. Station Density Heatmap"
  },
  {
   "metadata": {
    "ExecuteTime": {
     "end_time": "2025-04-07T20:34:10.031014Z",
     "start_time": "2025-04-07T20:34:10.014286Z"
    }
   },
   "cell_type": "code",
   "outputs": [
    {
     "ename": "NameError",
     "evalue": "name 'plt' is not defined",
     "output_type": "error",
     "traceback": [
      "\u001B[31m---------------------------------------------------------------------------\u001B[39m",
      "\u001B[31mNameError\u001B[39m                                 Traceback (most recent call last)",
      "\u001B[36mCell\u001B[39m\u001B[36m \u001B[39m\u001B[32mIn[8]\u001B[39m\u001B[32m, line 2\u001B[39m\n\u001B[32m      1\u001B[39m \u001B[38;5;28;01mif\u001B[39;00m \u001B[34m__name__\u001B[39m == \u001B[33m\"\u001B[39m\u001B[33m__main__\u001B[39m\u001B[33m\"\u001B[39m:\n\u001B[32m----> \u001B[39m\u001B[32m2\u001B[39m     \u001B[43mplt\u001B[49m.figure(figsize=(\u001B[32m12\u001B[39m,\u001B[32m8\u001B[39m))\n\u001B[32m      3\u001B[39m     m = Basemap(projection=\u001B[33m'\u001B[39m\u001B[33mlcc\u001B[39m\u001B[33m'\u001B[39m, resolution=\u001B[33m'\u001B[39m\u001B[33mh\u001B[39m\u001B[33m'\u001B[39m,\n\u001B[32m      4\u001B[39m                 lat_0=\u001B[32m40.7\u001B[39m, lon_0=-\u001B[32m74\u001B[39m,\n\u001B[32m      5\u001B[39m                 width=\u001B[32m1e6\u001B[39m, height=\u001B[32m1.2e6\u001B[39m)\n\u001B[32m      6\u001B[39m     m.shadedrelief()\n",
      "\u001B[31mNameError\u001B[39m: name 'plt' is not defined"
     ]
    }
   ],
   "execution_count": 8,
   "source": [
    "if __name__ == \"__main__\":\n",
    "    plt.figure(figsize=(12,8))\n",
    "    m = Basemap(projection='lcc', resolution='h',\n",
    "                lat_0=40.7, lon_0=-74,\n",
    "                width=1e6, height=1.2e6)\n",
    "    m.shadedrelief()\n",
    "    m.drawcoastlines(color='gray')\n",
    "    m.drawcountries(color='gray')\n",
    "    m.drawstates(color='gray')\n",
    "\n",
    "    # Plot stations\n",
    "    x, y = m(df['Entrance Longitude'].values, df['Entrance Latitude'].values)\n",
    "    m.scatter(x, y, s=10, c='red', alpha=0.5,\n",
    "              edgecolor='k', linewidth=0.5)\n",
    "    plt.title('NYC Subway Station Density')\n",
    "    plt.show()"
   ]
  },
  {
   "metadata": {},
   "cell_type": "markdown",
   "source": "### 2. Route Connectivity Network"
  },
  {
   "metadata": {
    "ExecuteTime": {
     "end_time": "2025-04-07T20:34:22.190008Z",
     "start_time": "2025-04-07T20:34:22.181766Z"
    }
   },
   "cell_type": "code",
   "outputs": [
    {
     "ename": "SyntaxError",
     "evalue": "expected 'else' after 'if' expression (3059259041.py, line 7)",
     "output_type": "error",
     "traceback": [
      "  \u001B[36mCell\u001B[39m\u001B[36m \u001B[39m\u001B[32mIn[9]\u001B[39m\u001B[32m, line 7\u001B[39m\n\u001B[31m    \u001B[39m\u001B[31mroutes = [r for r in row[['Route1'] + [f'Route{i}' for i in range(2,12)] if pd.notna(r)]\u001B[39m\n                             ^\n\u001B[31mSyntaxError\u001B[39m\u001B[31m:\u001B[39m expected 'else' after 'if' expression\n"
     ]
    }
   ],
   "execution_count": 9,
   "source": [
    "from collections import defaultdict\n",
    "\n",
    "# Generate route connections\n",
    "if __name__ == \"__main__\":\n",
    "    route_graph = defaultdict(list)\n",
    "    for _, row in df.iterrows():\n",
    "        routes = [r for r in row[['Route1'] + [f'Route{i}' for i in range(2,12)] if pd.notna(r)]\n",
    "        for i in range(len(routes)):\n",
    "            for j in range(i+1, len(routes)):\n",
    "                route_graph[routes[i]].append(routes[j])\n",
    "\n",
    "    # Visualize\n",
    "    plt.figure(figsize=(14,8))\n",
    "    sns.heatmap(pd.DataFrame(route_graph).T.notna(), cmap='Blues', cbar=False)\n",
    "    plt.title('Route Connection Matrix')\n",
    "    plt.xlabel('Connected Routes')\n",
    "    plt.ylabel('Primary Route')\n",
    "    plt.xticks(rotation=45)\n",
    "    plt.show()"
   ]
  },
  {
   "metadata": {},
   "cell_type": "markdown",
   "source": "### 3. Accessibility Analysis"
  },
  {
   "metadata": {},
   "cell_type": "code",
   "outputs": [],
   "execution_count": null,
   "source": [
    "fig, ax = plt.subplots(1,2, figsize=(16,6))\n",
    "\n",
    "# ADA Compliance\n",
    "ada_counts = df['ADA'].value_counts()\n",
    "ax[0].pie(ada_counts, labels=ada_counts.index,\n",
    "          autopct='%1.1f%%', startangle=90,\n",
    "          colors=['#4CAF50', '#F44336'])\n",
    "ax[0].set_title('ADA Compliance Distribution')\n",
    "\n",
    "# Entrance Types\n",
    "entrance_counts = df['Entrance Type'].value_counts()\n",
    "sns.barplot(x=entrance_counts.values, y=entrance_counts.index,\n",
    "            ax=ax[1], palette='viridis')\n",
    "ax[1].set_title('Entrance Type Distribution')\n",
    "plt.tight_layout()\n",
    "plt.show()"
   ]
  },
  {
   "metadata": {},
   "cell_type": "markdown",
   "source": "### 4. Interactive Route Explorer"
  },
  {
   "metadata": {},
   "cell_type": "code",
   "outputs": [],
   "execution_count": null,
   "source": [
    "import folium\n",
    "\n",
    "# Create base map\n",
    "nyc_coords = [40.7128, -74.0060]\n",
    "subway_map = folium.Map(location=nyc_coords, zoom_start=11)\n",
    "\n",
    "# Add route markers\n",
    "for _, row in df.sample(100).iterrows():\n",
    "    popup_text = f\"\"\"\n",
    "    <b>{row['Station Name']}</b><br>\n",
    "    Routes: {row.filter(like='Route').dropna().tolist()}<br>\n",
    "    ADA: {row['ADA']}\n",
    "    \"\"\"\n",
    "    folium.Marker(\n",
    "        location=[row['Entrance Latitude'], row['Entrance Longitude']],\n",
    "        popup=folium.Popup(popup_text, max_width=250),\n",
    "        icon=folium.Icon(color='blue' if row['ADA']=='YES' else 'gray')\n",
    "    ).add_to(subway_map)\n",
    "\n",
    "subway_map"
   ]
  },
  {
   "metadata": {},
   "cell_type": "markdown",
   "source": "### 5. Station Distance Analysis"
  },
  {
   "metadata": {
    "ExecuteTime": {
     "end_time": "2025-04-07T20:33:36.341073Z",
     "start_time": "2025-04-07T20:23:45.641313Z"
    }
   },
   "cell_type": "code",
   "outputs": [
    {
     "ename": "NameError",
     "evalue": "name 'df' is not defined",
     "output_type": "error",
     "traceback": [
      "\u001B[31m---------------------------------------------------------------------------\u001B[39m",
      "\u001B[31mNameError\u001B[39m                                 Traceback (most recent call last)",
      "\u001B[36mCell\u001B[39m\u001B[36m \u001B[39m\u001B[32mIn[4]\u001B[39m\u001B[32m, line 4\u001B[39m\n\u001B[32m      1\u001B[39m \u001B[38;5;66;03m# Calculate inter-station distances\u001B[39;00m\n\u001B[32m      2\u001B[39m \u001B[38;5;28;01mfrom\u001B[39;00m\u001B[38;5;250m \u001B[39m\u001B[34;01mscipy\u001B[39;00m\u001B[34;01m.\u001B[39;00m\u001B[34;01mspatial\u001B[39;00m\u001B[34;01m.\u001B[39;00m\u001B[34;01mdistance\u001B[39;00m\u001B[38;5;250m \u001B[39m\u001B[38;5;28;01mimport\u001B[39;00m pdist, squareform\n\u001B[32m----> \u001B[39m\u001B[32m4\u001B[39m coords = \u001B[43mdf\u001B[49m[[\u001B[33m'\u001B[39m\u001B[33mEntrance Latitude\u001B[39m\u001B[33m'\u001B[39m, \u001B[33m'\u001B[39m\u001B[33mEntrance Longitude\u001B[39m\u001B[33m'\u001B[39m]].values\n\u001B[32m      5\u001B[39m distances = squareform(pdist(coords, \u001B[38;5;28;01mlambda\u001B[39;00m u,v: great_circle(u,v).km))\n\u001B[32m      7\u001B[39m plt.figure(figsize=(\u001B[32m10\u001B[39m,\u001B[32m6\u001B[39m))\n",
      "\u001B[31mNameError\u001B[39m: name 'df' is not defined"
     ]
    }
   ],
   "execution_count": 4,
   "source": [
    "# Calculate inter-station distances\n",
    "from scipy.spatial.distance import pdist, squareform\n",
    "\n",
    "coords = df[['Entrance Latitude', 'Entrance Longitude']].values\n",
    "distances = squareform(pdist(coords, lambda u,v: great_circle(u,v).km))\n",
    "\n",
    "plt.figure(figsize=(10,6))\n",
    "sns.histplot(distances.flatten(), bins=50, kde=True,\n",
    "             color='purple', edgecolor='black')\n",
    "plt.title('Inter-Station Distance Distribution')\n",
    "plt.xlabel('Distance (km)')\n",
    "plt.ylabel('Frequency')\n",
    "plt.xlim(0, 10)\n",
    "plt.show()"
   ]
  }
 ],
 "metadata": {
  "kernelspec": {
   "display_name": "Python 3",
   "language": "python",
   "name": "python3"
  },
  "language_info": {
   "codemirror_mode": {
    "name": "ipython",
    "version": 3
   },
   "file_extension": ".py",
   "mimetype": "text/x-python",
   "name": "python",
   "nbconvert_exporter": "python",
   "pygments_lexer": "ipython3",
   "version": "3.9.6"
  }
 },
 "nbformat": 4,
 "nbformat_minor": 4
}
