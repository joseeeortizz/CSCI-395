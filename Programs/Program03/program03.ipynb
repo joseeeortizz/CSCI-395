{
 "cells": [
  {
   "cell_type": "code",
   "id": "1ab13913-0cf2-4bf0-941d-3e8dec4f4b27",
   "metadata": {
    "ExecuteTime": {
     "end_time": "2025-03-27T15:15:25.225347Z",
     "start_time": "2025-03-27T15:15:25.221093Z"
    }
   },
   "source": [
    "\"\"\"\n",
    "Name: Jose Miguel Ortiz\n",
    "Email: jose.ortiz60@lagcc.cuny.edu\n",
    "\"\"\""
   ],
   "outputs": [
    {
     "data": {
      "text/plain": [
       "'\\nName: Jose Miguel Ortiz\\nEmail: jose.ortiz60@lagcc.cuny.edu\\n'"
      ]
     },
     "execution_count": 2,
     "metadata": {},
     "output_type": "execute_result"
    }
   ],
   "execution_count": 2
  },
  {
   "cell_type": "markdown",
   "id": "4e23a911-c99d-46de-aa34-6bc4c4de53b9",
   "metadata": {},
   "source": [
    "# Program 3: geospatial analysis of 911 ambulance requests in NYC"
   ]
  },
  {
   "cell_type": "code",
   "id": "7d7cb859-6726-4a3e-9e13-37fe6300aafb",
   "metadata": {
    "ExecuteTime": {
     "end_time": "2025-03-27T15:15:25.368670Z",
     "start_time": "2025-03-27T15:15:25.253823Z"
    }
   },
   "source": [
    "import pandas as pd\n",
    "import geopandas as gpd\n",
    "import matplotlib.pyplot as plt\n",
    "import seaborn as sns\n",
    "import plotly.express as px\n",
    "import json"
   ],
   "outputs": [],
   "execution_count": 3
  },
  {
   "cell_type": "markdown",
   "id": "c93fc09b-6b5f-4322-b644-82b0979a3196",
   "metadata": {},
   "source": [
    "## Section 1: obtain and explore the data\n",
    "\n",
    "In this exercise you'll be working with with the [NYPD 911 Calls For Service dataset](https://data.cityofnewyork.us/Public-Safety/NYPD-Calls-for-Service-Year-to-Date-/n2zq-pubd/about_data). In particular, you'll be looking at a subset of the data: ambulance calls between 2024-01-01 and 2024-09-31.\n",
    "\n",
    "#### Task 1.1: Download and import the data\n",
    "Export the Ambulance calls data table from the NYC Open Data portal. You can find the subset with the necessary filters applied (and some non-necessary columns removed) [here](https://data.cityofnewyork.us/Public-Safety/NYPD-Calls-for-Service-Year-to-Date-/n2zq-pubd/explore/query/SELECT%0A%20%20%60incident_date%60%2C%0A%20%20%60incident_time%60%2C%0A%20%20%60boro_nm%60%2C%0A%20%20%60typ_desc%60%2C%0A%20%20%60arrivd_ts%60%2C%0A%20%20%60closng_ts%60%2C%0A%20%20%60latitude%60%2C%0A%20%20%60longitude%60%0AWHERE%0A%20%20%28%60create_date%60%0A%20%20%20%20%20BETWEEN%20%222024-01-01T00%3A00%3A00%22%20%3A%3A%20floating_timestamp%0A%20%20%20%20%20AND%20%222024-10-01T00%3A00%3A00%22%20%3A%3A%20floating_timestamp%29%0A%20%20AND%20caseless_contains%28%60typ_desc%60%2C%20%22AMBULANCE%20CASE%3A%22%29/page/filter). Export it as a CSV, move it to your notebook's working directory, and name your file `911-ambulance-calls-2024-Jan-Sep.csv`. Finally, import the data into a pandas dataframe named `ambulance_calls_df`."
   ]
  },
  {
   "cell_type": "code",
   "id": "3a394218-361a-4b10-8630-28bf3c8eea64",
   "metadata": {
    "ExecuteTime": {
     "end_time": "2025-03-27T15:15:25.825741Z",
     "start_time": "2025-03-27T15:15:25.373224Z"
    }
   },
   "source": "ambulance_calls_df = pd.read_csv(\"911-ambulance-calls-2024-Jan-Sep.csv\")",
   "outputs": [],
   "execution_count": 4
  },
  {
   "cell_type": "markdown",
   "id": "99c9baa6-ca7e-4075-9e7a-f9756789b9c2",
   "metadata": {},
   "source": [
    "#### Task 1.2 Clean up the table\n",
    "\n",
    "1. rename `CLOSNG_TS` to `closing_ts` and `ARRIVD_TS` to `arrived_ts` for readability; then convert them to datetime type. You may want to consult the docs for the `pd.to_datetime()` function and python's datetime string formatting options [here](https://pandas.pydata.org/pandas-docs/stable/reference/api/pandas.to_datetime.html) and [here](https://docs.python.org/3/library/datetime.html#strftime-and-strptime-behavior).\n",
    "1. combine `\"INCIDENT_DATE\"` and `\"INCIDENT_TIME\"` into a single datetime column called `\"incident_ts\"`; then, drop the original `\"INCIDENT_DATE\"` and `\"INCIDENT_TIME\"` to avoid redundancy\n",
    "1. make the remaining column names snake case for typing ease\n",
    "\n",
    "Finally, display the cleaned-up table."
   ]
  },
  {
   "cell_type": "code",
   "id": "4b33dbe6-b7db-4242-975c-f7f0073fd354",
   "metadata": {
    "ExecuteTime": {
     "end_time": "2025-03-27T15:15:27.156903Z",
     "start_time": "2025-03-27T15:15:25.891462Z"
    }
   },
   "source": [
    "ambulance_calls_df = ambulance_calls_df.rename(columns={\n",
    "    \"CLOSNG_TS\": \"closing_ts\",\n",
    "    \"ARRIVD_TS\": \"arrived_ts\"\n",
    "})\n",
    "ambulance_calls_df[\"closing_ts\"] = pd.to_datetime(ambulance_calls_df[\"closing_ts\"], format='%m/%d/%Y %I:%M:%S %p')\n",
    "ambulance_calls_df[\"arrived_ts\"] = pd.to_datetime(ambulance_calls_df[\"arrived_ts\"], format='%m/%d/%Y %I:%M:%S %p')\n",
    "\n",
    "ambulance_calls_df[\"incident_ts\"] = pd.to_datetime(\n",
    "    ambulance_calls_df[\"INCIDENT_DATE\"] + \" \" + ambulance_calls_df[\"INCIDENT_TIME\"],\n",
    "    format='%Y-%m-%d %H:%M:%S'\n",
    ")\n",
    "ambulance_calls_df = ambulance_calls_df.drop(columns=[\"INCIDENT_DATE\", \"INCIDENT_TIME\"])\n",
    "ambulance_calls_df.columns = ambulance_calls_df.columns.str.lower()"
   ],
   "outputs": [
    {
     "ename": "ValueError",
     "evalue": "time data \"04/18/2024 12:48:44\" doesn't match format \"%Y-%m-%d %H:%M:%S\", at position 0. You might want to try:\n    - passing `format` if your strings have a consistent format;\n    - passing `format='ISO8601'` if your strings are all ISO8601 but not necessarily in exactly the same format;\n    - passing `format='mixed'`, and the format will be inferred for each element individually. You might want to use `dayfirst` alongside this.",
     "output_type": "error",
     "traceback": [
      "\u001B[31m---------------------------------------------------------------------------\u001B[39m",
      "\u001B[31mValueError\u001B[39m                                Traceback (most recent call last)",
      "\u001B[36mCell\u001B[39m\u001B[36m \u001B[39m\u001B[32mIn[5]\u001B[39m\u001B[32m, line 8\u001B[39m\n\u001B[32m      5\u001B[39m ambulance_calls_df[\u001B[33m\"\u001B[39m\u001B[33mclosing_ts\u001B[39m\u001B[33m\"\u001B[39m] = pd.to_datetime(ambulance_calls_df[\u001B[33m\"\u001B[39m\u001B[33mclosing_ts\u001B[39m\u001B[33m\"\u001B[39m], \u001B[38;5;28mformat\u001B[39m=\u001B[33m'\u001B[39m\u001B[33m%\u001B[39m\u001B[33mm/\u001B[39m\u001B[38;5;132;01m%d\u001B[39;00m\u001B[33m/\u001B[39m\u001B[33m%\u001B[39m\u001B[33mY \u001B[39m\u001B[33m%\u001B[39m\u001B[33mI:\u001B[39m\u001B[33m%\u001B[39m\u001B[33mM:\u001B[39m\u001B[33m%\u001B[39m\u001B[33mS \u001B[39m\u001B[33m%\u001B[39m\u001B[33mp\u001B[39m\u001B[33m'\u001B[39m)\n\u001B[32m      6\u001B[39m ambulance_calls_df[\u001B[33m\"\u001B[39m\u001B[33marrived_ts\u001B[39m\u001B[33m\"\u001B[39m] = pd.to_datetime(ambulance_calls_df[\u001B[33m\"\u001B[39m\u001B[33marrived_ts\u001B[39m\u001B[33m\"\u001B[39m], \u001B[38;5;28mformat\u001B[39m=\u001B[33m'\u001B[39m\u001B[33m%\u001B[39m\u001B[33mm/\u001B[39m\u001B[38;5;132;01m%d\u001B[39;00m\u001B[33m/\u001B[39m\u001B[33m%\u001B[39m\u001B[33mY \u001B[39m\u001B[33m%\u001B[39m\u001B[33mI:\u001B[39m\u001B[33m%\u001B[39m\u001B[33mM:\u001B[39m\u001B[33m%\u001B[39m\u001B[33mS \u001B[39m\u001B[33m%\u001B[39m\u001B[33mp\u001B[39m\u001B[33m'\u001B[39m)\n\u001B[32m----> \u001B[39m\u001B[32m8\u001B[39m ambulance_calls_df[\u001B[33m\"\u001B[39m\u001B[33mincident_ts\u001B[39m\u001B[33m\"\u001B[39m] = \u001B[43mpd\u001B[49m\u001B[43m.\u001B[49m\u001B[43mto_datetime\u001B[49m\u001B[43m(\u001B[49m\n\u001B[32m      9\u001B[39m \u001B[43m    \u001B[49m\u001B[43mambulance_calls_df\u001B[49m\u001B[43m[\u001B[49m\u001B[33;43m\"\u001B[39;49m\u001B[33;43mINCIDENT_DATE\u001B[39;49m\u001B[33;43m\"\u001B[39;49m\u001B[43m]\u001B[49m\u001B[43m \u001B[49m\u001B[43m+\u001B[49m\u001B[43m \u001B[49m\u001B[33;43m\"\u001B[39;49m\u001B[33;43m \u001B[39;49m\u001B[33;43m\"\u001B[39;49m\u001B[43m \u001B[49m\u001B[43m+\u001B[49m\u001B[43m \u001B[49m\u001B[43mambulance_calls_df\u001B[49m\u001B[43m[\u001B[49m\u001B[33;43m\"\u001B[39;49m\u001B[33;43mINCIDENT_TIME\u001B[39;49m\u001B[33;43m\"\u001B[39;49m\u001B[43m]\u001B[49m\u001B[43m,\u001B[49m\n\u001B[32m     10\u001B[39m \u001B[43m    \u001B[49m\u001B[38;5;28;43mformat\u001B[39;49m\u001B[43m=\u001B[49m\u001B[33;43m'\u001B[39;49m\u001B[33;43m%\u001B[39;49m\u001B[33;43mY-\u001B[39;49m\u001B[33;43m%\u001B[39;49m\u001B[33;43mm-\u001B[39;49m\u001B[38;5;132;43;01m%d\u001B[39;49;00m\u001B[33;43m \u001B[39;49m\u001B[33;43m%\u001B[39;49m\u001B[33;43mH:\u001B[39;49m\u001B[33;43m%\u001B[39;49m\u001B[33;43mM:\u001B[39;49m\u001B[33;43m%\u001B[39;49m\u001B[33;43mS\u001B[39;49m\u001B[33;43m'\u001B[39;49m\n\u001B[32m     11\u001B[39m \u001B[43m)\u001B[49m\n\u001B[32m     12\u001B[39m ambulance_calls_df = ambulance_calls_df.drop(columns=[\u001B[33m\"\u001B[39m\u001B[33mINCIDENT_DATE\u001B[39m\u001B[33m\"\u001B[39m, \u001B[33m\"\u001B[39m\u001B[33mINCIDENT_TIME\u001B[39m\u001B[33m\"\u001B[39m])\n\u001B[32m     13\u001B[39m ambulance_calls_df.columns = ambulance_calls_df.columns.str.lower()\n",
      "\u001B[36mFile \u001B[39m\u001B[32m~/PycharmProjects/CSCI-395/.venv/lib/python3.12/site-packages/pandas/core/tools/datetimes.py:1067\u001B[39m, in \u001B[36mto_datetime\u001B[39m\u001B[34m(arg, errors, dayfirst, yearfirst, utc, format, exact, unit, infer_datetime_format, origin, cache)\u001B[39m\n\u001B[32m   1065\u001B[39m         result = arg.map(cache_array)\n\u001B[32m   1066\u001B[39m     \u001B[38;5;28;01melse\u001B[39;00m:\n\u001B[32m-> \u001B[39m\u001B[32m1067\u001B[39m         values = \u001B[43mconvert_listlike\u001B[49m\u001B[43m(\u001B[49m\u001B[43marg\u001B[49m\u001B[43m.\u001B[49m\u001B[43m_values\u001B[49m\u001B[43m,\u001B[49m\u001B[43m \u001B[49m\u001B[38;5;28;43mformat\u001B[39;49m\u001B[43m)\u001B[49m\n\u001B[32m   1068\u001B[39m         result = arg._constructor(values, index=arg.index, name=arg.name)\n\u001B[32m   1069\u001B[39m \u001B[38;5;28;01melif\u001B[39;00m \u001B[38;5;28misinstance\u001B[39m(arg, (ABCDataFrame, abc.MutableMapping)):\n",
      "\u001B[36mFile \u001B[39m\u001B[32m~/PycharmProjects/CSCI-395/.venv/lib/python3.12/site-packages/pandas/core/tools/datetimes.py:433\u001B[39m, in \u001B[36m_convert_listlike_datetimes\u001B[39m\u001B[34m(arg, format, name, utc, unit, errors, dayfirst, yearfirst, exact)\u001B[39m\n\u001B[32m    431\u001B[39m \u001B[38;5;66;03m# `format` could be inferred, or user didn't ask for mixed-format parsing.\u001B[39;00m\n\u001B[32m    432\u001B[39m \u001B[38;5;28;01mif\u001B[39;00m \u001B[38;5;28mformat\u001B[39m \u001B[38;5;129;01mis\u001B[39;00m \u001B[38;5;129;01mnot\u001B[39;00m \u001B[38;5;28;01mNone\u001B[39;00m \u001B[38;5;129;01mand\u001B[39;00m \u001B[38;5;28mformat\u001B[39m != \u001B[33m\"\u001B[39m\u001B[33mmixed\u001B[39m\u001B[33m\"\u001B[39m:\n\u001B[32m--> \u001B[39m\u001B[32m433\u001B[39m     \u001B[38;5;28;01mreturn\u001B[39;00m \u001B[43m_array_strptime_with_fallback\u001B[49m\u001B[43m(\u001B[49m\u001B[43marg\u001B[49m\u001B[43m,\u001B[49m\u001B[43m \u001B[49m\u001B[43mname\u001B[49m\u001B[43m,\u001B[49m\u001B[43m \u001B[49m\u001B[43mutc\u001B[49m\u001B[43m,\u001B[49m\u001B[43m \u001B[49m\u001B[38;5;28;43mformat\u001B[39;49m\u001B[43m,\u001B[49m\u001B[43m \u001B[49m\u001B[43mexact\u001B[49m\u001B[43m,\u001B[49m\u001B[43m \u001B[49m\u001B[43merrors\u001B[49m\u001B[43m)\u001B[49m\n\u001B[32m    435\u001B[39m result, tz_parsed = objects_to_datetime64(\n\u001B[32m    436\u001B[39m     arg,\n\u001B[32m    437\u001B[39m     dayfirst=dayfirst,\n\u001B[32m   (...)\u001B[39m\u001B[32m    441\u001B[39m     allow_object=\u001B[38;5;28;01mTrue\u001B[39;00m,\n\u001B[32m    442\u001B[39m )\n\u001B[32m    444\u001B[39m \u001B[38;5;28;01mif\u001B[39;00m tz_parsed \u001B[38;5;129;01mis\u001B[39;00m \u001B[38;5;129;01mnot\u001B[39;00m \u001B[38;5;28;01mNone\u001B[39;00m:\n\u001B[32m    445\u001B[39m     \u001B[38;5;66;03m# We can take a shortcut since the datetime64 numpy array\u001B[39;00m\n\u001B[32m    446\u001B[39m     \u001B[38;5;66;03m# is in UTC\u001B[39;00m\n",
      "\u001B[36mFile \u001B[39m\u001B[32m~/PycharmProjects/CSCI-395/.venv/lib/python3.12/site-packages/pandas/core/tools/datetimes.py:467\u001B[39m, in \u001B[36m_array_strptime_with_fallback\u001B[39m\u001B[34m(arg, name, utc, fmt, exact, errors)\u001B[39m\n\u001B[32m    456\u001B[39m \u001B[38;5;28;01mdef\u001B[39;00m\u001B[38;5;250m \u001B[39m\u001B[34m_array_strptime_with_fallback\u001B[39m(\n\u001B[32m    457\u001B[39m     arg,\n\u001B[32m    458\u001B[39m     name,\n\u001B[32m   (...)\u001B[39m\u001B[32m    462\u001B[39m     errors: \u001B[38;5;28mstr\u001B[39m,\n\u001B[32m    463\u001B[39m ) -> Index:\n\u001B[32m    464\u001B[39m \u001B[38;5;250m    \u001B[39m\u001B[33;03m\"\"\"\u001B[39;00m\n\u001B[32m    465\u001B[39m \u001B[33;03m    Call array_strptime, with fallback behavior depending on 'errors'.\u001B[39;00m\n\u001B[32m    466\u001B[39m \u001B[33;03m    \"\"\"\u001B[39;00m\n\u001B[32m--> \u001B[39m\u001B[32m467\u001B[39m     result, tz_out = \u001B[43marray_strptime\u001B[49m\u001B[43m(\u001B[49m\u001B[43marg\u001B[49m\u001B[43m,\u001B[49m\u001B[43m \u001B[49m\u001B[43mfmt\u001B[49m\u001B[43m,\u001B[49m\u001B[43m \u001B[49m\u001B[43mexact\u001B[49m\u001B[43m=\u001B[49m\u001B[43mexact\u001B[49m\u001B[43m,\u001B[49m\u001B[43m \u001B[49m\u001B[43merrors\u001B[49m\u001B[43m=\u001B[49m\u001B[43merrors\u001B[49m\u001B[43m,\u001B[49m\u001B[43m \u001B[49m\u001B[43mutc\u001B[49m\u001B[43m=\u001B[49m\u001B[43mutc\u001B[49m\u001B[43m)\u001B[49m\n\u001B[32m    468\u001B[39m     \u001B[38;5;28;01mif\u001B[39;00m tz_out \u001B[38;5;129;01mis\u001B[39;00m \u001B[38;5;129;01mnot\u001B[39;00m \u001B[38;5;28;01mNone\u001B[39;00m:\n\u001B[32m    469\u001B[39m         unit = np.datetime_data(result.dtype)[\u001B[32m0\u001B[39m]\n",
      "\u001B[36mFile \u001B[39m\u001B[32mstrptime.pyx:501\u001B[39m, in \u001B[36mpandas._libs.tslibs.strptime.array_strptime\u001B[39m\u001B[34m()\u001B[39m\n",
      "\u001B[36mFile \u001B[39m\u001B[32mstrptime.pyx:451\u001B[39m, in \u001B[36mpandas._libs.tslibs.strptime.array_strptime\u001B[39m\u001B[34m()\u001B[39m\n",
      "\u001B[36mFile \u001B[39m\u001B[32mstrptime.pyx:583\u001B[39m, in \u001B[36mpandas._libs.tslibs.strptime._parse_with_format\u001B[39m\u001B[34m()\u001B[39m\n",
      "\u001B[31mValueError\u001B[39m: time data \"04/18/2024 12:48:44\" doesn't match format \"%Y-%m-%d %H:%M:%S\", at position 0. You might want to try:\n    - passing `format` if your strings have a consistent format;\n    - passing `format='ISO8601'` if your strings are all ISO8601 but not necessarily in exactly the same format;\n    - passing `format='mixed'`, and the format will be inferred for each element individually. You might want to use `dayfirst` alongside this."
     ]
    }
   ],
   "execution_count": 5
  },
  {
   "cell_type": "code",
   "id": "554131f5-3984-4c2a-8ee0-33e75b41eb86",
   "metadata": {
    "ExecuteTime": {
     "end_time": "2025-03-27T15:15:27.173473Z",
     "start_time": "2025-03-27T14:39:59.497440Z"
    }
   },
   "source": [
    "# display cleaned table\n",
    "ambulance_calls_df"
   ],
   "outputs": [
    {
     "data": {
      "text/plain": [
       "       INCIDENT_DATE INCIDENT_TIME    BORO_NM                        TYP_DESC  \\\n",
       "0         04/18/2024      12:48:44   BROOKLYN      AMBULANCE CASE: EDP/INSIDE   \n",
       "1         05/24/2024      04:12:07     QUEENS  AMBULANCE CASE: RESCUE/TRANSIT   \n",
       "2         05/29/2024      18:15:00   BROOKLYN      AMBULANCE CASE: EDP/INSIDE   \n",
       "3         05/29/2024      18:15:00   BROOKLYN      AMBULANCE CASE: EDP/INSIDE   \n",
       "4         05/29/2024      18:30:02      BRONX      AMBULANCE CASE: EDP/INSIDE   \n",
       "...              ...           ...        ...                             ...   \n",
       "518946    09/30/2024      23:55:14   BROOKLYN     AMBULANCE CASE: EDP/OUTSIDE   \n",
       "518947    09/30/2024      23:56:04   BROOKLYN  AMBULANCE CASE: SERIOUS/INSIDE   \n",
       "518948    09/30/2024      23:58:34  MANHATTAN     AMBULANCE CASE: EDP/TRANSIT   \n",
       "518949    09/30/2024      23:58:34  MANHATTAN     AMBULANCE CASE: EDP/TRANSIT   \n",
       "518950    09/30/2024      23:58:39  MANHATTAN  AMBULANCE CASE: CARDIAC/INSIDE   \n",
       "\n",
       "                arrived_ts          closing_ts   Latitude  Longitude  \n",
       "0                      NaT 2024-04-18 15:15:06  40.652409 -73.954337  \n",
       "1                      NaT 2024-05-24 04:19:16  40.744033 -73.924692  \n",
       "2                      NaT 2024-05-29 18:41:09  40.691623 -73.982408  \n",
       "3                      NaT 2024-05-29 18:42:30  40.691623 -73.982408  \n",
       "4      2024-05-29 18:30:12 2024-05-29 22:25:13  40.820506 -73.915758  \n",
       "...                    ...                 ...        ...        ...  \n",
       "518946 2024-09-30 23:56:17 2024-10-01 00:19:51  40.691632 -73.986302  \n",
       "518947 2024-10-01 00:46:05 2024-10-01 00:46:14  40.675524 -73.924914  \n",
       "518948 2024-10-01 00:25:11 2024-10-01 00:32:18  40.777382 -73.950561  \n",
       "518949                 NaT 2024-10-01 00:48:14  40.777382 -73.950561  \n",
       "518950                 NaT 2024-10-01 00:59:14  40.722787 -73.981346  \n",
       "\n",
       "[518951 rows x 8 columns]"
      ],
      "text/html": [
       "<div>\n",
       "<style scoped>\n",
       "    .dataframe tbody tr th:only-of-type {\n",
       "        vertical-align: middle;\n",
       "    }\n",
       "\n",
       "    .dataframe tbody tr th {\n",
       "        vertical-align: top;\n",
       "    }\n",
       "\n",
       "    .dataframe thead th {\n",
       "        text-align: right;\n",
       "    }\n",
       "</style>\n",
       "<table border=\"1\" class=\"dataframe\">\n",
       "  <thead>\n",
       "    <tr style=\"text-align: right;\">\n",
       "      <th></th>\n",
       "      <th>INCIDENT_DATE</th>\n",
       "      <th>INCIDENT_TIME</th>\n",
       "      <th>BORO_NM</th>\n",
       "      <th>TYP_DESC</th>\n",
       "      <th>arrived_ts</th>\n",
       "      <th>closing_ts</th>\n",
       "      <th>Latitude</th>\n",
       "      <th>Longitude</th>\n",
       "    </tr>\n",
       "  </thead>\n",
       "  <tbody>\n",
       "    <tr>\n",
       "      <th>0</th>\n",
       "      <td>04/18/2024</td>\n",
       "      <td>12:48:44</td>\n",
       "      <td>BROOKLYN</td>\n",
       "      <td>AMBULANCE CASE: EDP/INSIDE</td>\n",
       "      <td>NaT</td>\n",
       "      <td>2024-04-18 15:15:06</td>\n",
       "      <td>40.652409</td>\n",
       "      <td>-73.954337</td>\n",
       "    </tr>\n",
       "    <tr>\n",
       "      <th>1</th>\n",
       "      <td>05/24/2024</td>\n",
       "      <td>04:12:07</td>\n",
       "      <td>QUEENS</td>\n",
       "      <td>AMBULANCE CASE: RESCUE/TRANSIT</td>\n",
       "      <td>NaT</td>\n",
       "      <td>2024-05-24 04:19:16</td>\n",
       "      <td>40.744033</td>\n",
       "      <td>-73.924692</td>\n",
       "    </tr>\n",
       "    <tr>\n",
       "      <th>2</th>\n",
       "      <td>05/29/2024</td>\n",
       "      <td>18:15:00</td>\n",
       "      <td>BROOKLYN</td>\n",
       "      <td>AMBULANCE CASE: EDP/INSIDE</td>\n",
       "      <td>NaT</td>\n",
       "      <td>2024-05-29 18:41:09</td>\n",
       "      <td>40.691623</td>\n",
       "      <td>-73.982408</td>\n",
       "    </tr>\n",
       "    <tr>\n",
       "      <th>3</th>\n",
       "      <td>05/29/2024</td>\n",
       "      <td>18:15:00</td>\n",
       "      <td>BROOKLYN</td>\n",
       "      <td>AMBULANCE CASE: EDP/INSIDE</td>\n",
       "      <td>NaT</td>\n",
       "      <td>2024-05-29 18:42:30</td>\n",
       "      <td>40.691623</td>\n",
       "      <td>-73.982408</td>\n",
       "    </tr>\n",
       "    <tr>\n",
       "      <th>4</th>\n",
       "      <td>05/29/2024</td>\n",
       "      <td>18:30:02</td>\n",
       "      <td>BRONX</td>\n",
       "      <td>AMBULANCE CASE: EDP/INSIDE</td>\n",
       "      <td>2024-05-29 18:30:12</td>\n",
       "      <td>2024-05-29 22:25:13</td>\n",
       "      <td>40.820506</td>\n",
       "      <td>-73.915758</td>\n",
       "    </tr>\n",
       "    <tr>\n",
       "      <th>...</th>\n",
       "      <td>...</td>\n",
       "      <td>...</td>\n",
       "      <td>...</td>\n",
       "      <td>...</td>\n",
       "      <td>...</td>\n",
       "      <td>...</td>\n",
       "      <td>...</td>\n",
       "      <td>...</td>\n",
       "    </tr>\n",
       "    <tr>\n",
       "      <th>518946</th>\n",
       "      <td>09/30/2024</td>\n",
       "      <td>23:55:14</td>\n",
       "      <td>BROOKLYN</td>\n",
       "      <td>AMBULANCE CASE: EDP/OUTSIDE</td>\n",
       "      <td>2024-09-30 23:56:17</td>\n",
       "      <td>2024-10-01 00:19:51</td>\n",
       "      <td>40.691632</td>\n",
       "      <td>-73.986302</td>\n",
       "    </tr>\n",
       "    <tr>\n",
       "      <th>518947</th>\n",
       "      <td>09/30/2024</td>\n",
       "      <td>23:56:04</td>\n",
       "      <td>BROOKLYN</td>\n",
       "      <td>AMBULANCE CASE: SERIOUS/INSIDE</td>\n",
       "      <td>2024-10-01 00:46:05</td>\n",
       "      <td>2024-10-01 00:46:14</td>\n",
       "      <td>40.675524</td>\n",
       "      <td>-73.924914</td>\n",
       "    </tr>\n",
       "    <tr>\n",
       "      <th>518948</th>\n",
       "      <td>09/30/2024</td>\n",
       "      <td>23:58:34</td>\n",
       "      <td>MANHATTAN</td>\n",
       "      <td>AMBULANCE CASE: EDP/TRANSIT</td>\n",
       "      <td>2024-10-01 00:25:11</td>\n",
       "      <td>2024-10-01 00:32:18</td>\n",
       "      <td>40.777382</td>\n",
       "      <td>-73.950561</td>\n",
       "    </tr>\n",
       "    <tr>\n",
       "      <th>518949</th>\n",
       "      <td>09/30/2024</td>\n",
       "      <td>23:58:34</td>\n",
       "      <td>MANHATTAN</td>\n",
       "      <td>AMBULANCE CASE: EDP/TRANSIT</td>\n",
       "      <td>NaT</td>\n",
       "      <td>2024-10-01 00:48:14</td>\n",
       "      <td>40.777382</td>\n",
       "      <td>-73.950561</td>\n",
       "    </tr>\n",
       "    <tr>\n",
       "      <th>518950</th>\n",
       "      <td>09/30/2024</td>\n",
       "      <td>23:58:39</td>\n",
       "      <td>MANHATTAN</td>\n",
       "      <td>AMBULANCE CASE: CARDIAC/INSIDE</td>\n",
       "      <td>NaT</td>\n",
       "      <td>2024-10-01 00:59:14</td>\n",
       "      <td>40.722787</td>\n",
       "      <td>-73.981346</td>\n",
       "    </tr>\n",
       "  </tbody>\n",
       "</table>\n",
       "<p>518951 rows × 8 columns</p>\n",
       "</div>"
      ]
     },
     "execution_count": 10,
     "metadata": {},
     "output_type": "execute_result"
    }
   ],
   "execution_count": 10
  },
  {
   "cell_type": "markdown",
   "id": "1623ccfa-03f8-4eb1-a636-17d7b95ebfd0",
   "metadata": {},
   "source": [
    "#### Task 1.3: Compute time intervals\n",
    "\n",
    "Before moving on, compute two new derived columns: the `total_seconds()` elapsed between\n",
    "- the incident was reported until it was closed; call the new column `\"duration_secs\"`\n",
    "- the incident was reported until help arrived; call this new column `\"arrived_in_secs\"`"
   ]
  },
  {
   "cell_type": "code",
   "id": "2f461a60-e5aa-4e26-b4ce-67661463979b",
   "metadata": {
    "ExecuteTime": {
     "end_time": "2025-03-27T15:15:27.189797Z",
     "start_time": "2025-03-27T15:02:21.049323Z"
    }
   },
   "source": [
    "# create derived columns\n",
    "ambulance_calls_df[\"duration_secs\"] = (ambulance_calls_df[\"closing_ts\"] - ambulance_calls_df[\"incident_ts\"]).dt.total_seconds()\n",
    "ambulance_calls_df[\"arrived_in_secs\"] = (ambulance_calls_df[\"arrived_ts\"] - ambulance_calls_df[\"incident_ts\"]).dt.total_seconds()"
   ],
   "outputs": [
    {
     "ename": "KeyError",
     "evalue": "'incident_ts'",
     "output_type": "error",
     "traceback": [
      "\u001B[31m---------------------------------------------------------------------------\u001B[39m",
      "\u001B[31mKeyError\u001B[39m                                  Traceback (most recent call last)",
      "\u001B[36mFile \u001B[39m\u001B[32m~/PycharmProjects/CSCI-395/.venv/lib/python3.12/site-packages/pandas/core/indexes/base.py:3805\u001B[39m, in \u001B[36mIndex.get_loc\u001B[39m\u001B[34m(self, key)\u001B[39m\n\u001B[32m   3804\u001B[39m \u001B[38;5;28;01mtry\u001B[39;00m:\n\u001B[32m-> \u001B[39m\u001B[32m3805\u001B[39m     \u001B[38;5;28;01mreturn\u001B[39;00m \u001B[38;5;28;43mself\u001B[39;49m\u001B[43m.\u001B[49m\u001B[43m_engine\u001B[49m\u001B[43m.\u001B[49m\u001B[43mget_loc\u001B[49m\u001B[43m(\u001B[49m\u001B[43mcasted_key\u001B[49m\u001B[43m)\u001B[49m\n\u001B[32m   3806\u001B[39m \u001B[38;5;28;01mexcept\u001B[39;00m \u001B[38;5;167;01mKeyError\u001B[39;00m \u001B[38;5;28;01mas\u001B[39;00m err:\n",
      "\u001B[36mFile \u001B[39m\u001B[32mindex.pyx:167\u001B[39m, in \u001B[36mpandas._libs.index.IndexEngine.get_loc\u001B[39m\u001B[34m()\u001B[39m\n",
      "\u001B[36mFile \u001B[39m\u001B[32mindex.pyx:196\u001B[39m, in \u001B[36mpandas._libs.index.IndexEngine.get_loc\u001B[39m\u001B[34m()\u001B[39m\n",
      "\u001B[36mFile \u001B[39m\u001B[32mpandas/_libs/hashtable_class_helper.pxi:7081\u001B[39m, in \u001B[36mpandas._libs.hashtable.PyObjectHashTable.get_item\u001B[39m\u001B[34m()\u001B[39m\n",
      "\u001B[36mFile \u001B[39m\u001B[32mpandas/_libs/hashtable_class_helper.pxi:7089\u001B[39m, in \u001B[36mpandas._libs.hashtable.PyObjectHashTable.get_item\u001B[39m\u001B[34m()\u001B[39m\n",
      "\u001B[31mKeyError\u001B[39m: 'incident_ts'",
      "\nThe above exception was the direct cause of the following exception:\n",
      "\u001B[31mKeyError\u001B[39m                                  Traceback (most recent call last)",
      "\u001B[36mCell\u001B[39m\u001B[36m \u001B[39m\u001B[32mIn[14]\u001B[39m\u001B[32m, line 2\u001B[39m\n\u001B[32m      1\u001B[39m \u001B[38;5;66;03m# create derived columns\u001B[39;00m\n\u001B[32m----> \u001B[39m\u001B[32m2\u001B[39m ambulance_calls_df[\u001B[33m\"\u001B[39m\u001B[33mduration_secs\u001B[39m\u001B[33m\"\u001B[39m] = (ambulance_calls_df[\u001B[33m\"\u001B[39m\u001B[33mclosing_ts\u001B[39m\u001B[33m\"\u001B[39m] - \u001B[43mambulance_calls_df\u001B[49m\u001B[43m[\u001B[49m\u001B[33;43m\"\u001B[39;49m\u001B[33;43mincident_ts\u001B[39;49m\u001B[33;43m\"\u001B[39;49m\u001B[43m]\u001B[49m).dt.total_seconds()\n\u001B[32m      3\u001B[39m ambulance_calls_df[\u001B[33m\"\u001B[39m\u001B[33marrived_in_secs\u001B[39m\u001B[33m\"\u001B[39m] = (ambulance_calls_df[\u001B[33m\"\u001B[39m\u001B[33marrived_ts\u001B[39m\u001B[33m\"\u001B[39m] - ambulance_calls_df[\u001B[33m\"\u001B[39m\u001B[33mincident_ts\u001B[39m\u001B[33m\"\u001B[39m]).dt.total_seconds()\n",
      "\u001B[36mFile \u001B[39m\u001B[32m~/PycharmProjects/CSCI-395/.venv/lib/python3.12/site-packages/pandas/core/frame.py:4102\u001B[39m, in \u001B[36mDataFrame.__getitem__\u001B[39m\u001B[34m(self, key)\u001B[39m\n\u001B[32m   4100\u001B[39m \u001B[38;5;28;01mif\u001B[39;00m \u001B[38;5;28mself\u001B[39m.columns.nlevels > \u001B[32m1\u001B[39m:\n\u001B[32m   4101\u001B[39m     \u001B[38;5;28;01mreturn\u001B[39;00m \u001B[38;5;28mself\u001B[39m._getitem_multilevel(key)\n\u001B[32m-> \u001B[39m\u001B[32m4102\u001B[39m indexer = \u001B[38;5;28;43mself\u001B[39;49m\u001B[43m.\u001B[49m\u001B[43mcolumns\u001B[49m\u001B[43m.\u001B[49m\u001B[43mget_loc\u001B[49m\u001B[43m(\u001B[49m\u001B[43mkey\u001B[49m\u001B[43m)\u001B[49m\n\u001B[32m   4103\u001B[39m \u001B[38;5;28;01mif\u001B[39;00m is_integer(indexer):\n\u001B[32m   4104\u001B[39m     indexer = [indexer]\n",
      "\u001B[36mFile \u001B[39m\u001B[32m~/PycharmProjects/CSCI-395/.venv/lib/python3.12/site-packages/pandas/core/indexes/base.py:3812\u001B[39m, in \u001B[36mIndex.get_loc\u001B[39m\u001B[34m(self, key)\u001B[39m\n\u001B[32m   3807\u001B[39m     \u001B[38;5;28;01mif\u001B[39;00m \u001B[38;5;28misinstance\u001B[39m(casted_key, \u001B[38;5;28mslice\u001B[39m) \u001B[38;5;129;01mor\u001B[39;00m (\n\u001B[32m   3808\u001B[39m         \u001B[38;5;28misinstance\u001B[39m(casted_key, abc.Iterable)\n\u001B[32m   3809\u001B[39m         \u001B[38;5;129;01mand\u001B[39;00m \u001B[38;5;28many\u001B[39m(\u001B[38;5;28misinstance\u001B[39m(x, \u001B[38;5;28mslice\u001B[39m) \u001B[38;5;28;01mfor\u001B[39;00m x \u001B[38;5;129;01min\u001B[39;00m casted_key)\n\u001B[32m   3810\u001B[39m     ):\n\u001B[32m   3811\u001B[39m         \u001B[38;5;28;01mraise\u001B[39;00m InvalidIndexError(key)\n\u001B[32m-> \u001B[39m\u001B[32m3812\u001B[39m     \u001B[38;5;28;01mraise\u001B[39;00m \u001B[38;5;167;01mKeyError\u001B[39;00m(key) \u001B[38;5;28;01mfrom\u001B[39;00m\u001B[38;5;250m \u001B[39m\u001B[34;01merr\u001B[39;00m\n\u001B[32m   3813\u001B[39m \u001B[38;5;28;01mexcept\u001B[39;00m \u001B[38;5;167;01mTypeError\u001B[39;00m:\n\u001B[32m   3814\u001B[39m     \u001B[38;5;66;03m# If we have a listlike key, _check_indexing_error will raise\u001B[39;00m\n\u001B[32m   3815\u001B[39m     \u001B[38;5;66;03m#  InvalidIndexError. Otherwise we fall through and re-raise\u001B[39;00m\n\u001B[32m   3816\u001B[39m     \u001B[38;5;66;03m#  the TypeError.\u001B[39;00m\n\u001B[32m   3817\u001B[39m     \u001B[38;5;28mself\u001B[39m._check_indexing_error(key)\n",
      "\u001B[31mKeyError\u001B[39m: 'incident_ts'"
     ]
    }
   ],
   "execution_count": 14
  },
  {
   "cell_type": "markdown",
   "id": "f1a3450e-1732-46f2-ba15-0062f60f1e53",
   "metadata": {},
   "source": [
    "## Section 2: Exploratory analysis\n",
    "#### Task 2.1: Explore the time intervals\n",
    "Now that you've created these new columns, let's take a look at them. Start by showing summary stats of new columns you created using the `.describe()` method on those two columns. Pass the argument `percentiles=[.25, .5, .75, .9, .95]` to get the quartiles as well as the 90th and 95th percentiles. Transpose the table using the resulting `T` attribute for easier readability."
   ]
  },
  {
   "cell_type": "code",
   "execution_count": null,
   "id": "541377fc-86da-4650-b6c0-46a6f8e2ee8b",
   "metadata": {},
   "outputs": [],
   "source": [
    "# describe \"duration_secs\" column\n",
    "print(ambulance_calls_df[[\"duration_secs\", \"arrived_in_secs\"]].describe(percentiles=[.25, .5, .75, .9, .95]).T)"
   ]
  },
  {
   "cell_type": "markdown",
   "id": "2395ea44-1c89-4dda-b91a-d91cec3b6967",
   "metadata": {},
   "source": [
    "Now plot the cumulative distribution functions using seaborn's `ecdfplot()` function. Plot both cumulative distributions together in the same chart, calling `sns.ecdfplot()` twice in the same notebook cell. Use the `label` parameter to add meaningful names to your legend. Also, call `plt.xlim()` to set the x-axis limits to `0-20000` and `plt.xlabel()` to set the label to `\"time in seconds\"`. Finally, call `plt.legend()` to generate a legend in your chart."
   ]
  },
  {
   "cell_type": "code",
   "id": "4d84f13e-24af-4b6d-8333-4241752d05ab",
   "metadata": {
    "ExecuteTime": {
     "end_time": "2025-03-27T15:16:20.903062Z",
     "start_time": "2025-03-27T15:16:20.777533Z"
    }
   },
   "source": [
    "if __name__ == \"__main__\":\n",
    "# create cumulative distribution plot\n",
    "    plt.figure(figsize=(12, 4))\n",
    "    sns.ecdfplot(data=ambulance_calls_df, x=\"duration_secs\", label=\"Duration\")\n",
    "    sns.ecdfplot(data=ambulance_calls_df, x=\"arrived_in_secs\", label=\"Arrival Time\")\n",
    "    plt.xlim(0, 20000)\n",
    "    plt.xlabel(\"Time in Seconds\")\n",
    "    plt.legend()\n",
    "    plt.show()"
   ],
   "outputs": [
    {
     "ename": "ValueError",
     "evalue": "Could not interpret value `duration_secs` for `x`. An entry with this name does not appear in `data`.",
     "output_type": "error",
     "traceback": [
      "\u001B[31m---------------------------------------------------------------------------\u001B[39m",
      "\u001B[31mValueError\u001B[39m                                Traceback (most recent call last)",
      "\u001B[36mCell\u001B[39m\u001B[36m \u001B[39m\u001B[32mIn[6]\u001B[39m\u001B[32m, line 4\u001B[39m\n\u001B[32m      1\u001B[39m \u001B[38;5;28;01mif\u001B[39;00m \u001B[34m__name__\u001B[39m == \u001B[33m\"\u001B[39m\u001B[33m__main__\u001B[39m\u001B[33m\"\u001B[39m:\n\u001B[32m      2\u001B[39m \u001B[38;5;66;03m# create cumulative distribution plot\u001B[39;00m\n\u001B[32m      3\u001B[39m     plt.figure(figsize=(\u001B[32m12\u001B[39m, \u001B[32m4\u001B[39m))\n\u001B[32m----> \u001B[39m\u001B[32m4\u001B[39m     \u001B[43msns\u001B[49m\u001B[43m.\u001B[49m\u001B[43mecdfplot\u001B[49m\u001B[43m(\u001B[49m\u001B[43mdata\u001B[49m\u001B[43m=\u001B[49m\u001B[43mambulance_calls_df\u001B[49m\u001B[43m,\u001B[49m\u001B[43m \u001B[49m\u001B[43mx\u001B[49m\u001B[43m=\u001B[49m\u001B[33;43m\"\u001B[39;49m\u001B[33;43mduration_secs\u001B[39;49m\u001B[33;43m\"\u001B[39;49m\u001B[43m,\u001B[49m\u001B[43m \u001B[49m\u001B[43mlabel\u001B[49m\u001B[43m=\u001B[49m\u001B[33;43m\"\u001B[39;49m\u001B[33;43mDuration\u001B[39;49m\u001B[33;43m\"\u001B[39;49m\u001B[43m)\u001B[49m\n\u001B[32m      5\u001B[39m     sns.ecdfplot(data=ambulance_calls_df, x=\u001B[33m\"\u001B[39m\u001B[33marrived_in_secs\u001B[39m\u001B[33m\"\u001B[39m, label=\u001B[33m\"\u001B[39m\u001B[33mArrival Time\u001B[39m\u001B[33m\"\u001B[39m)\n\u001B[32m      6\u001B[39m     plt.xlim(\u001B[32m0\u001B[39m, \u001B[32m20000\u001B[39m)\n",
      "\u001B[36mFile \u001B[39m\u001B[32m/Library/Frameworks/Python.framework/Versions/3.12/lib/python3.12/site-packages/seaborn/distributions.py:1875\u001B[39m, in \u001B[36mecdfplot\u001B[39m\u001B[34m(data, x, y, hue, weights, stat, complementary, palette, hue_order, hue_norm, log_scale, legend, ax, **kwargs)\u001B[39m\n\u001B[32m   1861\u001B[39m \u001B[38;5;28;01mdef\u001B[39;00m\u001B[38;5;250m \u001B[39m\u001B[34mecdfplot\u001B[39m(\n\u001B[32m   1862\u001B[39m     data=\u001B[38;5;28;01mNone\u001B[39;00m, *,\n\u001B[32m   1863\u001B[39m     \u001B[38;5;66;03m# Vector variables\u001B[39;00m\n\u001B[32m   (...)\u001B[39m\u001B[32m   1872\u001B[39m     **kwargs,\n\u001B[32m   1873\u001B[39m ):\n\u001B[32m-> \u001B[39m\u001B[32m1875\u001B[39m     p = \u001B[43m_DistributionPlotter\u001B[49m\u001B[43m(\u001B[49m\n\u001B[32m   1876\u001B[39m \u001B[43m        \u001B[49m\u001B[43mdata\u001B[49m\u001B[43m=\u001B[49m\u001B[43mdata\u001B[49m\u001B[43m,\u001B[49m\n\u001B[32m   1877\u001B[39m \u001B[43m        \u001B[49m\u001B[43mvariables\u001B[49m\u001B[43m=\u001B[49m\u001B[38;5;28;43mdict\u001B[39;49m\u001B[43m(\u001B[49m\u001B[43mx\u001B[49m\u001B[43m=\u001B[49m\u001B[43mx\u001B[49m\u001B[43m,\u001B[49m\u001B[43m \u001B[49m\u001B[43my\u001B[49m\u001B[43m=\u001B[49m\u001B[43my\u001B[49m\u001B[43m,\u001B[49m\u001B[43m \u001B[49m\u001B[43mhue\u001B[49m\u001B[43m=\u001B[49m\u001B[43mhue\u001B[49m\u001B[43m,\u001B[49m\u001B[43m \u001B[49m\u001B[43mweights\u001B[49m\u001B[43m=\u001B[49m\u001B[43mweights\u001B[49m\u001B[43m)\u001B[49m\u001B[43m,\u001B[49m\n\u001B[32m   1878\u001B[39m \u001B[43m    \u001B[49m\u001B[43m)\u001B[49m\n\u001B[32m   1880\u001B[39m     p.map_hue(palette=palette, order=hue_order, norm=hue_norm)\n\u001B[32m   1882\u001B[39m     \u001B[38;5;66;03m# We could support other semantics (size, style) here fairly easily\u001B[39;00m\n\u001B[32m   1883\u001B[39m     \u001B[38;5;66;03m# But it would make distplot a bit more complicated.\u001B[39;00m\n\u001B[32m   1884\u001B[39m     \u001B[38;5;66;03m# It's always possible to add features like that later, so I am going to defer.\u001B[39;00m\n\u001B[32m   1885\u001B[39m     \u001B[38;5;66;03m# It will be even easier to wait until after there is a more general/abstract\u001B[39;00m\n\u001B[32m   1886\u001B[39m     \u001B[38;5;66;03m# way to go from semantic specs to artist attributes.\u001B[39;00m\n",
      "\u001B[36mFile \u001B[39m\u001B[32m/Library/Frameworks/Python.framework/Versions/3.12/lib/python3.12/site-packages/seaborn/distributions.py:110\u001B[39m, in \u001B[36m_DistributionPlotter.__init__\u001B[39m\u001B[34m(self, data, variables)\u001B[39m\n\u001B[32m    104\u001B[39m \u001B[38;5;28;01mdef\u001B[39;00m\u001B[38;5;250m \u001B[39m\u001B[34m__init__\u001B[39m(\n\u001B[32m    105\u001B[39m     \u001B[38;5;28mself\u001B[39m,\n\u001B[32m    106\u001B[39m     data=\u001B[38;5;28;01mNone\u001B[39;00m,\n\u001B[32m    107\u001B[39m     variables={},\n\u001B[32m    108\u001B[39m ):\n\u001B[32m--> \u001B[39m\u001B[32m110\u001B[39m     \u001B[38;5;28;43msuper\u001B[39;49m\u001B[43m(\u001B[49m\u001B[43m)\u001B[49m\u001B[43m.\u001B[49m\u001B[34;43m__init__\u001B[39;49m\u001B[43m(\u001B[49m\u001B[43mdata\u001B[49m\u001B[43m=\u001B[49m\u001B[43mdata\u001B[49m\u001B[43m,\u001B[49m\u001B[43m \u001B[49m\u001B[43mvariables\u001B[49m\u001B[43m=\u001B[49m\u001B[43mvariables\u001B[49m\u001B[43m)\u001B[49m\n",
      "\u001B[36mFile \u001B[39m\u001B[32m/Library/Frameworks/Python.framework/Versions/3.12/lib/python3.12/site-packages/seaborn/_base.py:634\u001B[39m, in \u001B[36mVectorPlotter.__init__\u001B[39m\u001B[34m(self, data, variables)\u001B[39m\n\u001B[32m    629\u001B[39m \u001B[38;5;66;03m# var_ordered is relevant only for categorical axis variables, and may\u001B[39;00m\n\u001B[32m    630\u001B[39m \u001B[38;5;66;03m# be better handled by an internal axis information object that tracks\u001B[39;00m\n\u001B[32m    631\u001B[39m \u001B[38;5;66;03m# such information and is set up by the scale_* methods. The analogous\u001B[39;00m\n\u001B[32m    632\u001B[39m \u001B[38;5;66;03m# information for numeric axes would be information about log scales.\u001B[39;00m\n\u001B[32m    633\u001B[39m \u001B[38;5;28mself\u001B[39m._var_ordered = {\u001B[33m\"\u001B[39m\u001B[33mx\u001B[39m\u001B[33m\"\u001B[39m: \u001B[38;5;28;01mFalse\u001B[39;00m, \u001B[33m\"\u001B[39m\u001B[33my\u001B[39m\u001B[33m\"\u001B[39m: \u001B[38;5;28;01mFalse\u001B[39;00m}  \u001B[38;5;66;03m# alt., used DefaultDict\u001B[39;00m\n\u001B[32m--> \u001B[39m\u001B[32m634\u001B[39m \u001B[38;5;28;43mself\u001B[39;49m\u001B[43m.\u001B[49m\u001B[43massign_variables\u001B[49m\u001B[43m(\u001B[49m\u001B[43mdata\u001B[49m\u001B[43m,\u001B[49m\u001B[43m \u001B[49m\u001B[43mvariables\u001B[49m\u001B[43m)\u001B[49m\n\u001B[32m    636\u001B[39m \u001B[38;5;66;03m# TODO Lots of tests assume that these are called to initialize the\u001B[39;00m\n\u001B[32m    637\u001B[39m \u001B[38;5;66;03m# mappings to default values on class initialization. I'd prefer to\u001B[39;00m\n\u001B[32m    638\u001B[39m \u001B[38;5;66;03m# move away from that and only have a mapping when explicitly called.\u001B[39;00m\n\u001B[32m    639\u001B[39m \u001B[38;5;28;01mfor\u001B[39;00m var \u001B[38;5;129;01min\u001B[39;00m [\u001B[33m\"\u001B[39m\u001B[33mhue\u001B[39m\u001B[33m\"\u001B[39m, \u001B[33m\"\u001B[39m\u001B[33msize\u001B[39m\u001B[33m\"\u001B[39m, \u001B[33m\"\u001B[39m\u001B[33mstyle\u001B[39m\u001B[33m\"\u001B[39m]:\n",
      "\u001B[36mFile \u001B[39m\u001B[32m/Library/Frameworks/Python.framework/Versions/3.12/lib/python3.12/site-packages/seaborn/_base.py:679\u001B[39m, in \u001B[36mVectorPlotter.assign_variables\u001B[39m\u001B[34m(self, data, variables)\u001B[39m\n\u001B[32m    674\u001B[39m \u001B[38;5;28;01melse\u001B[39;00m:\n\u001B[32m    675\u001B[39m     \u001B[38;5;66;03m# When dealing with long-form input, use the newer PlotData\u001B[39;00m\n\u001B[32m    676\u001B[39m     \u001B[38;5;66;03m# object (internal but introduced for the objects interface)\u001B[39;00m\n\u001B[32m    677\u001B[39m     \u001B[38;5;66;03m# to centralize / standardize data consumption logic.\u001B[39;00m\n\u001B[32m    678\u001B[39m     \u001B[38;5;28mself\u001B[39m.input_format = \u001B[33m\"\u001B[39m\u001B[33mlong\u001B[39m\u001B[33m\"\u001B[39m\n\u001B[32m--> \u001B[39m\u001B[32m679\u001B[39m     plot_data = \u001B[43mPlotData\u001B[49m\u001B[43m(\u001B[49m\u001B[43mdata\u001B[49m\u001B[43m,\u001B[49m\u001B[43m \u001B[49m\u001B[43mvariables\u001B[49m\u001B[43m)\u001B[49m\n\u001B[32m    680\u001B[39m     frame = plot_data.frame\n\u001B[32m    681\u001B[39m     names = plot_data.names\n",
      "\u001B[36mFile \u001B[39m\u001B[32m/Library/Frameworks/Python.framework/Versions/3.12/lib/python3.12/site-packages/seaborn/_core/data.py:58\u001B[39m, in \u001B[36mPlotData.__init__\u001B[39m\u001B[34m(self, data, variables)\u001B[39m\n\u001B[32m     51\u001B[39m \u001B[38;5;28;01mdef\u001B[39;00m\u001B[38;5;250m \u001B[39m\u001B[34m__init__\u001B[39m(\n\u001B[32m     52\u001B[39m     \u001B[38;5;28mself\u001B[39m,\n\u001B[32m     53\u001B[39m     data: DataSource,\n\u001B[32m     54\u001B[39m     variables: \u001B[38;5;28mdict\u001B[39m[\u001B[38;5;28mstr\u001B[39m, VariableSpec],\n\u001B[32m     55\u001B[39m ):\n\u001B[32m     57\u001B[39m     data = handle_data_source(data)\n\u001B[32m---> \u001B[39m\u001B[32m58\u001B[39m     frame, names, ids = \u001B[38;5;28;43mself\u001B[39;49m\u001B[43m.\u001B[49m\u001B[43m_assign_variables\u001B[49m\u001B[43m(\u001B[49m\u001B[43mdata\u001B[49m\u001B[43m,\u001B[49m\u001B[43m \u001B[49m\u001B[43mvariables\u001B[49m\u001B[43m)\u001B[49m\n\u001B[32m     60\u001B[39m     \u001B[38;5;28mself\u001B[39m.frame = frame\n\u001B[32m     61\u001B[39m     \u001B[38;5;28mself\u001B[39m.names = names\n",
      "\u001B[36mFile \u001B[39m\u001B[32m/Library/Frameworks/Python.framework/Versions/3.12/lib/python3.12/site-packages/seaborn/_core/data.py:232\u001B[39m, in \u001B[36mPlotData._assign_variables\u001B[39m\u001B[34m(self, data, variables)\u001B[39m\n\u001B[32m    230\u001B[39m     \u001B[38;5;28;01melse\u001B[39;00m:\n\u001B[32m    231\u001B[39m         err += \u001B[33m\"\u001B[39m\u001B[33mAn entry with this name does not appear in `data`.\u001B[39m\u001B[33m\"\u001B[39m\n\u001B[32m--> \u001B[39m\u001B[32m232\u001B[39m     \u001B[38;5;28;01mraise\u001B[39;00m \u001B[38;5;167;01mValueError\u001B[39;00m(err)\n\u001B[32m    234\u001B[39m \u001B[38;5;28;01melse\u001B[39;00m:\n\u001B[32m    235\u001B[39m \n\u001B[32m    236\u001B[39m     \u001B[38;5;66;03m# Otherwise, assume the value somehow represents data\u001B[39;00m\n\u001B[32m    237\u001B[39m \n\u001B[32m    238\u001B[39m     \u001B[38;5;66;03m# Ignore empty data structures\u001B[39;00m\n\u001B[32m    239\u001B[39m     \u001B[38;5;28;01mif\u001B[39;00m \u001B[38;5;28misinstance\u001B[39m(val, Sized) \u001B[38;5;129;01mand\u001B[39;00m \u001B[38;5;28mlen\u001B[39m(val) == \u001B[32m0\u001B[39m:\n",
      "\u001B[31mValueError\u001B[39m: Could not interpret value `duration_secs` for `x`. An entry with this name does not appear in `data`."
     ]
    },
    {
     "data": {
      "text/plain": [
       "<Figure size 1200x400 with 0 Axes>"
      ]
     },
     "metadata": {},
     "output_type": "display_data"
    }
   ],
   "execution_count": 6
  },
  {
   "cell_type": "markdown",
   "id": "6d509640-a9c9-45e6-8b7c-04a5a2449381",
   "metadata": {},
   "source": [
    "#### Task 2.2: Conclusions about time series intervals\n",
    "What conclusions do you reach after analyzing these two variables? Write at least three observations:\n",
    "\n",
    "> - 2.2 #1: ...\n",
    "> - 2.2 #2: ...\n",
    "> - 2.2 #3: ...\n",
    "> \n",
    "> ..."
   ]
  },
  {
   "cell_type": "markdown",
   "id": "bfb6ed20-94a9-4d2f-a0c5-d0f4916ee2b8",
   "metadata": {},
   "source": [
    "#### Task 2.3: Probability distributions by borough\n",
    "\n",
    "Now, let's look at these distributions by borough. You will do so via kernel density estimation plots with `sns.kdeplot()`.\n",
    "\n",
    "First though, call matplotlib `plt.subplots()` to make a chart with two columns and a figure size of `(12, 4)`, storing the function outputs (a tuple) as `fig, ax`. Then invoke `sns.kdeplot()`, passing the the `hue` parameter so that each borough is represented with a different line. To treat each borough times as independent distributions, set the `common_norm` parameter to `False`. And to assign the chart to each of the two subplots, you'll need to pass the values `ax[0]` or `ax[1]` to the `ax` parameter. Finally, cut out the outliers from the KDE setting `clip` to `(-1, 20000)` for the `\"duration_secs\"` column and to `(-1, 10000)` for the `\"arrived_in_secs\"` column."
   ]
  },
  {
   "cell_type": "code",
   "id": "42c57bf2-f43b-42e5-a42b-fa587042fdc3",
   "metadata": {
    "ExecuteTime": {
     "end_time": "2025-03-27T15:16:44.404955Z",
     "start_time": "2025-03-27T15:16:44.211206Z"
    }
   },
   "source": [
    "# make KDE plots\n",
    "fig, ax = plt.subplots(1, 2, figsize=(12, 4))\n",
    "sns.kdeplot(data=ambulance_calls_df, x=\"duration_secs\", hue=\"boro_nm\", common_norm=False, clip=(-1, 20000), ax=ax[0])\n",
    "sns.kdeplot(data=ambulance_calls_df, x=\"arrived_in_secs\", hue=\"boro_nm\", common_norm=False, clip=(-1, 10000), ax=ax[1])\n",
    "plt.show()"
   ],
   "outputs": [
    {
     "ename": "ValueError",
     "evalue": "Could not interpret value `duration_secs` for `x`. An entry with this name does not appear in `data`.",
     "output_type": "error",
     "traceback": [
      "\u001B[31m---------------------------------------------------------------------------\u001B[39m",
      "\u001B[31mValueError\u001B[39m                                Traceback (most recent call last)",
      "\u001B[36mCell\u001B[39m\u001B[36m \u001B[39m\u001B[32mIn[7]\u001B[39m\u001B[32m, line 3\u001B[39m\n\u001B[32m      1\u001B[39m \u001B[38;5;66;03m# make KDE plots\u001B[39;00m\n\u001B[32m      2\u001B[39m fig, ax = plt.subplots(\u001B[32m1\u001B[39m, \u001B[32m2\u001B[39m, figsize=(\u001B[32m12\u001B[39m, \u001B[32m4\u001B[39m))\n\u001B[32m----> \u001B[39m\u001B[32m3\u001B[39m \u001B[43msns\u001B[49m\u001B[43m.\u001B[49m\u001B[43mkdeplot\u001B[49m\u001B[43m(\u001B[49m\u001B[43mdata\u001B[49m\u001B[43m=\u001B[49m\u001B[43mambulance_calls_df\u001B[49m\u001B[43m,\u001B[49m\u001B[43m \u001B[49m\u001B[43mx\u001B[49m\u001B[43m=\u001B[49m\u001B[33;43m\"\u001B[39;49m\u001B[33;43mduration_secs\u001B[39;49m\u001B[33;43m\"\u001B[39;49m\u001B[43m,\u001B[49m\u001B[43m \u001B[49m\u001B[43mhue\u001B[49m\u001B[43m=\u001B[49m\u001B[33;43m\"\u001B[39;49m\u001B[33;43mboro_nm\u001B[39;49m\u001B[33;43m\"\u001B[39;49m\u001B[43m,\u001B[49m\u001B[43m \u001B[49m\u001B[43mcommon_norm\u001B[49m\u001B[43m=\u001B[49m\u001B[38;5;28;43;01mFalse\u001B[39;49;00m\u001B[43m,\u001B[49m\u001B[43m \u001B[49m\u001B[43mclip\u001B[49m\u001B[43m=\u001B[49m\u001B[43m(\u001B[49m\u001B[43m-\u001B[49m\u001B[32;43m1\u001B[39;49m\u001B[43m,\u001B[49m\u001B[43m \u001B[49m\u001B[32;43m20000\u001B[39;49m\u001B[43m)\u001B[49m\u001B[43m,\u001B[49m\u001B[43m \u001B[49m\u001B[43max\u001B[49m\u001B[43m=\u001B[49m\u001B[43max\u001B[49m\u001B[43m[\u001B[49m\u001B[32;43m0\u001B[39;49m\u001B[43m]\u001B[49m\u001B[43m)\u001B[49m\n\u001B[32m      4\u001B[39m sns.kdeplot(data=ambulance_calls_df, x=\u001B[33m\"\u001B[39m\u001B[33marrived_in_secs\u001B[39m\u001B[33m\"\u001B[39m, hue=\u001B[33m\"\u001B[39m\u001B[33mboro_nm\u001B[39m\u001B[33m\"\u001B[39m, common_norm=\u001B[38;5;28;01mFalse\u001B[39;00m, clip=(-\u001B[32m1\u001B[39m, \u001B[32m10000\u001B[39m), ax=ax[\u001B[32m1\u001B[39m])\n\u001B[32m      5\u001B[39m plt.show()\n",
      "\u001B[36mFile \u001B[39m\u001B[32m/Library/Frameworks/Python.framework/Versions/3.12/lib/python3.12/site-packages/seaborn/distributions.py:1669\u001B[39m, in \u001B[36mkdeplot\u001B[39m\u001B[34m(data, x, y, hue, weights, palette, hue_order, hue_norm, color, fill, multiple, common_norm, common_grid, cumulative, bw_method, bw_adjust, warn_singular, log_scale, levels, thresh, gridsize, cut, clip, legend, cbar, cbar_ax, cbar_kws, ax, **kwargs)\u001B[39m\n\u001B[32m   1665\u001B[39m levels = kwargs.pop(\u001B[33m\"\u001B[39m\u001B[33mn_levels\u001B[39m\u001B[33m\"\u001B[39m, levels)\n\u001B[32m   1667\u001B[39m \u001B[38;5;66;03m# - - - - - - - - - - - - - - - - - - - - - - - - - - - - - - - - - - - - #\u001B[39;00m\n\u001B[32m-> \u001B[39m\u001B[32m1669\u001B[39m p = \u001B[43m_DistributionPlotter\u001B[49m\u001B[43m(\u001B[49m\n\u001B[32m   1670\u001B[39m \u001B[43m    \u001B[49m\u001B[43mdata\u001B[49m\u001B[43m=\u001B[49m\u001B[43mdata\u001B[49m\u001B[43m,\u001B[49m\n\u001B[32m   1671\u001B[39m \u001B[43m    \u001B[49m\u001B[43mvariables\u001B[49m\u001B[43m=\u001B[49m\u001B[38;5;28;43mdict\u001B[39;49m\u001B[43m(\u001B[49m\u001B[43mx\u001B[49m\u001B[43m=\u001B[49m\u001B[43mx\u001B[49m\u001B[43m,\u001B[49m\u001B[43m \u001B[49m\u001B[43my\u001B[49m\u001B[43m=\u001B[49m\u001B[43my\u001B[49m\u001B[43m,\u001B[49m\u001B[43m \u001B[49m\u001B[43mhue\u001B[49m\u001B[43m=\u001B[49m\u001B[43mhue\u001B[49m\u001B[43m,\u001B[49m\u001B[43m \u001B[49m\u001B[43mweights\u001B[49m\u001B[43m=\u001B[49m\u001B[43mweights\u001B[49m\u001B[43m)\u001B[49m\u001B[43m,\u001B[49m\n\u001B[32m   1672\u001B[39m \u001B[43m\u001B[49m\u001B[43m)\u001B[49m\n\u001B[32m   1674\u001B[39m p.map_hue(palette=palette, order=hue_order, norm=hue_norm)\n\u001B[32m   1676\u001B[39m \u001B[38;5;28;01mif\u001B[39;00m ax \u001B[38;5;129;01mis\u001B[39;00m \u001B[38;5;28;01mNone\u001B[39;00m:\n",
      "\u001B[36mFile \u001B[39m\u001B[32m/Library/Frameworks/Python.framework/Versions/3.12/lib/python3.12/site-packages/seaborn/distributions.py:110\u001B[39m, in \u001B[36m_DistributionPlotter.__init__\u001B[39m\u001B[34m(self, data, variables)\u001B[39m\n\u001B[32m    104\u001B[39m \u001B[38;5;28;01mdef\u001B[39;00m\u001B[38;5;250m \u001B[39m\u001B[34m__init__\u001B[39m(\n\u001B[32m    105\u001B[39m     \u001B[38;5;28mself\u001B[39m,\n\u001B[32m    106\u001B[39m     data=\u001B[38;5;28;01mNone\u001B[39;00m,\n\u001B[32m    107\u001B[39m     variables={},\n\u001B[32m    108\u001B[39m ):\n\u001B[32m--> \u001B[39m\u001B[32m110\u001B[39m     \u001B[38;5;28;43msuper\u001B[39;49m\u001B[43m(\u001B[49m\u001B[43m)\u001B[49m\u001B[43m.\u001B[49m\u001B[34;43m__init__\u001B[39;49m\u001B[43m(\u001B[49m\u001B[43mdata\u001B[49m\u001B[43m=\u001B[49m\u001B[43mdata\u001B[49m\u001B[43m,\u001B[49m\u001B[43m \u001B[49m\u001B[43mvariables\u001B[49m\u001B[43m=\u001B[49m\u001B[43mvariables\u001B[49m\u001B[43m)\u001B[49m\n",
      "\u001B[36mFile \u001B[39m\u001B[32m/Library/Frameworks/Python.framework/Versions/3.12/lib/python3.12/site-packages/seaborn/_base.py:634\u001B[39m, in \u001B[36mVectorPlotter.__init__\u001B[39m\u001B[34m(self, data, variables)\u001B[39m\n\u001B[32m    629\u001B[39m \u001B[38;5;66;03m# var_ordered is relevant only for categorical axis variables, and may\u001B[39;00m\n\u001B[32m    630\u001B[39m \u001B[38;5;66;03m# be better handled by an internal axis information object that tracks\u001B[39;00m\n\u001B[32m    631\u001B[39m \u001B[38;5;66;03m# such information and is set up by the scale_* methods. The analogous\u001B[39;00m\n\u001B[32m    632\u001B[39m \u001B[38;5;66;03m# information for numeric axes would be information about log scales.\u001B[39;00m\n\u001B[32m    633\u001B[39m \u001B[38;5;28mself\u001B[39m._var_ordered = {\u001B[33m\"\u001B[39m\u001B[33mx\u001B[39m\u001B[33m\"\u001B[39m: \u001B[38;5;28;01mFalse\u001B[39;00m, \u001B[33m\"\u001B[39m\u001B[33my\u001B[39m\u001B[33m\"\u001B[39m: \u001B[38;5;28;01mFalse\u001B[39;00m}  \u001B[38;5;66;03m# alt., used DefaultDict\u001B[39;00m\n\u001B[32m--> \u001B[39m\u001B[32m634\u001B[39m \u001B[38;5;28;43mself\u001B[39;49m\u001B[43m.\u001B[49m\u001B[43massign_variables\u001B[49m\u001B[43m(\u001B[49m\u001B[43mdata\u001B[49m\u001B[43m,\u001B[49m\u001B[43m \u001B[49m\u001B[43mvariables\u001B[49m\u001B[43m)\u001B[49m\n\u001B[32m    636\u001B[39m \u001B[38;5;66;03m# TODO Lots of tests assume that these are called to initialize the\u001B[39;00m\n\u001B[32m    637\u001B[39m \u001B[38;5;66;03m# mappings to default values on class initialization. I'd prefer to\u001B[39;00m\n\u001B[32m    638\u001B[39m \u001B[38;5;66;03m# move away from that and only have a mapping when explicitly called.\u001B[39;00m\n\u001B[32m    639\u001B[39m \u001B[38;5;28;01mfor\u001B[39;00m var \u001B[38;5;129;01min\u001B[39;00m [\u001B[33m\"\u001B[39m\u001B[33mhue\u001B[39m\u001B[33m\"\u001B[39m, \u001B[33m\"\u001B[39m\u001B[33msize\u001B[39m\u001B[33m\"\u001B[39m, \u001B[33m\"\u001B[39m\u001B[33mstyle\u001B[39m\u001B[33m\"\u001B[39m]:\n",
      "\u001B[36mFile \u001B[39m\u001B[32m/Library/Frameworks/Python.framework/Versions/3.12/lib/python3.12/site-packages/seaborn/_base.py:679\u001B[39m, in \u001B[36mVectorPlotter.assign_variables\u001B[39m\u001B[34m(self, data, variables)\u001B[39m\n\u001B[32m    674\u001B[39m \u001B[38;5;28;01melse\u001B[39;00m:\n\u001B[32m    675\u001B[39m     \u001B[38;5;66;03m# When dealing with long-form input, use the newer PlotData\u001B[39;00m\n\u001B[32m    676\u001B[39m     \u001B[38;5;66;03m# object (internal but introduced for the objects interface)\u001B[39;00m\n\u001B[32m    677\u001B[39m     \u001B[38;5;66;03m# to centralize / standardize data consumption logic.\u001B[39;00m\n\u001B[32m    678\u001B[39m     \u001B[38;5;28mself\u001B[39m.input_format = \u001B[33m\"\u001B[39m\u001B[33mlong\u001B[39m\u001B[33m\"\u001B[39m\n\u001B[32m--> \u001B[39m\u001B[32m679\u001B[39m     plot_data = \u001B[43mPlotData\u001B[49m\u001B[43m(\u001B[49m\u001B[43mdata\u001B[49m\u001B[43m,\u001B[49m\u001B[43m \u001B[49m\u001B[43mvariables\u001B[49m\u001B[43m)\u001B[49m\n\u001B[32m    680\u001B[39m     frame = plot_data.frame\n\u001B[32m    681\u001B[39m     names = plot_data.names\n",
      "\u001B[36mFile \u001B[39m\u001B[32m/Library/Frameworks/Python.framework/Versions/3.12/lib/python3.12/site-packages/seaborn/_core/data.py:58\u001B[39m, in \u001B[36mPlotData.__init__\u001B[39m\u001B[34m(self, data, variables)\u001B[39m\n\u001B[32m     51\u001B[39m \u001B[38;5;28;01mdef\u001B[39;00m\u001B[38;5;250m \u001B[39m\u001B[34m__init__\u001B[39m(\n\u001B[32m     52\u001B[39m     \u001B[38;5;28mself\u001B[39m,\n\u001B[32m     53\u001B[39m     data: DataSource,\n\u001B[32m     54\u001B[39m     variables: \u001B[38;5;28mdict\u001B[39m[\u001B[38;5;28mstr\u001B[39m, VariableSpec],\n\u001B[32m     55\u001B[39m ):\n\u001B[32m     57\u001B[39m     data = handle_data_source(data)\n\u001B[32m---> \u001B[39m\u001B[32m58\u001B[39m     frame, names, ids = \u001B[38;5;28;43mself\u001B[39;49m\u001B[43m.\u001B[49m\u001B[43m_assign_variables\u001B[49m\u001B[43m(\u001B[49m\u001B[43mdata\u001B[49m\u001B[43m,\u001B[49m\u001B[43m \u001B[49m\u001B[43mvariables\u001B[49m\u001B[43m)\u001B[49m\n\u001B[32m     60\u001B[39m     \u001B[38;5;28mself\u001B[39m.frame = frame\n\u001B[32m     61\u001B[39m     \u001B[38;5;28mself\u001B[39m.names = names\n",
      "\u001B[36mFile \u001B[39m\u001B[32m/Library/Frameworks/Python.framework/Versions/3.12/lib/python3.12/site-packages/seaborn/_core/data.py:232\u001B[39m, in \u001B[36mPlotData._assign_variables\u001B[39m\u001B[34m(self, data, variables)\u001B[39m\n\u001B[32m    230\u001B[39m     \u001B[38;5;28;01melse\u001B[39;00m:\n\u001B[32m    231\u001B[39m         err += \u001B[33m\"\u001B[39m\u001B[33mAn entry with this name does not appear in `data`.\u001B[39m\u001B[33m\"\u001B[39m\n\u001B[32m--> \u001B[39m\u001B[32m232\u001B[39m     \u001B[38;5;28;01mraise\u001B[39;00m \u001B[38;5;167;01mValueError\u001B[39;00m(err)\n\u001B[32m    234\u001B[39m \u001B[38;5;28;01melse\u001B[39;00m:\n\u001B[32m    235\u001B[39m \n\u001B[32m    236\u001B[39m     \u001B[38;5;66;03m# Otherwise, assume the value somehow represents data\u001B[39;00m\n\u001B[32m    237\u001B[39m \n\u001B[32m    238\u001B[39m     \u001B[38;5;66;03m# Ignore empty data structures\u001B[39;00m\n\u001B[32m    239\u001B[39m     \u001B[38;5;28;01mif\u001B[39;00m \u001B[38;5;28misinstance\u001B[39m(val, Sized) \u001B[38;5;129;01mand\u001B[39;00m \u001B[38;5;28mlen\u001B[39m(val) == \u001B[32m0\u001B[39m:\n",
      "\u001B[31mValueError\u001B[39m: Could not interpret value `duration_secs` for `x`. An entry with this name does not appear in `data`."
     ]
    },
    {
     "data": {
      "text/plain": [
       "<Figure size 1200x400 with 2 Axes>"
      ],
      "image/png": "[encoded data removed]"
     },
     "metadata": {},
     "output_type": "display_data"
    }
   ],
   "execution_count": 7
  },
  {
   "cell_type": "markdown",
   "id": "8d8e81f1-5e7b-4f7d-9740-1d1fd3a94e85",
   "metadata": {},
   "source": [
    "What stands out to you from these charts? Make at least two observations.\n",
    "\n",
    "> - 2.3 #1: ...\n",
    "> - 2.3 #2: ...\n",
    ">   \n",
    "> ..."
   ]
  },
  {
   "cell_type": "markdown",
   "id": "4490fec9-c95f-43e8-a5b8-72ecc34e52da",
   "metadata": {},
   "source": [
    "## Section 3: Aggregations in a choropleth map\n",
    "\n",
    "You saw that the 911 calls requesting an ambulance all have a latitude and longitude associated with them. That allows us to represent data geographically on a map!\n",
    "\n",
    "#### Task 3.1: Get NYC boro geometries\n",
    "First, you'll need the shapefiles or geojson files with the NYC borough boundaries. You can find them [here](https://data.cityofnewyork.us/City-Government/Borough-Boundaries/gthc-hcne). Download the borough boundaries in geojson format, move it to your notebook's working directory, and call your file `borough-boundaries.geojson`. \n",
    "\n",
    "Then, use the [geopandas](https://geopandas.org/en/stable/index.html) library, imported above as `gpd`. First, use the `read_file()` function to read your geojson file into a geodataframe called `nyc_boros`. Then, display the geodataframe."
   ]
  },
  {
   "cell_type": "code",
   "id": "291a2e4a-6caa-4090-bd17-fafd32a67183",
   "metadata": {
    "ExecuteTime": {
     "end_time": "2025-03-27T15:22:29.855255Z",
     "start_time": "2025-03-27T15:22:29.796141Z"
    }
   },
   "source": [
    "if __name__ == \"__main__\":\n",
    "# Section 3: Choropleth Map\n",
    "    nyc_boros = gpd.read_file(\"borough-boundaries.geojson\")\n",
    "\n",
    "    # Ensure borough names match between datasets\n",
    "    nyc_boros['boro_name'] = nyc_boros['boro_name'].replace({'The Bronx': 'Bronx'})\n",
    "\n",
    "    filtered = ambulance_calls_df[\n",
    "        (ambulance_calls_df[\"arrived_in_secs\"] > 0) &\n",
    "        (ambulance_calls_df[\"boro_nm\"].notna()) &\n",
    "        (ambulance_calls_df[\"arrived_ts\"].notna())\n",
    "    ]\n",
    "    calls_by_boro = filtered.groupby(\"boro_nm\").agg(\n",
    "        num_calls=(\"incident_ts\", \"size\"),\n",
    "        median_arrived_in_secs=(\"arrived_in_secs\", \"median\"),\n",
    "        median_duration_secs=(\"duration_secs\", \"median\")\n",
    "    ).reset_index()"
   ],
   "outputs": [
    {
     "ename": "DataSourceError",
     "evalue": "'borough-boundaries.geojson' not recognized as being in a supported file format. It might help to specify the correct driver explicitly by prefixing the file path with '<DRIVER>:', e.g. 'CSV:path'.",
     "output_type": "error",
     "traceback": [
      "\u001B[31m---------------------------------------------------------------------------\u001B[39m",
      "\u001B[31mDataSourceError\u001B[39m                           Traceback (most recent call last)",
      "\u001B[36mCell\u001B[39m\u001B[36m \u001B[39m\u001B[32mIn[11]\u001B[39m\u001B[32m, line 3\u001B[39m\n\u001B[32m      1\u001B[39m \u001B[38;5;28;01mif\u001B[39;00m \u001B[34m__name__\u001B[39m == \u001B[33m\"\u001B[39m\u001B[33m__main__\u001B[39m\u001B[33m\"\u001B[39m:\n\u001B[32m      2\u001B[39m \u001B[38;5;66;03m# Section 3: Choropleth Map\u001B[39;00m\n\u001B[32m----> \u001B[39m\u001B[32m3\u001B[39m     nyc_boros = \u001B[43mgpd\u001B[49m\u001B[43m.\u001B[49m\u001B[43mread_file\u001B[49m\u001B[43m(\u001B[49m\u001B[33;43m\"\u001B[39;49m\u001B[33;43mborough-boundaries.geojson\u001B[39;49m\u001B[33;43m\"\u001B[39;49m\u001B[43m)\u001B[49m\n\u001B[32m      5\u001B[39m     \u001B[38;5;66;03m# Ensure borough names match between datasets\u001B[39;00m\n\u001B[32m      6\u001B[39m     nyc_boros[\u001B[33m'\u001B[39m\u001B[33mboro_name\u001B[39m\u001B[33m'\u001B[39m] = nyc_boros[\u001B[33m'\u001B[39m\u001B[33mboro_name\u001B[39m\u001B[33m'\u001B[39m].replace({\u001B[33m'\u001B[39m\u001B[33mThe Bronx\u001B[39m\u001B[33m'\u001B[39m: \u001B[33m'\u001B[39m\u001B[33mBronx\u001B[39m\u001B[33m'\u001B[39m})\n",
      "\u001B[36mFile \u001B[39m\u001B[32m~/PycharmProjects/CSCI-395/.venv/lib/python3.12/site-packages/geopandas/io/file.py:294\u001B[39m, in \u001B[36m_read_file\u001B[39m\u001B[34m(filename, bbox, mask, columns, rows, engine, **kwargs)\u001B[39m\n\u001B[32m    291\u001B[39m             from_bytes = \u001B[38;5;28;01mTrue\u001B[39;00m\n\u001B[32m    293\u001B[39m \u001B[38;5;28;01mif\u001B[39;00m engine == \u001B[33m\"\u001B[39m\u001B[33mpyogrio\u001B[39m\u001B[33m\"\u001B[39m:\n\u001B[32m--> \u001B[39m\u001B[32m294\u001B[39m     \u001B[38;5;28;01mreturn\u001B[39;00m \u001B[43m_read_file_pyogrio\u001B[49m\u001B[43m(\u001B[49m\n\u001B[32m    295\u001B[39m \u001B[43m        \u001B[49m\u001B[43mfilename\u001B[49m\u001B[43m,\u001B[49m\u001B[43m \u001B[49m\u001B[43mbbox\u001B[49m\u001B[43m=\u001B[49m\u001B[43mbbox\u001B[49m\u001B[43m,\u001B[49m\u001B[43m \u001B[49m\u001B[43mmask\u001B[49m\u001B[43m=\u001B[49m\u001B[43mmask\u001B[49m\u001B[43m,\u001B[49m\u001B[43m \u001B[49m\u001B[43mcolumns\u001B[49m\u001B[43m=\u001B[49m\u001B[43mcolumns\u001B[49m\u001B[43m,\u001B[49m\u001B[43m \u001B[49m\u001B[43mrows\u001B[49m\u001B[43m=\u001B[49m\u001B[43mrows\u001B[49m\u001B[43m,\u001B[49m\u001B[43m \u001B[49m\u001B[43m*\u001B[49m\u001B[43m*\u001B[49m\u001B[43mkwargs\u001B[49m\n\u001B[32m    296\u001B[39m \u001B[43m    \u001B[49m\u001B[43m)\u001B[49m\n\u001B[32m    298\u001B[39m \u001B[38;5;28;01melif\u001B[39;00m engine == \u001B[33m\"\u001B[39m\u001B[33mfiona\u001B[39m\u001B[33m\"\u001B[39m:\n\u001B[32m    299\u001B[39m     \u001B[38;5;28;01mif\u001B[39;00m pd.api.types.is_file_like(filename):\n",
      "\u001B[36mFile \u001B[39m\u001B[32m~/PycharmProjects/CSCI-395/.venv/lib/python3.12/site-packages/geopandas/io/file.py:547\u001B[39m, in \u001B[36m_read_file_pyogrio\u001B[39m\u001B[34m(path_or_bytes, bbox, mask, rows, **kwargs)\u001B[39m\n\u001B[32m    538\u001B[39m     warnings.warn(\n\u001B[32m    539\u001B[39m         \u001B[33m\"\u001B[39m\u001B[33mThe \u001B[39m\u001B[33m'\u001B[39m\u001B[33minclude_fields\u001B[39m\u001B[33m'\u001B[39m\u001B[33m and \u001B[39m\u001B[33m'\u001B[39m\u001B[33mignore_fields\u001B[39m\u001B[33m'\u001B[39m\u001B[33m keywords are deprecated, and \u001B[39m\u001B[33m\"\u001B[39m\n\u001B[32m    540\u001B[39m         \u001B[33m\"\u001B[39m\u001B[33mwill be removed in a future release. You can use the \u001B[39m\u001B[33m'\u001B[39m\u001B[33mcolumns\u001B[39m\u001B[33m'\u001B[39m\u001B[33m keyword \u001B[39m\u001B[33m\"\u001B[39m\n\u001B[32m   (...)\u001B[39m\u001B[32m    543\u001B[39m         stacklevel=\u001B[32m3\u001B[39m,\n\u001B[32m    544\u001B[39m     )\n\u001B[32m    545\u001B[39m     kwargs[\u001B[33m\"\u001B[39m\u001B[33mcolumns\u001B[39m\u001B[33m\"\u001B[39m] = kwargs.pop(\u001B[33m\"\u001B[39m\u001B[33minclude_fields\u001B[39m\u001B[33m\"\u001B[39m)\n\u001B[32m--> \u001B[39m\u001B[32m547\u001B[39m \u001B[38;5;28;01mreturn\u001B[39;00m \u001B[43mpyogrio\u001B[49m\u001B[43m.\u001B[49m\u001B[43mread_dataframe\u001B[49m\u001B[43m(\u001B[49m\u001B[43mpath_or_bytes\u001B[49m\u001B[43m,\u001B[49m\u001B[43m \u001B[49m\u001B[43mbbox\u001B[49m\u001B[43m=\u001B[49m\u001B[43mbbox\u001B[49m\u001B[43m,\u001B[49m\u001B[43m \u001B[49m\u001B[43m*\u001B[49m\u001B[43m*\u001B[49m\u001B[43mkwargs\u001B[49m\u001B[43m)\u001B[49m\n",
      "\u001B[36mFile \u001B[39m\u001B[32m~/PycharmProjects/CSCI-395/.venv/lib/python3.12/site-packages/pyogrio/geopandas.py:265\u001B[39m, in \u001B[36mread_dataframe\u001B[39m\u001B[34m(path_or_buffer, layer, encoding, columns, read_geometry, force_2d, skip_features, max_features, where, bbox, mask, fids, sql, sql_dialect, fid_as_index, use_arrow, on_invalid, arrow_to_pandas_kwargs, **kwargs)\u001B[39m\n\u001B[32m    260\u001B[39m \u001B[38;5;28;01mif\u001B[39;00m \u001B[38;5;129;01mnot\u001B[39;00m use_arrow:\n\u001B[32m    261\u001B[39m     \u001B[38;5;66;03m# For arrow, datetimes are read as is.\u001B[39;00m\n\u001B[32m    262\u001B[39m     \u001B[38;5;66;03m# For numpy IO, datetimes are read as string values to preserve timezone info\u001B[39;00m\n\u001B[32m    263\u001B[39m     \u001B[38;5;66;03m# as numpy does not directly support timezones.\u001B[39;00m\n\u001B[32m    264\u001B[39m     kwargs[\u001B[33m\"\u001B[39m\u001B[33mdatetime_as_string\u001B[39m\u001B[33m\"\u001B[39m] = \u001B[38;5;28;01mTrue\u001B[39;00m\n\u001B[32m--> \u001B[39m\u001B[32m265\u001B[39m result = \u001B[43mread_func\u001B[49m\u001B[43m(\u001B[49m\n\u001B[32m    266\u001B[39m \u001B[43m    \u001B[49m\u001B[43mpath_or_buffer\u001B[49m\u001B[43m,\u001B[49m\n\u001B[32m    267\u001B[39m \u001B[43m    \u001B[49m\u001B[43mlayer\u001B[49m\u001B[43m=\u001B[49m\u001B[43mlayer\u001B[49m\u001B[43m,\u001B[49m\n\u001B[32m    268\u001B[39m \u001B[43m    \u001B[49m\u001B[43mencoding\u001B[49m\u001B[43m=\u001B[49m\u001B[43mencoding\u001B[49m\u001B[43m,\u001B[49m\n\u001B[32m    269\u001B[39m \u001B[43m    \u001B[49m\u001B[43mcolumns\u001B[49m\u001B[43m=\u001B[49m\u001B[43mcolumns\u001B[49m\u001B[43m,\u001B[49m\n\u001B[32m    270\u001B[39m \u001B[43m    \u001B[49m\u001B[43mread_geometry\u001B[49m\u001B[43m=\u001B[49m\u001B[43mread_geometry\u001B[49m\u001B[43m,\u001B[49m\n\u001B[32m    271\u001B[39m \u001B[43m    \u001B[49m\u001B[43mforce_2d\u001B[49m\u001B[43m=\u001B[49m\u001B[43mgdal_force_2d\u001B[49m\u001B[43m,\u001B[49m\n\u001B[32m    272\u001B[39m \u001B[43m    \u001B[49m\u001B[43mskip_features\u001B[49m\u001B[43m=\u001B[49m\u001B[43mskip_features\u001B[49m\u001B[43m,\u001B[49m\n\u001B[32m    273\u001B[39m \u001B[43m    \u001B[49m\u001B[43mmax_features\u001B[49m\u001B[43m=\u001B[49m\u001B[43mmax_features\u001B[49m\u001B[43m,\u001B[49m\n\u001B[32m    274\u001B[39m \u001B[43m    \u001B[49m\u001B[43mwhere\u001B[49m\u001B[43m=\u001B[49m\u001B[43mwhere\u001B[49m\u001B[43m,\u001B[49m\n\u001B[32m    275\u001B[39m \u001B[43m    \u001B[49m\u001B[43mbbox\u001B[49m\u001B[43m=\u001B[49m\u001B[43mbbox\u001B[49m\u001B[43m,\u001B[49m\n\u001B[32m    276\u001B[39m \u001B[43m    \u001B[49m\u001B[43mmask\u001B[49m\u001B[43m=\u001B[49m\u001B[43mmask\u001B[49m\u001B[43m,\u001B[49m\n\u001B[32m    277\u001B[39m \u001B[43m    \u001B[49m\u001B[43mfids\u001B[49m\u001B[43m=\u001B[49m\u001B[43mfids\u001B[49m\u001B[43m,\u001B[49m\n\u001B[32m    278\u001B[39m \u001B[43m    \u001B[49m\u001B[43msql\u001B[49m\u001B[43m=\u001B[49m\u001B[43msql\u001B[49m\u001B[43m,\u001B[49m\n\u001B[32m    279\u001B[39m \u001B[43m    \u001B[49m\u001B[43msql_dialect\u001B[49m\u001B[43m=\u001B[49m\u001B[43msql_dialect\u001B[49m\u001B[43m,\u001B[49m\n\u001B[32m    280\u001B[39m \u001B[43m    \u001B[49m\u001B[43mreturn_fids\u001B[49m\u001B[43m=\u001B[49m\u001B[43mfid_as_index\u001B[49m\u001B[43m,\u001B[49m\n\u001B[32m    281\u001B[39m \u001B[43m    \u001B[49m\u001B[43m*\u001B[49m\u001B[43m*\u001B[49m\u001B[43mkwargs\u001B[49m\u001B[43m,\u001B[49m\n\u001B[32m    282\u001B[39m \u001B[43m\u001B[49m\u001B[43m)\u001B[49m\n\u001B[32m    284\u001B[39m \u001B[38;5;28;01mif\u001B[39;00m use_arrow:\n\u001B[32m    285\u001B[39m     meta, table = result\n",
      "\u001B[36mFile \u001B[39m\u001B[32m~/PycharmProjects/CSCI-395/.venv/lib/python3.12/site-packages/pyogrio/raw.py:198\u001B[39m, in \u001B[36mread\u001B[39m\u001B[34m(path_or_buffer, layer, encoding, columns, read_geometry, force_2d, skip_features, max_features, where, bbox, mask, fids, sql, sql_dialect, return_fids, datetime_as_string, **kwargs)\u001B[39m\n\u001B[32m     59\u001B[39m \u001B[38;5;250m\u001B[39m\u001B[33;03m\"\"\"Read OGR data source into numpy arrays.\u001B[39;00m\n\u001B[32m     60\u001B[39m \n\u001B[32m     61\u001B[39m \u001B[33;03mIMPORTANT: non-linear geometry types (e.g., MultiSurface) are converted\u001B[39;00m\n\u001B[32m   (...)\u001B[39m\u001B[32m    194\u001B[39m \n\u001B[32m    195\u001B[39m \u001B[33;03m\"\"\"\u001B[39;00m\n\u001B[32m    196\u001B[39m dataset_kwargs = _preprocess_options_key_value(kwargs) \u001B[38;5;28;01mif\u001B[39;00m kwargs \u001B[38;5;28;01melse\u001B[39;00m {}\n\u001B[32m--> \u001B[39m\u001B[32m198\u001B[39m \u001B[38;5;28;01mreturn\u001B[39;00m \u001B[43mogr_read\u001B[49m\u001B[43m(\u001B[49m\n\u001B[32m    199\u001B[39m \u001B[43m    \u001B[49m\u001B[43mget_vsi_path_or_buffer\u001B[49m\u001B[43m(\u001B[49m\u001B[43mpath_or_buffer\u001B[49m\u001B[43m)\u001B[49m\u001B[43m,\u001B[49m\n\u001B[32m    200\u001B[39m \u001B[43m    \u001B[49m\u001B[43mlayer\u001B[49m\u001B[43m=\u001B[49m\u001B[43mlayer\u001B[49m\u001B[43m,\u001B[49m\n\u001B[32m    201\u001B[39m \u001B[43m    \u001B[49m\u001B[43mencoding\u001B[49m\u001B[43m=\u001B[49m\u001B[43mencoding\u001B[49m\u001B[43m,\u001B[49m\n\u001B[32m    202\u001B[39m \u001B[43m    \u001B[49m\u001B[43mcolumns\u001B[49m\u001B[43m=\u001B[49m\u001B[43mcolumns\u001B[49m\u001B[43m,\u001B[49m\n\u001B[32m    203\u001B[39m \u001B[43m    \u001B[49m\u001B[43mread_geometry\u001B[49m\u001B[43m=\u001B[49m\u001B[43mread_geometry\u001B[49m\u001B[43m,\u001B[49m\n\u001B[32m    204\u001B[39m \u001B[43m    \u001B[49m\u001B[43mforce_2d\u001B[49m\u001B[43m=\u001B[49m\u001B[43mforce_2d\u001B[49m\u001B[43m,\u001B[49m\n\u001B[32m    205\u001B[39m \u001B[43m    \u001B[49m\u001B[43mskip_features\u001B[49m\u001B[43m=\u001B[49m\u001B[43mskip_features\u001B[49m\u001B[43m,\u001B[49m\n\u001B[32m    206\u001B[39m \u001B[43m    \u001B[49m\u001B[43mmax_features\u001B[49m\u001B[43m=\u001B[49m\u001B[43mmax_features\u001B[49m\u001B[43m \u001B[49m\u001B[38;5;129;43;01mor\u001B[39;49;00m\u001B[43m \u001B[49m\u001B[32;43m0\u001B[39;49m\u001B[43m,\u001B[49m\n\u001B[32m    207\u001B[39m \u001B[43m    \u001B[49m\u001B[43mwhere\u001B[49m\u001B[43m=\u001B[49m\u001B[43mwhere\u001B[49m\u001B[43m,\u001B[49m\n\u001B[32m    208\u001B[39m \u001B[43m    \u001B[49m\u001B[43mbbox\u001B[49m\u001B[43m=\u001B[49m\u001B[43mbbox\u001B[49m\u001B[43m,\u001B[49m\n\u001B[32m    209\u001B[39m \u001B[43m    \u001B[49m\u001B[43mmask\u001B[49m\u001B[43m=\u001B[49m\u001B[43m_mask_to_wkb\u001B[49m\u001B[43m(\u001B[49m\u001B[43mmask\u001B[49m\u001B[43m)\u001B[49m\u001B[43m,\u001B[49m\n\u001B[32m    210\u001B[39m \u001B[43m    \u001B[49m\u001B[43mfids\u001B[49m\u001B[43m=\u001B[49m\u001B[43mfids\u001B[49m\u001B[43m,\u001B[49m\n\u001B[32m    211\u001B[39m \u001B[43m    \u001B[49m\u001B[43msql\u001B[49m\u001B[43m=\u001B[49m\u001B[43msql\u001B[49m\u001B[43m,\u001B[49m\n\u001B[32m    212\u001B[39m \u001B[43m    \u001B[49m\u001B[43msql_dialect\u001B[49m\u001B[43m=\u001B[49m\u001B[43msql_dialect\u001B[49m\u001B[43m,\u001B[49m\n\u001B[32m    213\u001B[39m \u001B[43m    \u001B[49m\u001B[43mreturn_fids\u001B[49m\u001B[43m=\u001B[49m\u001B[43mreturn_fids\u001B[49m\u001B[43m,\u001B[49m\n\u001B[32m    214\u001B[39m \u001B[43m    \u001B[49m\u001B[43mdataset_kwargs\u001B[49m\u001B[43m=\u001B[49m\u001B[43mdataset_kwargs\u001B[49m\u001B[43m,\u001B[49m\n\u001B[32m    215\u001B[39m \u001B[43m    \u001B[49m\u001B[43mdatetime_as_string\u001B[49m\u001B[43m=\u001B[49m\u001B[43mdatetime_as_string\u001B[49m\u001B[43m,\u001B[49m\n\u001B[32m    216\u001B[39m \u001B[43m\u001B[49m\u001B[43m)\u001B[49m\n",
      "\u001B[36mFile \u001B[39m\u001B[32mpyogrio/_io.pyx:1240\u001B[39m, in \u001B[36mpyogrio._io.ogr_read\u001B[39m\u001B[34m()\u001B[39m\n",
      "\u001B[36mFile \u001B[39m\u001B[32mpyogrio/_io.pyx:216\u001B[39m, in \u001B[36mpyogrio._io.ogr_open\u001B[39m\u001B[34m()\u001B[39m\n",
      "\u001B[31mDataSourceError\u001B[39m: 'borough-boundaries.geojson' not recognized as being in a supported file format. It might help to specify the correct driver explicitly by prefixing the file path with '<DRIVER>:', e.g. 'CSV:path'."
     ]
    }
   ],
   "execution_count": 11
  },
  {
   "cell_type": "code",
   "id": "92c67700-8c32-4899-acc0-5be18aae05bf",
   "metadata": {
    "ExecuteTime": {
     "end_time": "2025-03-27T15:15:27.193296Z",
     "start_time": "2025-03-27T14:41:19.493226Z"
    }
   },
   "source": [
    "# display the geodataframe with the NYC boroughs\n",
    "nyc_boros"
   ],
   "outputs": [
    {
     "ename": "NameError",
     "evalue": "name 'nyc_boros' is not defined",
     "output_type": "error",
     "traceback": [
      "\u001B[31m---------------------------------------------------------------------------\u001B[39m",
      "\u001B[31mNameError\u001B[39m                                 Traceback (most recent call last)",
      "\u001B[36mCell\u001B[39m\u001B[36m \u001B[39m\u001B[32mIn[19]\u001B[39m\u001B[32m, line 2\u001B[39m\n\u001B[32m      1\u001B[39m \u001B[38;5;66;03m# display the geodataframe with the NYC boroughs\u001B[39;00m\n\u001B[32m----> \u001B[39m\u001B[32m2\u001B[39m \u001B[43mnyc_boros\u001B[49m\n",
      "\u001B[31mNameError\u001B[39m: name 'nyc_boros' is not defined"
     ]
    }
   ],
   "execution_count": 19
  },
  {
   "cell_type": "markdown",
   "id": "ba445360-e093-4fb8-9b2e-75fd729fb81c",
   "metadata": {},
   "source": [
    "#### Task 3.2: First look at a geodataframe\n",
    "\n",
    "This is (probably) your first time looking at a geodataframe. What do you notice? Write at least two observations:\n",
    "\n",
    "> - 3.2 #1: ...\n",
    "> - 3.2 #2: ...\n",
    "> - ..."
   ]
  },
  {
   "cell_type": "markdown",
   "id": "14d14d0a-6a36-400b-afb1-9b1b7facb10c",
   "metadata": {},
   "source": [
    "#### Task 3.3: Choropleth map of typical arrival times by borough\n",
    "Now let's use these geometries together with the ambulance data to make an interactive choropleth map of the typical arrival time of help after a call is made on the five boroughs. You will also display other quantities a hover properties.\n",
    "\n",
    "First off, aggregate `ambulance_calls_df` into a new dataframe called `calls_by_boro` which should have the following columns: \n",
    "- `\"boro_nm\"`\n",
    "- `\"num_calls\"`\n",
    "- `\"median_arrived_in_secs\"`\n",
    "- `\"median_duration_secs\"`\n",
    "\n",
    "Before you group your dataframe, you should remove any rows where `\"arrived_in_secs\"` is not larger than `0` (clearly something is wrong with those data points), as well as rows where the borough name or the `\"arrived_ts\"` are null or missing. \n",
    "\n",
    "_**Hint**: you may find the `.agg()` dataframe method helpful to apply different aggregation functions to different columns._"
   ]
  },
  {
   "cell_type": "code",
   "id": "8969e575-c406-4a22-85ce-b29379a7ea78",
   "metadata": {
    "ExecuteTime": {
     "end_time": "2025-03-27T15:15:27.193428Z",
     "start_time": "2025-03-27T15:04:21.313591Z"
    }
   },
   "source": [
    "# aggregate ambulance_calls_df by borough\n",
    "filtered = ambulance_calls_df[\n",
    "    (ambulance_calls_df[\"arrived_in_secs\"] > 0) &\n",
    "    (ambulance_calls_df[\"boro_nm\"].notna()) &\n",
    "    (ambulance_calls_df[\"arrived_ts\"].notna())\n",
    "]\n",
    "calls_by_boro = filtered.groupby(\"boro_nm\").agg(\n",
    "    num_calls=(\"incident_ts\", \"size\"),\n",
    "    median_arrived_in_secs=(\"arrived_in_secs\", \"median\"),\n",
    "    median_duration_secs=(\"duration_secs\", \"median\")\n",
    ").reset_index()"
   ],
   "outputs": [
    {
     "ename": "KeyError",
     "evalue": "'arrived_in_secs'",
     "output_type": "error",
     "traceback": [
      "\u001B[31m---------------------------------------------------------------------------\u001B[39m",
      "\u001B[31mKeyError\u001B[39m                                  Traceback (most recent call last)",
      "\u001B[36mFile \u001B[39m\u001B[32m~/PycharmProjects/CSCI-395/.venv/lib/python3.12/site-packages/pandas/core/indexes/base.py:3805\u001B[39m, in \u001B[36mIndex.get_loc\u001B[39m\u001B[34m(self, key)\u001B[39m\n\u001B[32m   3804\u001B[39m \u001B[38;5;28;01mtry\u001B[39;00m:\n\u001B[32m-> \u001B[39m\u001B[32m3805\u001B[39m     \u001B[38;5;28;01mreturn\u001B[39;00m \u001B[38;5;28;43mself\u001B[39;49m\u001B[43m.\u001B[49m\u001B[43m_engine\u001B[49m\u001B[43m.\u001B[49m\u001B[43mget_loc\u001B[49m\u001B[43m(\u001B[49m\u001B[43mcasted_key\u001B[49m\u001B[43m)\u001B[49m\n\u001B[32m   3806\u001B[39m \u001B[38;5;28;01mexcept\u001B[39;00m \u001B[38;5;167;01mKeyError\u001B[39;00m \u001B[38;5;28;01mas\u001B[39;00m err:\n",
      "\u001B[36mFile \u001B[39m\u001B[32mindex.pyx:167\u001B[39m, in \u001B[36mpandas._libs.index.IndexEngine.get_loc\u001B[39m\u001B[34m()\u001B[39m\n",
      "\u001B[36mFile \u001B[39m\u001B[32mindex.pyx:196\u001B[39m, in \u001B[36mpandas._libs.index.IndexEngine.get_loc\u001B[39m\u001B[34m()\u001B[39m\n",
      "\u001B[36mFile \u001B[39m\u001B[32mpandas/_libs/hashtable_class_helper.pxi:7081\u001B[39m, in \u001B[36mpandas._libs.hashtable.PyObjectHashTable.get_item\u001B[39m\u001B[34m()\u001B[39m\n",
      "\u001B[36mFile \u001B[39m\u001B[32mpandas/_libs/hashtable_class_helper.pxi:7089\u001B[39m, in \u001B[36mpandas._libs.hashtable.PyObjectHashTable.get_item\u001B[39m\u001B[34m()\u001B[39m\n",
      "\u001B[31mKeyError\u001B[39m: 'arrived_in_secs'",
      "\nThe above exception was the direct cause of the following exception:\n",
      "\u001B[31mKeyError\u001B[39m                                  Traceback (most recent call last)",
      "\u001B[36mCell\u001B[39m\u001B[36m \u001B[39m\u001B[32mIn[18]\u001B[39m\u001B[32m, line 3\u001B[39m\n\u001B[32m      1\u001B[39m \u001B[38;5;66;03m# aggregate ambulance_calls_df by borough\u001B[39;00m\n\u001B[32m      2\u001B[39m filtered = ambulance_calls_df[\n\u001B[32m----> \u001B[39m\u001B[32m3\u001B[39m     (\u001B[43mambulance_calls_df\u001B[49m\u001B[43m[\u001B[49m\u001B[33;43m\"\u001B[39;49m\u001B[33;43marrived_in_secs\u001B[39;49m\u001B[33;43m\"\u001B[39;49m\u001B[43m]\u001B[49m > \u001B[32m0\u001B[39m) &\n\u001B[32m      4\u001B[39m     (ambulance_calls_df[\u001B[33m\"\u001B[39m\u001B[33mboro_nm\u001B[39m\u001B[33m\"\u001B[39m].notna()) &\n\u001B[32m      5\u001B[39m     (ambulance_calls_df[\u001B[33m\"\u001B[39m\u001B[33marrived_ts\u001B[39m\u001B[33m\"\u001B[39m].notna())\n\u001B[32m      6\u001B[39m ]\n\u001B[32m      7\u001B[39m calls_by_boro = filtered.groupby(\u001B[33m\"\u001B[39m\u001B[33mboro_nm\u001B[39m\u001B[33m\"\u001B[39m).agg(\n\u001B[32m      8\u001B[39m     num_calls=(\u001B[33m\"\u001B[39m\u001B[33mincident_ts\u001B[39m\u001B[33m\"\u001B[39m, \u001B[33m\"\u001B[39m\u001B[33msize\u001B[39m\u001B[33m\"\u001B[39m),\n\u001B[32m      9\u001B[39m     median_arrived_in_secs=(\u001B[33m\"\u001B[39m\u001B[33marrived_in_secs\u001B[39m\u001B[33m\"\u001B[39m, \u001B[33m\"\u001B[39m\u001B[33mmedian\u001B[39m\u001B[33m\"\u001B[39m),\n\u001B[32m     10\u001B[39m     median_duration_secs=(\u001B[33m\"\u001B[39m\u001B[33mduration_secs\u001B[39m\u001B[33m\"\u001B[39m, \u001B[33m\"\u001B[39m\u001B[33mmedian\u001B[39m\u001B[33m\"\u001B[39m)\n\u001B[32m     11\u001B[39m ).reset_index()\n",
      "\u001B[36mFile \u001B[39m\u001B[32m~/PycharmProjects/CSCI-395/.venv/lib/python3.12/site-packages/pandas/core/frame.py:4102\u001B[39m, in \u001B[36mDataFrame.__getitem__\u001B[39m\u001B[34m(self, key)\u001B[39m\n\u001B[32m   4100\u001B[39m \u001B[38;5;28;01mif\u001B[39;00m \u001B[38;5;28mself\u001B[39m.columns.nlevels > \u001B[32m1\u001B[39m:\n\u001B[32m   4101\u001B[39m     \u001B[38;5;28;01mreturn\u001B[39;00m \u001B[38;5;28mself\u001B[39m._getitem_multilevel(key)\n\u001B[32m-> \u001B[39m\u001B[32m4102\u001B[39m indexer = \u001B[38;5;28;43mself\u001B[39;49m\u001B[43m.\u001B[49m\u001B[43mcolumns\u001B[49m\u001B[43m.\u001B[49m\u001B[43mget_loc\u001B[49m\u001B[43m(\u001B[49m\u001B[43mkey\u001B[49m\u001B[43m)\u001B[49m\n\u001B[32m   4103\u001B[39m \u001B[38;5;28;01mif\u001B[39;00m is_integer(indexer):\n\u001B[32m   4104\u001B[39m     indexer = [indexer]\n",
      "\u001B[36mFile \u001B[39m\u001B[32m~/PycharmProjects/CSCI-395/.venv/lib/python3.12/site-packages/pandas/core/indexes/base.py:3812\u001B[39m, in \u001B[36mIndex.get_loc\u001B[39m\u001B[34m(self, key)\u001B[39m\n\u001B[32m   3807\u001B[39m     \u001B[38;5;28;01mif\u001B[39;00m \u001B[38;5;28misinstance\u001B[39m(casted_key, \u001B[38;5;28mslice\u001B[39m) \u001B[38;5;129;01mor\u001B[39;00m (\n\u001B[32m   3808\u001B[39m         \u001B[38;5;28misinstance\u001B[39m(casted_key, abc.Iterable)\n\u001B[32m   3809\u001B[39m         \u001B[38;5;129;01mand\u001B[39;00m \u001B[38;5;28many\u001B[39m(\u001B[38;5;28misinstance\u001B[39m(x, \u001B[38;5;28mslice\u001B[39m) \u001B[38;5;28;01mfor\u001B[39;00m x \u001B[38;5;129;01min\u001B[39;00m casted_key)\n\u001B[32m   3810\u001B[39m     ):\n\u001B[32m   3811\u001B[39m         \u001B[38;5;28;01mraise\u001B[39;00m InvalidIndexError(key)\n\u001B[32m-> \u001B[39m\u001B[32m3812\u001B[39m     \u001B[38;5;28;01mraise\u001B[39;00m \u001B[38;5;167;01mKeyError\u001B[39;00m(key) \u001B[38;5;28;01mfrom\u001B[39;00m\u001B[38;5;250m \u001B[39m\u001B[34;01merr\u001B[39;00m\n\u001B[32m   3813\u001B[39m \u001B[38;5;28;01mexcept\u001B[39;00m \u001B[38;5;167;01mTypeError\u001B[39;00m:\n\u001B[32m   3814\u001B[39m     \u001B[38;5;66;03m# If we have a listlike key, _check_indexing_error will raise\u001B[39;00m\n\u001B[32m   3815\u001B[39m     \u001B[38;5;66;03m#  InvalidIndexError. Otherwise we fall through and re-raise\u001B[39;00m\n\u001B[32m   3816\u001B[39m     \u001B[38;5;66;03m#  the TypeError.\u001B[39;00m\n\u001B[32m   3817\u001B[39m     \u001B[38;5;28mself\u001B[39m._check_indexing_error(key)\n",
      "\u001B[31mKeyError\u001B[39m: 'arrived_in_secs'"
     ]
    }
   ],
   "execution_count": 18
  },
  {
   "cell_type": "code",
   "id": "7ec40691-c645-4056-9f21-e2de051bcc2d",
   "metadata": {
    "ExecuteTime": {
     "end_time": "2025-03-27T15:15:27.201629Z",
     "start_time": "2025-03-27T15:04:23.786956Z"
    }
   },
   "source": [
    "# display the dataframe\n",
    "calls_by_boro"
   ],
   "outputs": [
    {
     "ename": "NameError",
     "evalue": "name 'calls_by_boro' is not defined",
     "output_type": "error",
     "traceback": [
      "\u001B[31m---------------------------------------------------------------------------\u001B[39m",
      "\u001B[31mNameError\u001B[39m                                 Traceback (most recent call last)",
      "\u001B[36mCell\u001B[39m\u001B[36m \u001B[39m\u001B[32mIn[19]\u001B[39m\u001B[32m, line 2\u001B[39m\n\u001B[32m      1\u001B[39m \u001B[38;5;66;03m# display the dataframe\u001B[39;00m\n\u001B[32m----> \u001B[39m\u001B[32m2\u001B[39m \u001B[43mcalls_by_boro\u001B[49m\n",
      "\u001B[31mNameError\u001B[39m: name 'calls_by_boro' is not defined"
     ]
    }
   ],
   "execution_count": 19
  },
  {
   "cell_type": "markdown",
   "id": "e24227ff-4771-4169-8877-4b91a35d577a",
   "metadata": {},
   "source": [
    "Then, merge the `calls_by_boro` pandas dataframe into the `nyc_boros` geodataframe. Make sure to call `nyc_boros.merge(...)`, as the resulting object will preserve the type of the left frame. Name the new table `choropleth_gdf`. Finally, set the frame's index to `\"boro_name\"` and display it."
   ]
  },
  {
   "cell_type": "code",
   "id": "85509b7f-005c-482d-ab35-cca9fbaaaffe",
   "metadata": {
    "ExecuteTime": {
     "end_time": "2025-03-27T15:15:27.201970Z",
     "start_time": "2025-03-27T15:04:55.323255Z"
    }
   },
   "source": "choropleth_gdf = nyc_boros.merge(calls_by_boro, left_on=\"boro_name\", right_on=\"boro_nm\")",
   "outputs": [
    {
     "ename": "NameError",
     "evalue": "name 'nyc_boros' is not defined",
     "output_type": "error",
     "traceback": [
      "\u001B[31m---------------------------------------------------------------------------\u001B[39m",
      "\u001B[31mNameError\u001B[39m                                 Traceback (most recent call last)",
      "\u001B[36mCell\u001B[39m\u001B[36m \u001B[39m\u001B[32mIn[22]\u001B[39m\u001B[32m, line 1\u001B[39m\n\u001B[32m----> \u001B[39m\u001B[32m1\u001B[39m choropleth_gdf = \u001B[43mnyc_boros\u001B[49m.merge(calls_by_boro, left_on=\u001B[33m\"\u001B[39m\u001B[33mboro_name\u001B[39m\u001B[33m\"\u001B[39m, right_on=\u001B[33m\"\u001B[39m\u001B[33mboro_nm\u001B[39m\u001B[33m\"\u001B[39m)\n",
      "\u001B[31mNameError\u001B[39m: name 'nyc_boros' is not defined"
     ]
    }
   ],
   "execution_count": 22
  },
  {
   "cell_type": "code",
   "id": "e42aad94-6733-47fe-91db-612b641f1861",
   "metadata": {
    "ExecuteTime": {
     "end_time": "2025-03-27T15:15:27.202145Z",
     "start_time": "2025-03-27T15:04:54.266030Z"
    }
   },
   "source": [
    "# display the new geodataframe\n",
    "choropleth_gdf"
   ],
   "outputs": [
    {
     "ename": "NameError",
     "evalue": "name 'choropleth_gdf' is not defined",
     "output_type": "error",
     "traceback": [
      "\u001B[31m---------------------------------------------------------------------------\u001B[39m",
      "\u001B[31mNameError\u001B[39m                                 Traceback (most recent call last)",
      "\u001B[36mCell\u001B[39m\u001B[36m \u001B[39m\u001B[32mIn[21]\u001B[39m\u001B[32m, line 2\u001B[39m\n\u001B[32m      1\u001B[39m \u001B[38;5;66;03m# display the new geodataframe\u001B[39;00m\n\u001B[32m----> \u001B[39m\u001B[32m2\u001B[39m \u001B[43mchoropleth_gdf\u001B[49m\n",
      "\u001B[31mNameError\u001B[39m: name 'choropleth_gdf' is not defined"
     ]
    }
   ],
   "execution_count": 21
  },
  {
   "cell_type": "markdown",
   "id": "3b7ef5fe-5a3d-4674-9378-d1830fa21448",
   "metadata": {},
   "source": [
    "Now you have a single geodataframe with the geometries for each borough and a number of metrics describing them. This is all you need to make your choropleth map with plotly.\n",
    "\n",
    "You'll be using the `choropleth_mapbox(...)` function of the `plotly.express` module (imported above with the typical alias `px`). You can find the documentation [here](https://plotly.com/python-api-reference/generated/plotly.express.choropleth_mapbox.html). Call the function setting the following parameters:\n",
    "- `data_frame`: this is your geodataframe containing the borough-level data; it's important that the index is a unique label to each geometry.\n",
    "- `geojson`: an array or `pandas.Series` with the geometries associated to each element.\n",
    "- `locations`: an array containing your location identifiers. In our case, `choropleth_gdf.index` is a good choice.\n",
    "- `color`: column name contaning values to be represented in choropleth: `\"median_arrived_in_secs\"`\n",
    "- `hover_data`: additional column names with data to be represented when hovering over a geometry; let's include `[\"num_calls\", \"median_duration_secs\"]`, but feel free to add others.\n",
    "- `labels`: a dictionary with the display names for different plot properties. Use this to make your column names more human readable:\n",
    "  -  `\"boro_name\": \"borough\"` \n",
    "  - `\"num_calls\": \"number of calls\"`\n",
    "  - `\"median_arrived_in_secs\": \"median arrival time (seconds)\"`\n",
    "  - `\"median_duration_secs\": \"median duration time (seconds)\"`\n",
    "- `title` (optional): a title for your choropleth!\n",
    "- `mapbox_style`: set this to `\"carto-darkmatter\"` to make a map with a black background, but feel free to play with other styles too (see [docs](https://plotly.com/python-api-reference/generated/plotly.express.choropleth_mapbox.html)).\n",
    "- `center`: set this to `{\"lat\": 40.75, \"lon\": -74.0}` to center the map in NYC\n",
    "- `zoom`: set this to `9`:\n",
    "- `height`: set it to `750`\n",
    "- `width`: set it to `750`\n",
    "\n",
    "Store the output of your function call as `choropleth_fig`, and finally call `choropleth_fig.show();` to display your choropleth."
   ]
  },
  {
   "cell_type": "code",
   "execution_count": null,
   "id": "07748d14-62dc-46d6-ba5e-085979d8c2c3",
   "metadata": {},
   "outputs": [],
   "source": [
    "# make and show the choropleth\n",
    "if __name__ == \"__main__\":\n",
    "    choropleth_fig = px.choropleth_mapbox(\n",
    "        choropleth_gdf,\n",
    "        geojson=choropleth_gdf.geometry,\n",
    "        locations=choropleth_gdf.index,\n",
    "        color=\"median_arrived_in_secs\",\n",
    "        hover_data=[\"num_calls\", \"median_duration_secs\"],\n",
    "        labels={\n",
    "            \"boro_name\": \"Borough\",\n",
    "            \"num_calls\": \"Number of Calls\",\n",
    "            \"median_arrived_in_secs\": \"Median Arrival Time (seconds)\",\n",
    "            \"median_duration_secs\": \"Median Duration (seconds)\"\n",
    "        },\n",
    "        mapbox_style=\"carto-darkmatter\",\n",
    "        center={\"lat\": 40.75, \"lon\": -74.0},\n",
    "        zoom=9,\n",
    "        height=750,\n",
    "        width=750\n",
    "    )\n",
    "    choropleth_fig.show()"
   ]
  },
  {
   "cell_type": "markdown",
   "id": "dd4accc7-b1c1-43d1-9d74-c03dbfad1d2c",
   "metadata": {},
   "source": [
    "#### Task 3.4: Analyze the choropleth\n",
    "What do you observe in your choropleth? Write at least two thoughts:\n",
    "\n",
    "> - 3.4 #1: ...\n",
    "> - 3.4 #2: ...\n",
    "> \n",
    "> - ..."
   ]
  },
  {
   "cell_type": "markdown",
   "id": "b11d4d85-5a64-4bd9-87ca-f09ef030bea1",
   "metadata": {},
   "source": [
    "## Section 4: scatter map of individual calls\n",
    "Now let's make a geographic scatterplot of individual ambulance call arrival times using the `px.scatter_mapbox()` function (docs [here](https://plotly.com/python-api-reference/generated/plotly.express.scatter_mapbox.html)).\n",
    "\n",
    "For this map you won't need a geodataframe as `ambulance_calls_df` contains latitude and longitude columns and `scatter_mapbox()` can take those as arguments. \n",
    "\n",
    "#### Task 4.1: Make a new dataframe for the scattermap\n",
    "First, make a new pandas dataframe called `new_years_df` that is a subset of `ambulance_calls_df` with\n",
    "- `\"incident_ts\"` being equal to `\"2024-01-01\"`\n",
    "- no missing/null values"
   ]
  },
  {
   "cell_type": "code",
   "execution_count": null,
   "id": "1a3a2213-c9f4-40a8-bd32-cc32aa877dda",
   "metadata": {},
   "outputs": [],
   "source": [
    "new_years_df = ambulance_calls_df[\n",
    "    (ambulance_calls_df[\"incident_ts\"].dt.date == pd.to_datetime(\"2024-01-01\").date()) &\n",
    "    (ambulance_calls_df[\"latitude\"].notna()) &\n",
    "    (ambulance_calls_df[\"longitude\"].notna())\n",
    "]"
   ]
  },
  {
   "cell_type": "markdown",
   "id": "1cc79c61-246c-4625-9a1c-0dc316d8e249",
   "metadata": {},
   "source": [
    "#### Task 4.2: Create the scatter map\n",
    "Now you'll create your scatter map. You'll do this in two steps: first you'll create the scatter map, then you'll add the boro boundaries as another layer.\n",
    "\n",
    "Storing its result as `scatter_fig`, call `px.scatter_mapbox` passing the following parameters:\n",
    "- `data_frame`\n",
    "- `lat`\n",
    "- `lon`\n",
    "- `size`\n",
    "- `opacity`\n",
    "- `color`\n",
    "- `title`\n",
    "- `zoom`\n",
    "- `height`\n",
    "- `width`\n",
    "\n",
    "That will create the scatter map (feel free to check your work before moving on). Then, call `scatter_fig.update_layout()`, setting the `mapbox_layers` parameter to the following value:\n",
    "\n",
    "```python\n",
    "[{\n",
    "    \"type\": \"line\",\n",
    "    \"color\": \"white\",\n",
    "    \"opacity\": 0.5,\n",
    "    \"source\": json.loads(nyc_boros[\"geometry\"].to_json()),\n",
    "    \"line\": {\"width\": 0.1},\n",
    "}]\n",
    "```\n",
    "\n",
    "Finally, call `scatter_fig.update_layout(mapbox_style=\"carto-darkmatter\")` to set the theme and call `scatter_fig.show()` to display your map."
   ]
  },
  {
   "cell_type": "code",
   "id": "c9bc28d6-bf76-445d-b801-da74fd7b66bb",
   "metadata": {
    "ExecuteTime": {
     "end_time": "2025-03-27T15:15:27.202552Z",
     "start_time": "2025-03-27T14:36:33.892574Z"
    }
   },
   "source": [
    "scatter_fig = px.scatter_mapbox(\n",
    "    new_years_df,\n",
    "    lat=\"latitude\",\n",
    "    lon=\"longitude\",\n",
    "    color=\"arrived_in_secs\",\n",
    "    size=\"arrived_in_secs\",\n",
    "    opacity=0.7,\n",
    "    title=\"Ambulance Calls on New Year's Day 2024\",\n",
    "    zoom=10,\n",
    "    height=750,\n",
    "    width=750\n",
    ")\n",
    "\n",
    "scatter_fig.update_layout(mapbox_layers=[{\n",
    "    \"type\": \"line\",\n",
    "    \"color\": \"white\",\n",
    "    \"opacity\": 0.5,\n",
    "    \"source\": json.loads(nyc_boros.geometry.to_json()),\n",
    "    \"line\": {\"width\": 0.1}\n",
    "}])\n",
    "scatter_fig.update_layout(mapbox_style=\"carto-darkmatter\")\n",
    "scatter_fig.show()"
   ],
   "outputs": [
    {
     "ename": "NameError",
     "evalue": "name 'px' is not defined",
     "output_type": "error",
     "traceback": [
      "\u001B[31m---------------------------------------------------------------------------\u001B[39m",
      "\u001B[31mNameError\u001B[39m                                 Traceback (most recent call last)",
      "\u001B[36mCell\u001B[39m\u001B[36m \u001B[39m\u001B[32mIn[4]\u001B[39m\u001B[32m, line 1\u001B[39m\n\u001B[32m----> \u001B[39m\u001B[32m1\u001B[39m scatter_fig = \u001B[43mpx\u001B[49m.scatter_mapbox(\n\u001B[32m      2\u001B[39m     new_years_df,\n\u001B[32m      3\u001B[39m     lat=\u001B[33m\"\u001B[39m\u001B[33mlatitude\u001B[39m\u001B[33m\"\u001B[39m,\n\u001B[32m      4\u001B[39m     lon=\u001B[33m\"\u001B[39m\u001B[33mlongitude\u001B[39m\u001B[33m\"\u001B[39m,\n\u001B[32m      5\u001B[39m     color=\u001B[33m\"\u001B[39m\u001B[33marrived_in_secs\u001B[39m\u001B[33m\"\u001B[39m,\n\u001B[32m      6\u001B[39m     size=\u001B[33m\"\u001B[39m\u001B[33marrived_in_secs\u001B[39m\u001B[33m\"\u001B[39m,\n\u001B[32m      7\u001B[39m     opacity=\u001B[32m0.7\u001B[39m,\n\u001B[32m      8\u001B[39m     title=\u001B[33m\"\u001B[39m\u001B[33mAmbulance Calls on New Year\u001B[39m\u001B[33m'\u001B[39m\u001B[33ms Day 2024\u001B[39m\u001B[33m\"\u001B[39m,\n\u001B[32m      9\u001B[39m     zoom=\u001B[32m10\u001B[39m,\n\u001B[32m     10\u001B[39m     height=\u001B[32m750\u001B[39m,\n\u001B[32m     11\u001B[39m     width=\u001B[32m750\u001B[39m\n\u001B[32m     12\u001B[39m )\n\u001B[32m     14\u001B[39m scatter_fig.update_layout(mapbox_layers=[{\n\u001B[32m     15\u001B[39m     \u001B[33m\"\u001B[39m\u001B[33mtype\u001B[39m\u001B[33m\"\u001B[39m: \u001B[33m\"\u001B[39m\u001B[33mline\u001B[39m\u001B[33m\"\u001B[39m,\n\u001B[32m     16\u001B[39m     \u001B[33m\"\u001B[39m\u001B[33mcolor\u001B[39m\u001B[33m\"\u001B[39m: \u001B[33m\"\u001B[39m\u001B[33mwhite\u001B[39m\u001B[33m\"\u001B[39m,\n\u001B[32m   (...)\u001B[39m\u001B[32m     19\u001B[39m     \u001B[33m\"\u001B[39m\u001B[33mline\u001B[39m\u001B[33m\"\u001B[39m: {\u001B[33m\"\u001B[39m\u001B[33mwidth\u001B[39m\u001B[33m\"\u001B[39m: \u001B[32m0.1\u001B[39m}\n\u001B[32m     20\u001B[39m }])\n\u001B[32m     21\u001B[39m scatter_fig.update_layout(mapbox_style=\u001B[33m\"\u001B[39m\u001B[33mcarto-darkmatter\u001B[39m\u001B[33m\"\u001B[39m)\n",
      "\u001B[31mNameError\u001B[39m: name 'px' is not defined"
     ]
    }
   ],
   "execution_count": 4
  },
  {
   "cell_type": "markdown",
   "id": "f30a9e7e-477c-49cd-9177-e7483be6e298",
   "metadata": {},
   "source": [
    "#### Task 4.3: The slowest arrival\n",
    "Zoom into your map and look aronud a bit. Can you spot the call with the slowest arrival? Write its latitude and longitude here:\n",
    "> - latitude: 40.681268 \t\n",
    "> - longitude: -73.892877"
   ]
  }
 ],
 "metadata": {
  "kernelspec": {
   "display_name": "Python 3 (ipykernel)",
   "language": "python",
   "name": "python3"
  },
  "language_info": {
   "codemirror_mode": {
    "name": "ipython",
    "version": 3
   },
   "file_extension": ".py",
   "mimetype": "text/x-python",
   "name": "python",
   "nbconvert_exporter": "python",
   "pygments_lexer": "ipython3",
   "version": "3.10.12"
  }
 },
 "nbformat": 4,
 "nbformat_minor": 5
}
