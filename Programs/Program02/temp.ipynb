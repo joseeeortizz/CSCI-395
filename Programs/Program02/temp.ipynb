{
 "cells": [
  {
   "metadata": {},
   "cell_type": "markdown",
   "source": [
    "\n",
    "# <center> CSCI 395 - Program 2 <center>\n",
    "### <center> Hunter College <center>\n",
    "### <center> Jose Ortiz\n",
    "### <center> Prof. Adrián Soto Cambres\n",
    "### <center> Date: 02/27/2025\n"
   ]
  },
  {
   "cell_type": "markdown",
   "metadata": {},
   "source": [
    "## Dataset\n",
    "We'll use NYC school data from:\n",
    "- [2021 DOE High School Directory](https://data.cityofnewyork.us/Education/2021-DOE-High-School-Directory/8b6c-7uty)\n",
    "- [2020 DOE High School Directory](https://data.cityofnewyork.us/Education/2020-DOE-High-School-Directory/23z9-6uk9)\n",
    "- [2019 DOE High School Directory](https://data.cityofnewyork.us/Education/2019-DOE-High-School-Directory/uq7m-95z8)\n",
    "\n",
    "Sample datasets included in repo:\n",
    "- `2021_DOE_High_School_Directory_SI.csv`: Staten Island schools\n",
    "- `2020_DOE_High_School_Directory_late_start.csv`: Schools with 9am start times"
   ]
  },
  {
   "metadata": {},
   "cell_type": "markdown",
   "source": "Necessary Libraries for the Program to run."
  },
  {
   "cell_type": "markdown",
   "metadata": {},
   "source": [
    "## Section 0: Setup\n",
    "Function templates:"
   ]
  },
  {
   "metadata": {
    "ExecuteTime": {
     "end_time": "2025-02-28T00:45:48.481273Z",
     "start_time": "2025-02-28T00:45:48.477038Z"
    }
   },
   "cell_type": "code",
   "source": [
    "# libraries for data manipulation\n",
    "import numpy as np\n",
    "import pandas as pd\n",
    "\n",
    "# libraries for data visualization\n",
    "from matplotlib import pyplot as plt\n",
    "import seaborn as sns\n",
    "\n",
    "# jupyter extension to render charts inline\n",
    "%matplotlib inline"
   ],
   "outputs": [],
   "execution_count": 126
  },
  {
   "cell_type": "code",
   "metadata": {
    "ExecuteTime": {
     "end_time": "2025-02-28T00:45:48.488995Z",
     "start_time": "2025-02-28T00:45:48.485357Z"
    }
   },
   "source": [
    "import pandas as pd\n",
    "\n",
    "def import_data(file_name):\n",
    "    \"\"\"Read relevant data from DOE High School Directory CSV file.\"\"\"\n",
    "    cols = [\n",
    "        \"dbn\", \"school_name\", \"borocode\", \"NTA\", \"graduation_rate\",\n",
    "        \"pct_stu_safe\", \"attendance_rate\", \"college_career_rate\",\n",
    "        \"language_classes\", \"advancedplacement_courses\"\n",
    "    ]\n",
    "    df = pd.read_csv(file_name, usecols=cols)\n",
    "    df = df.dropna(subset=['graduation_rate'])\n",
    "    return df\n",
    "\n",
    "def impute_numeric_cols_median(df):\n",
    "    \"\"\"Impute missing numeric values with column median.\"\"\"\n",
    "    numeric_cols = ['pct_stu_safe', 'attendance_rate', 'college_career_rate']\n",
    "    for col in numeric_cols:\n",
    "        median_val = df[col].median()\n",
    "        df[col] = df[col].fillna(median_val)\n",
    "    return df\n",
    "\n",
    "def compute_item_count(df, col):\n",
    "    \"\"\"Count the number of items separated by commas in each entry.\"\"\"\n",
    "    return df[col].fillna('').apply(lambda x: len([i for i in x.split(',') if i.strip() != '']))\n",
    "\n",
    "def encode_categorical_col(x):\n",
    "    \"\"\"One-hot encode a categorical column using pandas get_dummies.\"\"\"\n",
    "    return pd.get_dummies(x)\n",
    "\n",
    "def split_test_train(df, x_col_names, y_col_name, frac=0.25, random_state=922):\n",
    "    \"\"\"Split data into train and test subsets.\"\"\"\n",
    "    test_df = df.sample(frac=frac, random_state=random_state)\n",
    "    train_df = df.drop(test_df.index)\n",
    "    x_train = train_df[x_col_names]\n",
    "    x_test = test_df[x_col_names]\n",
    "    y_train = train_df[y_col_name]\n",
    "    y_test = test_df[y_col_name]\n",
    "    return (x_train, x_test, y_train, y_test)\n"
   ],
   "outputs": [],
   "execution_count": 127
  },
  {
   "cell_type": "markdown",
   "metadata": {},
   "source": [
    "## Section 1: Data Ingestion & Feature Engineering\n",
    "### Example Usage\n",
    "Load Staten Island data:"
   ]
  },
  {
   "metadata": {
    "ExecuteTime": {
     "end_time": "2025-02-28T00:45:48.507400Z",
     "start_time": "2025-02-28T00:45:48.501114Z"
    }
   },
   "cell_type": "code",
   "source": [
    "file_name = '2021_DOE_High_School_Directory_SI.csv'\n",
    "si_df = import_data(file_name)\n",
    "print(f'There are {len(si_df.columns)} columns:')\n",
    "print(si_df.columns)\n",
    "print('The dataframe is:')\n",
    "print(si_df)"
   ],
   "outputs": [
    {
     "name": "stdout",
     "output_type": "stream",
     "text": [
      "There are 10 columns:\n",
      "Index(['dbn', 'school_name', 'borocode', 'language_classes',\n",
      "       'advancedplacement_courses', 'graduation_rate', 'pct_stu_safe',\n",
      "       'attendance_rate', 'college_career_rate', 'NTA'],\n",
      "      dtype='object')\n",
      "The dataframe is:\n",
      "       dbn                                        school_name borocode  \\\n",
      "1   31R047          CSI High School for International Studies        R   \n",
      "2   31R064        Gaynor McCown Expeditionary Learning School        R   \n",
      "3   31R080                    Michael J. Petrides School, The        R   \n",
      "4   31R440                               New Dorp High School        R   \n",
      "5   31R445                          Port Richmond High School        R   \n",
      "6   31R450                                 Curtis High School        R   \n",
      "7   31R455                            Tottenville High School        R   \n",
      "8   31R460                        Susan E. Wagner High School        R   \n",
      "9   31R600  Ralph R. McKee Career and Technical Education ...        R   \n",
      "10  31R605                Staten Island Technical High School        R   \n",
      "\n",
      "                                     language_classes  \\\n",
      "1                                   Mandarin, Spanish   \n",
      "2                                             Spanish   \n",
      "3                                    Italian, Spanish   \n",
      "4                                    Italian, Spanish   \n",
      "5                                    Italian, Spanish   \n",
      "6                            French, Italian, Spanish   \n",
      "7   American Sign Language, Italian, Mandarin, Spa...   \n",
      "8                     French, Italian, Latin, Spanish   \n",
      "9                                             Spanish   \n",
      "10                                            Russian   \n",
      "\n",
      "                            advancedplacement_courses  graduation_rate  \\\n",
      "1   AP 2-D Art and Design, AP Calculus AB, AP Comp...             1.00   \n",
      "2   AP English Literature and Composition, AP Unit...             0.93   \n",
      "3   AP Statistics, AP English Language and Composi...             0.95   \n",
      "4   AP Computer Science A, AP Biology, AP Computer...             0.84   \n",
      "5   AP Environmental Science, AP U.S. Government a...             0.72   \n",
      "6   AP Environmental Science, AP English Literatur...             0.79   \n",
      "7   AP Computer Science A, AP U.S. Government and ...             0.92   \n",
      "8   AP United States History, AP English Language ...             0.89   \n",
      "9   AP English Language and Composition, AP Calcul...             0.73   \n",
      "10  AP Physics 1, AP Physics 2, AP Biology, AP Env...             1.00   \n",
      "\n",
      "    pct_stu_safe  attendance_rate  college_career_rate  \\\n",
      "1           0.89             0.95                 0.93   \n",
      "2           0.88             0.92                 0.86   \n",
      "3           0.78             0.92                 0.92   \n",
      "4           0.79             0.91                 0.64   \n",
      "5           0.75             0.84                 0.50   \n",
      "6           0.79             0.86                 0.65   \n",
      "7           0.82             0.92                 0.74   \n",
      "8           0.83             0.91                 0.76   \n",
      "9           0.81             0.84                 0.44   \n",
      "10          0.97             0.96                 0.91   \n",
      "\n",
      "                                                  NTA  \n",
      "1   Todt Hill-Emerson Hill-Heartland Village-Light...  \n",
      "2   Todt Hill-Emerson Hill-Heartland Village-Light...  \n",
      "3   Todt Hill-Emerson Hill-Heartland Village-Light...  \n",
      "4                              New Dorp-Midland Beach  \n",
      "5                                       Port Richmond  \n",
      "6           West New Brighton-New Brighton-St. George  \n",
      "7          Annadale-Huguenot-Prince's Bay-Eltingville  \n",
      "8   Todt Hill-Emerson Hill-Heartland Village-Light...  \n",
      "9           West New Brighton-New Brighton-St. George  \n",
      "10                             New Dorp-Midland Beach  \n"
     ]
    }
   ],
   "execution_count": 128
  },
  {
   "cell_type": "markdown",
   "metadata": {},
   "source": [
    "**Expected Output**:\n",
    "```\n",
    "There are 10 columns:\n",
    "Index(['dbn', 'school_name', 'borocode', 'NTA', 'graduation_rate', 'pct_stu_safe',\n",
    "       'attendance_rate', 'college_career_rate', 'language_classes',\n",
    "       'advancedplacement_courses'],\n",
    "      dtype='object')\n",
    "The dataframe is:\n",
    "      dbn                                        school_name  ...\n",
    "1  31R047          CSI High School for International Studies  ...\n",
    "2  31R064        Gaynor McCown Expeditionary Learning School  ...\n",
    "[10 rows x 10 columns]\n",
    "```"
   ]
  },
  {
   "metadata": {},
   "cell_type": "markdown",
   "source": [
    "Note that there are 11 high schools in Staten Island, but one (Eagle Academy) was new and didn't have a graduation rate, so it was dropped.\n",
    "\n",
    "If you examine the 2020 schools that have a late start (after 9am) 2020_DOE_High_School_Directory_late_start.csv"
   ]
  },
  {
   "metadata": {
    "ExecuteTime": {
     "end_time": "2025-02-28T00:45:48.522553Z",
     "start_time": "2025-02-28T00:45:48.516676Z"
    }
   },
   "cell_type": "code",
   "source": [
    "file_name = '2020_DOE_High_School_Directory_late_start.csv'\n",
    "late_df = import_data(file_name)\n",
    "print('The numerical columns are:')\n",
    "print(late_df[['dbn','pct_stu_safe','attendance_rate','college_career_rate']])"
   ],
   "outputs": [
    {
     "name": "stdout",
     "output_type": "stream",
     "text": [
      "The numerical columns are:\n",
      "       dbn  pct_stu_safe  attendance_rate  college_career_rate\n",
      "0   01M696          0.92             0.95                 0.92\n",
      "1   07X334          0.89             0.90                 0.35\n",
      "2   02M543          0.92             0.84                 0.75\n",
      "3   14K685          0.94             0.83                 0.42\n",
      "4   02M546          0.80             0.90                 0.78\n",
      "5   02M376          0.97             0.93                 0.79\n",
      "6   19K404          0.87             0.86                 0.74\n",
      "7   20K490          0.80             0.90                 0.57\n",
      "9   27Q334          0.92             0.83                  NaN\n",
      "10  30Q301          0.94             0.93                 0.84\n",
      "11  28Q328          0.87             0.87                 0.88\n",
      "12  14K561          0.94             0.89                 0.76\n",
      "13  31R450          0.76             0.85                 0.60\n",
      "14  02M298          0.89             0.87                 0.65\n",
      "15  04M555          0.97             0.95                 0.95\n",
      "16  10X353          0.95             0.88                 0.69\n",
      "17  02M420          0.90             0.91                 0.73\n",
      "18  10X351          0.83             0.76                 0.39\n",
      "19  20K445          0.75             0.86                 0.63\n",
      "20  21K337          0.90             0.90                 0.46\n",
      "21  18K633          0.92             0.89                 0.81\n",
      "22  23K514          0.88             0.82                 0.37\n",
      "23  02M294          0.89             0.87                 0.78\n",
      "24  30Q575          0.86             0.93                 0.62\n",
      "26  28Q440          0.77             0.90                 0.72\n",
      "27  24Q299          0.97             0.98                 0.99\n",
      "28  16K765          0.87             0.72                  NaN\n",
      "29  09X403          0.89             0.83                 0.47\n"
     ]
    }
   ],
   "execution_count": 129
  },
  {
   "metadata": {},
   "cell_type": "markdown",
   "source": "There are several missing values in the college_career_rate column. Fill those in (impute) with the median of the column:"
  },
  {
   "metadata": {
    "ExecuteTime": {
     "end_time": "2025-02-28T00:45:48.534999Z",
     "start_time": "2025-02-28T00:45:48.531090Z"
    }
   },
   "cell_type": "code",
   "source": [
    "late_df = impute_numeric_cols_median(late_df)\n",
    "print(late_df[['dbn','pct_stu_safe','attendance_rate','college_career_rate']])"
   ],
   "outputs": [
    {
     "name": "stdout",
     "output_type": "stream",
     "text": [
      "       dbn  pct_stu_safe  attendance_rate  college_career_rate\n",
      "0   01M696          0.92             0.95                0.920\n",
      "1   07X334          0.89             0.90                0.350\n",
      "2   02M543          0.92             0.84                0.750\n",
      "3   14K685          0.94             0.83                0.420\n",
      "4   02M546          0.80             0.90                0.780\n",
      "5   02M376          0.97             0.93                0.790\n",
      "6   19K404          0.87             0.86                0.740\n",
      "7   20K490          0.80             0.90                0.570\n",
      "9   27Q334          0.92             0.83                0.725\n",
      "10  30Q301          0.94             0.93                0.840\n",
      "11  28Q328          0.87             0.87                0.880\n",
      "12  14K561          0.94             0.89                0.760\n",
      "13  31R450          0.76             0.85                0.600\n",
      "14  02M298          0.89             0.87                0.650\n",
      "15  04M555          0.97             0.95                0.950\n",
      "16  10X353          0.95             0.88                0.690\n",
      "17  02M420          0.90             0.91                0.730\n",
      "18  10X351          0.83             0.76                0.390\n",
      "19  20K445          0.75             0.86                0.630\n",
      "20  21K337          0.90             0.90                0.460\n",
      "21  18K633          0.92             0.89                0.810\n",
      "22  23K514          0.88             0.82                0.370\n",
      "23  02M294          0.89             0.87                0.780\n",
      "24  30Q575          0.86             0.93                0.620\n",
      "26  28Q440          0.77             0.90                0.720\n",
      "27  24Q299          0.97             0.98                0.990\n",
      "28  16K765          0.87             0.72                0.725\n",
      "29  09X403          0.89             0.83                0.470\n"
     ]
    }
   ],
   "execution_count": 130
  },
  {
   "metadata": {},
   "cell_type": "markdown",
   "source": "Now, using the compute_item_count twice, add two new columns with counts for languages & AP classes:"
  },
  {
   "metadata": {
    "ExecuteTime": {
     "end_time": "2025-02-28T00:45:48.549878Z",
     "start_time": "2025-02-28T00:45:48.546514Z"
    }
   },
   "cell_type": "code",
   "source": [
    "late_df['language_count'] = compute_item_count(late_df,'language_classes')\n",
    "late_df['ap_count'] = compute_item_count(late_df,'advancedplacement_courses')\n",
    "print('High schools that have 9am or later start:')\n",
    "print(late_df[['dbn','language_count','language_classes','ap_count','advancedplacement_courses']])"
   ],
   "outputs": [
    {
     "name": "stdout",
     "output_type": "stream",
     "text": [
      "High schools that have 9am or later start:\n",
      "       dbn  language_count                                   language_classes  \\\n",
      "0   01M696               5            French, Greek, Latin, Mandarin, Spanish   \n",
      "1   07X334               1                                             French   \n",
      "2   02M543               1                                            Spanish   \n",
      "3   14K685               1                                            Spanish   \n",
      "4   02M546               1                                            Spanish   \n",
      "5   02M376               1                                            Spanish   \n",
      "6   19K404               1                                            Spanish   \n",
      "7   20K490               6  Arabic, French, Greek, Italian, Mandarin, Spanish   \n",
      "9   27Q334               1                                            Spanish   \n",
      "10  30Q301               1                                             French   \n",
      "11  28Q328               2                                    French, Spanish   \n",
      "12  14K561               2                    American Sign Language, Spanish   \n",
      "13  31R450               3                           French, Italian, Spanish   \n",
      "14  02M298               1                                            Spanish   \n",
      "15  04M555               1                                            Spanish   \n",
      "16  10X353               4                  French, German, Japanese, Spanish   \n",
      "17  02M420               1                                            Spanish   \n",
      "18  10X351               2                                  Japanese, Spanish   \n",
      "19  20K445               4                 Arabic, Italian, Mandarin, Spanish   \n",
      "20  21K337               2                                  Mandarin, Spanish   \n",
      "21  18K633               1                                            Spanish   \n",
      "22  23K514               2                                    French, Spanish   \n",
      "23  02M294               2                                    French, Spanish   \n",
      "24  30Q575               2                                    French, Spanish   \n",
      "26  28Q440               7  American Sign Language, French, Hebrew, Italia...   \n",
      "27  24Q299               3                           Latin, Mandarin, Spanish   \n",
      "28  16K765               1                                            Spanish   \n",
      "29  09X403               2                                    French, Spanish   \n",
      "\n",
      "    ap_count                          advancedplacement_courses  \n",
      "0          0                                                NaN  \n",
      "1          0                                                NaN  \n",
      "2          2  AP English Literature and Composition, AP Unit...  \n",
      "3          0                                                NaN  \n",
      "4          6  AP Biology, AP Calculus AB, AP Computer Scienc...  \n",
      "5          4  AP Calculus AB, AP English Language and Compos...  \n",
      "6          5  AP Biology, AP Computer Science A, AP English ...  \n",
      "7         20  AP 2-D Art and Design, AP Biology, AP Calculus...  \n",
      "9          6  AP Biology, AP Computer Science Principles, AP...  \n",
      "10         6  AP Calculus AB, AP Computer Science Principles...  \n",
      "11         5  AP Biology, AP Calculus AB, AP Chemistry, AP C...  \n",
      "12         7  AP Calculus AB, AP English Language and Compos...  \n",
      "13        10  AP Calculus AB, AP Computer Science Principles...  \n",
      "14         5  AP Biology, AP Calculus AB, AP English Languag...  \n",
      "15         7  AP Calculus AB, AP Computer Science Principles...  \n",
      "16         6  AP English Language and Composition, AP Englis...  \n",
      "17        12  AP Art History, AP Biology, AP Calculus AB, AP...  \n",
      "18         1                                         AP Seminar  \n",
      "19        22  AP Biology, AP Calculus AB, AP Calculus BC, AP...  \n",
      "20         0                                                NaN  \n",
      "21         6  AP Biology, AP English Literature and Composit...  \n",
      "22         4  AP Chemistry, AP English Language and Composit...  \n",
      "23         0                                                NaN  \n",
      "24        10  AP Calculus AB, AP Calculus BC, AP English Lan...  \n",
      "26        19  AP Art History, AP Biology, AP Calculus AB, AP...  \n",
      "27         0                                                NaN  \n",
      "28         3  AP Biology, AP English Literature and Composit...  \n",
      "29         3  AP Calculus AB, AP French Language and Culture...  \n"
     ]
    }
   ],
   "execution_count": 131
  },
  {
   "metadata": {},
   "cell_type": "markdown",
   "source": "Now add columns for the borough code, using one hot encoding:"
  },
  {
   "metadata": {
    "ExecuteTime": {
     "end_time": "2025-02-28T00:45:48.567165Z",
     "start_time": "2025-02-28T00:45:48.564170Z"
    }
   },
   "cell_type": "code",
   "source": [
    "boros_df = encode_categorical_col(late_df['borocode'])\n",
    "print(late_df['borocode'].head(5))\n",
    "print(boros_df.head(5))"
   ],
   "outputs": [
    {
     "name": "stdout",
     "output_type": "stream",
     "text": [
      "0    M\n",
      "1    X\n",
      "2    M\n",
      "3    K\n",
      "4    M\n",
      "Name: borocode, dtype: object\n",
      "       K      M      Q      R      X\n",
      "0  False   True  False  False  False\n",
      "1  False  False  False  False   True\n",
      "2  False   True  False  False  False\n",
      "3   True  False  False  False  False\n",
      "4  False   True  False  False  False\n"
     ]
    }
   ],
   "execution_count": 132
  },
  {
   "metadata": {},
   "cell_type": "markdown",
   "source": "Gives a new DataFrame with 0 and 1 values. Check your work by counting number of schools in each borough:"
  },
  {
   "metadata": {
    "ExecuteTime": {
     "end_time": "2025-02-28T00:45:48.582156Z",
     "start_time": "2025-02-28T00:45:48.580223Z"
    }
   },
   "cell_type": "code",
   "source": [
    "print('Number of schools in each borough:')\n",
    "print(boros_df.sum(axis=0))"
   ],
   "outputs": [
    {
     "name": "stdout",
     "output_type": "stream",
     "text": [
      "Number of schools in each borough:\n",
      "K    9\n",
      "M    8\n",
      "Q    6\n",
      "R    1\n",
      "X    4\n",
      "dtype: int64\n"
     ]
    }
   ],
   "execution_count": 133
  },
  {
   "metadata": {},
   "cell_type": "markdown",
   "source": "Shortly we will be building linear models. To be able to validate them, we randomly split the dataset into training and testing sets. If you apply your function split_train_test() to the late schools dataset to predict \"graduation_rate\" using the numerical columns only:"
  },
  {
   "metadata": {
    "ExecuteTime": {
     "end_time": "2025-02-28T00:45:48.598024Z",
     "start_time": "2025-02-28T00:45:48.594912Z"
    }
   },
   "cell_type": "code",
   "source": [
    "x_cols = ['language_count','ap_count','pct_stu_safe','attendance_rate','college_career_rate']\n",
    "y_col = 'graduation_rate'\n",
    "x_train, x_test, y_train, y_test = split_test_train(late_df, x_cols, y_col)\n",
    "print(f'The sizes of the sets are:')\n",
    "print(f'x_train has {len(x_train)} rows.\\tx_test has {len(x_test)} rows.')\n",
    "print(f'y_train has {len(y_train)} rows.\\ty_test has {len(y_test)} rows.')"
   ],
   "outputs": [
    {
     "name": "stdout",
     "output_type": "stream",
     "text": [
      "The sizes of the sets are:\n",
      "x_train has 21 rows.\tx_test has 7 rows.\n",
      "y_train has 21 rows.\ty_test has 7 rows.\n"
     ]
    }
   ],
   "execution_count": 134
  },
  {
   "cell_type": "markdown",
   "metadata": {},
   "source": [
    "## Section 2: Training a Linear Regressor\n",
    "Function templates:"
   ]
  },
  {
   "metadata": {
    "ExecuteTime": {
     "end_time": "2025-02-28T00:45:48.616311Z",
     "start_time": "2025-02-28T00:45:48.613963Z"
    }
   },
   "cell_type": "code",
   "source": [
    "def compute_lin_reg(x, y):\n",
    "    \"\"\"Compute slope and intercept for 1D linear regression.\"\"\"\n",
    "    sd_x = x.std()\n",
    "    sd_y = y.std()\n",
    "    r = x.corr(y)\n",
    "    theta_1 = r * (sd_y / sd_x)\n",
    "    theta_0 = y.mean() - theta_1 * x.mean()\n",
    "    return (theta_0, theta_1)\n",
    "\n",
    "# Example usage for Section 2\n",
    "if False:\n",
    "    si_df['language_count'] = compute_item_count(si_df, 'language_classes')\n",
    "    si_df['ap_count'] = compute_item_count(si_df, 'advancedplacement_courses')\n",
    "    x_cols = ['language_count', 'ap_count', 'pct_stu_safe', 'attendance_rate', 'college_career_rate']\n",
    "    coeff = {}\n",
    "    for col in x_cols:\n",
    "        coeff[col] = compute_lin_reg(si_df[col], si_df['graduation_rate'])\n",
    "        print(f'For {col}, theta_0 = {coeff[col][0]}, theta_1 = {coeff[col][1]}')\n"
   ],
   "outputs": [],
   "execution_count": 135
  },
  {
   "metadata": {},
   "cell_type": "markdown",
   "source": "Continuing our example for the late start high schools, if you build a series of 1-d linear regression models, one for each numeric variable:"
  },
  {
   "metadata": {
    "ExecuteTime": {
     "end_time": "2025-02-28T00:45:48.634835Z",
     "start_time": "2025-02-28T00:45:48.631536Z"
    }
   },
   "cell_type": "code",
   "source": [
    "x_cols = ['language_count', 'ap_count', 'pct_stu_safe', 'attendance_rate', 'college_career_rate']\n",
    "coeff = {}\n",
    "for col in x_cols:\n",
    "    coeff[col] = compute_lin_reg(x_train[col], y_train)\n",
    "    print(f'For {col}, theta_0 = {coeff[col][0]} and theta_1 = {coeff[col][1]}')"
   ],
   "outputs": [
    {
     "name": "stdout",
     "output_type": "stream",
     "text": [
      "For language_count, theta_0 = 0.821969696969697 and theta_1 = 0.00872159090909091\n",
      "For ap_count, theta_0 = 0.829236532747707 and theta_1 = 0.0021805968221160063\n",
      "For pct_stu_safe, theta_0 = 0.3259265268281376 and theta_1 = 0.5869741569127362\n",
      "For attendance_rate, theta_0 = -0.4082696527688132 and theta_1 = 1.4385568607202786\n",
      "For college_career_rate, theta_0 = 0.4664578537197912 and theta_1 = 0.5575944180964912\n"
     ]
    }
   ],
   "execution_count": 136
  },
  {
   "metadata": {},
   "cell_type": "markdown",
   "source": "We can now use the coefficients of the models to make predictions."
  },
  {
   "metadata": {},
   "cell_type": "markdown",
   "source": [
    "## Section 3: Model Evaluation\n",
    "### Example Model Comparison\n",
    "```\n",
    "                     train_loss  test_loss\n",
    "language_count         0.015100   0.010848\n",
    "ap_count               0.015115   0.009148\n",
    "pct_stu_safe           0.013934   0.005853\n",
    "attendance_rate        0.008011   0.006838\n",
    "college_career_rate    0.005345   0.001625\n",
    "```"
   ]
  },
  {
   "metadata": {
    "ExecuteTime": {
     "end_time": "2025-02-28T00:45:48.643355Z",
     "start_time": "2025-02-28T00:45:48.641282Z"
    }
   },
   "cell_type": "code",
   "source": [
    "# Section 3: Model Evaluation\n",
    "\n",
    "def predict(x, theta_0, theta_1):\n",
    "    \"\"\"Make predictions using linear model.\"\"\"\n",
    "    return theta_0 + theta_1 * x\n",
    "\n",
    "def mse_loss(y_actual, y_estimate):\n",
    "    \"\"\"Compute Mean Squared Error.\"\"\"\n",
    "    return ((y_actual - y_estimate) ** 2).mean()\n",
    "\n",
    "def rmse_loss(y_actual, y_estimate):\n",
    "    \"\"\"Compute Root Mean Squared Error.\"\"\"\n",
    "    return mse_loss(y_actual, y_estimate) ** 0.5\n",
    "\n",
    "def compute_loss(y_actual, y_estimate, loss_fnc=mse_loss):\n",
    "    \"\"\"Compute specified loss function.\"\"\"\n",
    "    return loss_fnc(y_actual, y_estimate)\n"
   ],
   "outputs": [],
   "execution_count": 137
  },
  {
   "metadata": {},
   "cell_type": "markdown",
   "source": "Once you have implemented those functions, you can check your work by continuing your example of the set of models to predict graduation rate. Check which explanatory variable did best on the testing data:"
  },
  {
   "metadata": {
    "ExecuteTime": {
     "end_time": "2025-02-28T00:45:48.655802Z",
     "start_time": "2025-02-28T00:45:48.651872Z"
    }
   },
   "cell_type": "code",
   "source": [
    "# loop through all the models, computing train and test loss\n",
    "y_train_predictions = {}\n",
    "y_test_predictions = {}\n",
    "train_losses = {}\n",
    "test_losses = {}\n",
    "min_loss = 1e09\n",
    "for col in x_cols:\n",
    "    theta_0, theta_1 = coeff[col]\n",
    "    y_train_predictions[col] = predict(x_train[col], theta_0, theta_1)\n",
    "    y_test_predictions[col] = predict(x_test[col], theta_0, theta_1)\n",
    "\n",
    "    train_losses[col] = compute_loss(y_train, y_train_predictions[col])\n",
    "    test_losses[col] = compute_loss(y_test, y_test_predictions[col])\n",
    "\n",
    "# arrange models' train and test losses into a dataframe\n",
    "losses_df = pd.DataFrame(\n",
    "    index=x_cols,\n",
    "    data={\n",
    "        \"train_loss\": train_losses.values(),\n",
    "        \"test_loss\": test_losses.values(),\n",
    "    }\n",
    ")\n",
    "print(losses_df)"
   ],
   "outputs": [
    {
     "name": "stdout",
     "output_type": "stream",
     "text": [
      "                     train_loss  test_loss\n",
      "language_count         0.015100   0.010848\n",
      "ap_count               0.015115   0.009148\n",
      "pct_stu_safe           0.013934   0.005853\n",
      "attendance_rate        0.008011   0.006838\n",
      "college_career_rate    0.005345   0.001625\n"
     ]
    }
   ],
   "execution_count": 138
  },
  {
   "metadata": {},
   "cell_type": "markdown",
   "source": [
    "## Visualization Example\n",
    "```python\n",
    "import matplotlib.pyplot as plt\n",
    "def graph_data(df, col, coeff):\n",
    "    plt.scatter(df[col], df['graduation_rate'], label='Actual')\n",
    "    predict_grad = predict(df[col], coeff[col][0], coeff[col][1])\n",
    "    plt.scatter(df[col], predict_grad, label='Predicted')\n",
    "    plt.title(f'{col} vs graduation_rate')\n",
    "    plt.ylabel('graduation_rate')\n",
    "    plt.xlabel(f'{col}')\n",
    "    plt.legend()\n",
    "    plt.show()\n",
    "\n",
    "# graph_data(late_df, 'college_career_rate', coeff)\n",
    "```\n",
    "Expected output shows actual vs predicted values plot."
   ]
  },
  {
   "metadata": {
    "ExecuteTime": {
     "end_time": "2025-02-28T00:45:48.730854Z",
     "start_time": "2025-02-28T00:45:48.670763Z"
    }
   },
   "cell_type": "code",
   "source": [
    "import matplotlib.pyplot as plt\n",
    "\n",
    "def graph_data(df, col, coeff):\n",
    "\n",
    "    plt.scatter(df[col], df['graduation_rate'], label='Actual')\n",
    "    predict_grad = predict(df[col], coeff[col][0], coeff[col][1])\n",
    "    plt.scatter(df[col], predict_grad, label='Predicted')\n",
    "    plt.title(f'{col} vs graduation_rate')\n",
    "    plt.ylabel('graduation_rate')\n",
    "    plt.xlabel(f'{col}')\n",
    "    plt.legend()\n",
    "    plt.show()\n",
    "\n",
    "graph_data(late_df, 'college_career_rate', coeff)"
   ],
   "outputs": [
    {
     "data": {
      "text/plain": [
       "<Figure size 640x480 with 1 Axes>"
      ],
      "image/png": "[encoded data removed]"
     },
     "metadata": {},
     "output_type": "display_data"
    }
   ],
   "execution_count": 139
  },
  {
   "metadata": {},
   "cell_type": "markdown",
   "source": [
    "## Grading Rubric\n",
    "```\n",
    "Code linting -- 10 points\n",
    "Section 1: Data ingestion and feature  -- 40 points\n",
    "Section 2: Training a linear regressor -- 30 points\n",
    "Section 3: Model evaluation -- 20 points\n",
    "```"
   ]
  },
  {
   "metadata": {},
   "cell_type": "markdown",
   "source": [
    "## Submission Notes\n",
    "- Submit via Gradescope as `.ipynb` or `.py`\n",
    "- All code outside functions must be commented out or wrapped in `main()`\n",
    "- Test locally with sample datasets before submitting"
   ]
  }
 ],
 "metadata": {
  "kernelspec": {
   "display_name": "Python 3",
   "language": "python",
   "name": "python3"
  },
  "language_info": {
   "codemirror_mode": {
    "name": "ipython",
    "version": 3
   },
   "file_extension": ".py",
   "mimetype": "text/x-python",
   "name": "python",
   "nbconvert_exporter": "python",
   "pygments_lexer": "ipython3",
   "version": "3.9.7"
  }
 },
 "nbformat": 4,
 "nbformat_minor": 4
}
